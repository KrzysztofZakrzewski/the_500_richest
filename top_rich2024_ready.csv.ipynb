{
 "cells": [
  {
   "cell_type": "code",
   "execution_count": 3,
   "id": "33521fe2-383a-49ca-ba7c-64d9e75ff45f",
   "metadata": {},
   "outputs": [],
   "source": [
    "import pandas as pd\n",
    "from decimal import Decimal\n",
    "import numpy as np\n",
    "import matplotlib.pyplot as plt\n",
    "import seaborn as sns\n",
    "import plotly.express as px\n",
    "pd.options.display.float_format = '{:,.2f}'.format"
   ]
  },
  {
   "cell_type": "markdown",
   "id": "0fe57671-4fa6-48b0-9e40-9f3c2418e57f",
   "metadata": {},
   "source": [
    "# About Dataset\n",
    "Bloomberg Billionaires Index\n",
    "View profiles for each of the world’s 500 richest people, see the biggest movers, and compare fortunes or track returns.?\n",
    "As of December 12, 2024\n",
    "The Bloomberg Billionaires Index is a daily ranking of the world’s richest people. Details about the calculations are provided in the net worth analysis on each billionaire’s profile page. The figures are updated at the close of every trading day in New York.\n",
    "Rank Name Total net worth  **\"Last change\"**  **\"YTD change\"** **\"Country / Region\"**\n",
    "\n",
    "Sourse:\n",
    "https://www.kaggle.com/datasets/mahmoudredagamail/the-worlds-500-most-powerful-businessmen"
   ]
  },
  {
   "cell_type": "code",
   "execution_count": 4,
   "id": "0c57f0ed-cd95-4029-ac0d-0ebe2bfbcbcb",
   "metadata": {},
   "outputs": [
    {
     "data": {
      "text/html": [
       "<div>\n",
       "<style scoped>\n",
       "    .dataframe tbody tr th:only-of-type {\n",
       "        vertical-align: middle;\n",
       "    }\n",
       "\n",
       "    .dataframe tbody tr th {\n",
       "        vertical-align: top;\n",
       "    }\n",
       "\n",
       "    .dataframe thead th {\n",
       "        text-align: right;\n",
       "    }\n",
       "</style>\n",
       "<table border=\"1\" class=\"dataframe\">\n",
       "  <thead>\n",
       "    <tr style=\"text-align: right;\">\n",
       "      <th></th>\n",
       "      <th>Rank</th>\n",
       "      <th>Name</th>\n",
       "      <th>Total net worth</th>\n",
       "      <th>$ Last change</th>\n",
       "      <th>$ YTD change</th>\n",
       "      <th>Country / Region</th>\n",
       "      <th>Industry</th>\n",
       "    </tr>\n",
       "  </thead>\n",
       "  <tbody>\n",
       "    <tr>\n",
       "      <th>0</th>\n",
       "      <td>1</td>\n",
       "      <td>Elon Musk</td>\n",
       "      <td>447,000,000,000.00</td>\n",
       "      <td>62,800,000,000.00</td>\n",
       "      <td>218,000,000,000.00</td>\n",
       "      <td>United States</td>\n",
       "      <td>Technology</td>\n",
       "    </tr>\n",
       "    <tr>\n",
       "      <th>1</th>\n",
       "      <td>2</td>\n",
       "      <td>Jeff Bezos</td>\n",
       "      <td>249,000,000,000.00</td>\n",
       "      <td>4,650,000,000.00</td>\n",
       "      <td>72,100,000,000.00</td>\n",
       "      <td>United States</td>\n",
       "      <td>Technology</td>\n",
       "    </tr>\n",
       "    <tr>\n",
       "      <th>2</th>\n",
       "      <td>3</td>\n",
       "      <td>Mark Zuckerberg</td>\n",
       "      <td>224,000,000,000.00</td>\n",
       "      <td>4,580,000,000.00</td>\n",
       "      <td>95,500,000,000.00</td>\n",
       "      <td>United States</td>\n",
       "      <td>Technology</td>\n",
       "    </tr>\n",
       "    <tr>\n",
       "      <th>3</th>\n",
       "      <td>4</td>\n",
       "      <td>Larry Ellison</td>\n",
       "      <td>198,000,000,000.00</td>\n",
       "      <td>1,630,000,000.00</td>\n",
       "      <td>75,300,000,000.00</td>\n",
       "      <td>United States</td>\n",
       "      <td>Technology</td>\n",
       "    </tr>\n",
       "    <tr>\n",
       "      <th>4</th>\n",
       "      <td>5</td>\n",
       "      <td>Bernard Arnault</td>\n",
       "      <td>181,000,000,000.00</td>\n",
       "      <td>1,320,000,000.00</td>\n",
       "      <td>-26,400,000,000.00</td>\n",
       "      <td>France</td>\n",
       "      <td>Consumer</td>\n",
       "    </tr>\n",
       "    <tr>\n",
       "      <th>...</th>\n",
       "      <td>...</td>\n",
       "      <td>...</td>\n",
       "      <td>...</td>\n",
       "      <td>...</td>\n",
       "      <td>...</td>\n",
       "      <td>...</td>\n",
       "      <td>...</td>\n",
       "    </tr>\n",
       "    <tr>\n",
       "      <th>495</th>\n",
       "      <td>496</td>\n",
       "      <td>Igor Bukhman</td>\n",
       "      <td>6,410,000,000.00</td>\n",
       "      <td>-27,000,000.00</td>\n",
       "      <td>2,860,000,000.00</td>\n",
       "      <td>Israel</td>\n",
       "      <td>Technology</td>\n",
       "    </tr>\n",
       "    <tr>\n",
       "      <th>496</th>\n",
       "      <td>497</td>\n",
       "      <td>Dmitry Bukhman</td>\n",
       "      <td>6,410,000,000.00</td>\n",
       "      <td>-27,000,000.00</td>\n",
       "      <td>2,860,000,000.00</td>\n",
       "      <td>Israel</td>\n",
       "      <td>Technology</td>\n",
       "    </tr>\n",
       "    <tr>\n",
       "      <th>497</th>\n",
       "      <td>498</td>\n",
       "      <td>Renate Reimann-Haas</td>\n",
       "      <td>6,380,000,000.00</td>\n",
       "      <td>0.00</td>\n",
       "      <td>2,350,000,000.00</td>\n",
       "      <td>Austria</td>\n",
       "      <td>Retail</td>\n",
       "    </tr>\n",
       "    <tr>\n",
       "      <th>498</th>\n",
       "      <td>499</td>\n",
       "      <td>Matthias Reimann-Andersen</td>\n",
       "      <td>6,380,000,000.00</td>\n",
       "      <td>0.00</td>\n",
       "      <td>2,350,000,000.00</td>\n",
       "      <td>Austria</td>\n",
       "      <td>Retail</td>\n",
       "    </tr>\n",
       "    <tr>\n",
       "      <th>499</th>\n",
       "      <td>500</td>\n",
       "      <td>Stefan Reimann-Andersen</td>\n",
       "      <td>6,380,000,000.00</td>\n",
       "      <td>0.00</td>\n",
       "      <td>2,350,000,000.00</td>\n",
       "      <td>Austria</td>\n",
       "      <td>Retail</td>\n",
       "    </tr>\n",
       "  </tbody>\n",
       "</table>\n",
       "<p>500 rows × 7 columns</p>\n",
       "</div>"
      ],
      "text/plain": [
       "     Rank                       Name    Total net worth     $ Last change  \\\n",
       "0       1                  Elon Musk 447,000,000,000.00 62,800,000,000.00   \n",
       "1       2                 Jeff Bezos 249,000,000,000.00  4,650,000,000.00   \n",
       "2       3            Mark Zuckerberg 224,000,000,000.00  4,580,000,000.00   \n",
       "3       4              Larry Ellison 198,000,000,000.00  1,630,000,000.00   \n",
       "4       5            Bernard Arnault 181,000,000,000.00  1,320,000,000.00   \n",
       "..    ...                        ...                ...               ...   \n",
       "495   496               Igor Bukhman   6,410,000,000.00    -27,000,000.00   \n",
       "496   497             Dmitry Bukhman   6,410,000,000.00    -27,000,000.00   \n",
       "497   498        Renate Reimann-Haas   6,380,000,000.00              0.00   \n",
       "498   499  Matthias Reimann-Andersen   6,380,000,000.00              0.00   \n",
       "499   500    Stefan Reimann-Andersen   6,380,000,000.00              0.00   \n",
       "\n",
       "          $ YTD change Country / Region    Industry  \n",
       "0   218,000,000,000.00    United States  Technology  \n",
       "1    72,100,000,000.00    United States  Technology  \n",
       "2    95,500,000,000.00    United States  Technology  \n",
       "3    75,300,000,000.00    United States  Technology  \n",
       "4   -26,400,000,000.00           France    Consumer  \n",
       "..                 ...              ...         ...  \n",
       "495   2,860,000,000.00           Israel  Technology  \n",
       "496   2,860,000,000.00           Israel  Technology  \n",
       "497   2,350,000,000.00          Austria      Retail  \n",
       "498   2,350,000,000.00          Austria      Retail  \n",
       "499   2,350,000,000.00          Austria      Retail  \n",
       "\n",
       "[500 rows x 7 columns]"
      ]
     },
     "execution_count": 4,
     "metadata": {},
     "output_type": "execute_result"
    }
   ],
   "source": [
    "df_ready = pd.read_csv('top_rich2024_ready.csv', sep=',')\n",
    "df_ready"
   ]
  },
  {
   "cell_type": "markdown",
   "id": "d18dcf37-4aa8-4629-8538-bca59d2fb06c",
   "metadata": {},
   "source": [
    "# STEP 1.1: General Overview of the Data"
   ]
  },
  {
   "cell_type": "markdown",
   "id": "852101c9-d776-4932-b7c8-0cd368ffa6cf",
   "metadata": {},
   "source": [
    "### Basic info about data"
   ]
  },
  {
   "cell_type": "code",
   "execution_count": 5,
   "id": "20c1e1e1-486a-4452-9371-20cfb468dbe8",
   "metadata": {},
   "outputs": [
    {
     "name": "stdout",
     "output_type": "stream",
     "text": [
      "<class 'pandas.core.frame.DataFrame'>\n",
      "RangeIndex: 500 entries, 0 to 499\n",
      "Data columns (total 7 columns):\n",
      " #   Column            Non-Null Count  Dtype  \n",
      "---  ------            --------------  -----  \n",
      " 0   Rank              500 non-null    int64  \n",
      " 1   Name              500 non-null    object \n",
      " 2   Total net worth   500 non-null    float64\n",
      " 3   $ Last change     500 non-null    float64\n",
      " 4   $ YTD change      500 non-null    float64\n",
      " 5   Country / Region  500 non-null    object \n",
      " 6   Industry          500 non-null    object \n",
      "dtypes: float64(3), int64(1), object(3)\n",
      "memory usage: 27.5+ KB\n"
     ]
    }
   ],
   "source": [
    "df_ready.info()"
   ]
  },
  {
   "cell_type": "code",
   "execution_count": 6,
   "id": "a77aeb48-f79f-470c-b4f5-4989fa06bb31",
   "metadata": {},
   "outputs": [
    {
     "name": "stdout",
     "output_type": "stream",
     "text": [
      "Columns: 7\n",
      "Rows: 500\n"
     ]
    }
   ],
   "source": [
    "num_columns = df_ready.shape[1]\n",
    "num_rows = df_ready.shape[0]\n",
    "print(f\"Columns: {num_columns}\\nRows: {num_rows}\")"
   ]
  },
  {
   "cell_type": "code",
   "execution_count": 7,
   "id": "fd64f05a-c5fa-4b70-92f2-61e0a62282c1",
   "metadata": {},
   "outputs": [
    {
     "data": {
      "text/html": [
       "<div>\n",
       "<style scoped>\n",
       "    .dataframe tbody tr th:only-of-type {\n",
       "        vertical-align: middle;\n",
       "    }\n",
       "\n",
       "    .dataframe tbody tr th {\n",
       "        vertical-align: top;\n",
       "    }\n",
       "\n",
       "    .dataframe thead th {\n",
       "        text-align: right;\n",
       "    }\n",
       "</style>\n",
       "<table border=\"1\" class=\"dataframe\">\n",
       "  <thead>\n",
       "    <tr style=\"text-align: right;\">\n",
       "      <th></th>\n",
       "      <th>Rank</th>\n",
       "      <th>Name</th>\n",
       "      <th>Total net worth</th>\n",
       "      <th>$ Last change</th>\n",
       "      <th>$ YTD change</th>\n",
       "      <th>Country / Region</th>\n",
       "      <th>Industry</th>\n",
       "    </tr>\n",
       "  </thead>\n",
       "  <tbody>\n",
       "    <tr>\n",
       "      <th>287</th>\n",
       "      <td>288</td>\n",
       "      <td>Steven Spielberg</td>\n",
       "      <td>9,830,000,000.00</td>\n",
       "      <td>-50,000,000.00</td>\n",
       "      <td>1,430,000,000.00</td>\n",
       "      <td>United States</td>\n",
       "      <td>Entertainment</td>\n",
       "    </tr>\n",
       "    <tr>\n",
       "      <th>221</th>\n",
       "      <td>222</td>\n",
       "      <td>Patrick Ryan</td>\n",
       "      <td>11,900,000,000.00</td>\n",
       "      <td>28,500,000.00</td>\n",
       "      <td>3,700,000,000.00</td>\n",
       "      <td>United States</td>\n",
       "      <td>Services</td>\n",
       "    </tr>\n",
       "    <tr>\n",
       "      <th>460</th>\n",
       "      <td>461</td>\n",
       "      <td>Ruan Xueping</td>\n",
       "      <td>6,820,000,000.00</td>\n",
       "      <td>45,200,000.00</td>\n",
       "      <td>900,000,000.00</td>\n",
       "      <td>China</td>\n",
       "      <td>Industrial</td>\n",
       "    </tr>\n",
       "    <tr>\n",
       "      <th>307</th>\n",
       "      <td>308</td>\n",
       "      <td>John Doerr</td>\n",
       "      <td>9,280,000,000.00</td>\n",
       "      <td>399,000,000.00</td>\n",
       "      <td>2,470,000,000.00</td>\n",
       "      <td>United States</td>\n",
       "      <td>Finance</td>\n",
       "    </tr>\n",
       "    <tr>\n",
       "      <th>440</th>\n",
       "      <td>441</td>\n",
       "      <td>Robin Li</td>\n",
       "      <td>7,120,000,000.00</td>\n",
       "      <td>10,600,000.00</td>\n",
       "      <td>-1,800,000,000.00</td>\n",
       "      <td>China</td>\n",
       "      <td>Technology</td>\n",
       "    </tr>\n",
       "    <tr>\n",
       "      <th>274</th>\n",
       "      <td>275</td>\n",
       "      <td>Andrey Guryev</td>\n",
       "      <td>10,300,000,000.00</td>\n",
       "      <td>-120,000,000.00</td>\n",
       "      <td>509,000,000.00</td>\n",
       "      <td>Russian Federation</td>\n",
       "      <td>Industrial</td>\n",
       "    </tr>\n",
       "    <tr>\n",
       "      <th>89</th>\n",
       "      <td>90</td>\n",
       "      <td>Manuel Villar</td>\n",
       "      <td>22,300,000,000.00</td>\n",
       "      <td>-120,000,000.00</td>\n",
       "      <td>13,200,000,000.00</td>\n",
       "      <td>Philippines</td>\n",
       "      <td>Diversified</td>\n",
       "    </tr>\n",
       "    <tr>\n",
       "      <th>315</th>\n",
       "      <td>316</td>\n",
       "      <td>Richard White</td>\n",
       "      <td>9,020,000,000.00</td>\n",
       "      <td>-266,000,000.00</td>\n",
       "      <td>2,760,000,000.00</td>\n",
       "      <td>Australia</td>\n",
       "      <td>Technology</td>\n",
       "    </tr>\n",
       "    <tr>\n",
       "      <th>414</th>\n",
       "      <td>415</td>\n",
       "      <td>Tom Morris</td>\n",
       "      <td>7,400,000,000.00</td>\n",
       "      <td>-43,700,000.00</td>\n",
       "      <td>256,000,000.00</td>\n",
       "      <td>United Kingdom</td>\n",
       "      <td>Retail</td>\n",
       "    </tr>\n",
       "    <tr>\n",
       "      <th>465</th>\n",
       "      <td>466</td>\n",
       "      <td>Eric Douglas</td>\n",
       "      <td>6,770,000,000.00</td>\n",
       "      <td>14,200,000.00</td>\n",
       "      <td>242,000,000.00</td>\n",
       "      <td>Sweden</td>\n",
       "      <td>Diversified</td>\n",
       "    </tr>\n",
       "  </tbody>\n",
       "</table>\n",
       "</div>"
      ],
      "text/plain": [
       "     Rank              Name   Total net worth   $ Last change  \\\n",
       "287   288  Steven Spielberg  9,830,000,000.00  -50,000,000.00   \n",
       "221   222      Patrick Ryan 11,900,000,000.00   28,500,000.00   \n",
       "460   461      Ruan Xueping  6,820,000,000.00   45,200,000.00   \n",
       "307   308        John Doerr  9,280,000,000.00  399,000,000.00   \n",
       "440   441          Robin Li  7,120,000,000.00   10,600,000.00   \n",
       "274   275     Andrey Guryev 10,300,000,000.00 -120,000,000.00   \n",
       "89     90     Manuel Villar 22,300,000,000.00 -120,000,000.00   \n",
       "315   316     Richard White  9,020,000,000.00 -266,000,000.00   \n",
       "414   415        Tom Morris  7,400,000,000.00  -43,700,000.00   \n",
       "465   466      Eric Douglas  6,770,000,000.00   14,200,000.00   \n",
       "\n",
       "         $ YTD change    Country / Region       Industry  \n",
       "287  1,430,000,000.00       United States  Entertainment  \n",
       "221  3,700,000,000.00       United States       Services  \n",
       "460    900,000,000.00               China     Industrial  \n",
       "307  2,470,000,000.00       United States        Finance  \n",
       "440 -1,800,000,000.00               China     Technology  \n",
       "274    509,000,000.00  Russian Federation     Industrial  \n",
       "89  13,200,000,000.00         Philippines    Diversified  \n",
       "315  2,760,000,000.00           Australia     Technology  \n",
       "414    256,000,000.00      United Kingdom         Retail  \n",
       "465    242,000,000.00              Sweden    Diversified  "
      ]
     },
     "execution_count": 7,
     "metadata": {},
     "output_type": "execute_result"
    }
   ],
   "source": [
    "df_ready.sample(10)"
   ]
  },
  {
   "cell_type": "markdown",
   "id": "4b61972f-282b-42a3-92ba-9defcb4587f8",
   "metadata": {},
   "source": [
    "### Unique values"
   ]
  },
  {
   "cell_type": "code",
   "execution_count": 8,
   "id": "eb7d93d5-6a63-4328-aada-98a4c191f805",
   "metadata": {},
   "outputs": [
    {
     "data": {
      "text/plain": [
       "Rank                500\n",
       "Name                500\n",
       "Total net worth     318\n",
       "$ Last change       373\n",
       "$ YTD change        412\n",
       "Country / Region     48\n",
       "Industry             14\n",
       "dtype: int64"
      ]
     },
     "execution_count": 8,
     "metadata": {},
     "output_type": "execute_result"
    }
   ],
   "source": [
    "df_ready.nunique()"
   ]
  },
  {
   "cell_type": "markdown",
   "id": "93f19750-75ed-48c6-9810-1f5a8ce70e09",
   "metadata": {},
   "source": [
    "### Unique values in total"
   ]
  },
  {
   "cell_type": "code",
   "execution_count": 9,
   "id": "bef9158a-47bf-46b8-a36e-f7a30ebf6b35",
   "metadata": {},
   "outputs": [
    {
     "data": {
      "text/plain": [
       "2165"
      ]
     },
     "execution_count": 9,
     "metadata": {},
     "output_type": "execute_result"
    }
   ],
   "source": [
    "df_ready.nunique().sum()"
   ]
  },
  {
   "cell_type": "markdown",
   "id": "f2f9d24c-cf81-4a62-81da-22a81c10ee1f",
   "metadata": {},
   "source": [
    "### Missing values"
   ]
  },
  {
   "cell_type": "code",
   "execution_count": 10,
   "id": "0a94b4b6-0523-4d3a-ad91-a7d139e4e1b0",
   "metadata": {},
   "outputs": [
    {
     "data": {
      "text/plain": [
       "Rank                0\n",
       "Name                0\n",
       "Total net worth     0\n",
       "$ Last change       0\n",
       "$ YTD change        0\n",
       "Country / Region    0\n",
       "Industry            0\n",
       "dtype: int64"
      ]
     },
     "execution_count": 10,
     "metadata": {},
     "output_type": "execute_result"
    }
   ],
   "source": [
    "df_ready.isnull().sum()"
   ]
  },
  {
   "cell_type": "markdown",
   "id": "1e7f1182-75af-4b15-96f3-360bbfe28af5",
   "metadata": {},
   "source": [
    "### Duplicats"
   ]
  },
  {
   "cell_type": "code",
   "execution_count": 11,
   "id": "acd724ec-b20b-4b57-a3a4-e94605011cd2",
   "metadata": {},
   "outputs": [
    {
     "data": {
      "text/plain": [
       "0"
      ]
     },
     "execution_count": 11,
     "metadata": {},
     "output_type": "execute_result"
    }
   ],
   "source": [
    "df_ready.duplicated().sum()"
   ]
  },
  {
   "cell_type": "markdown",
   "id": "fd98f71d-ef94-4fb9-9f31-7f8a15933d21",
   "metadata": {},
   "source": [
    "### Descriptive Statistics"
   ]
  },
  {
   "cell_type": "code",
   "execution_count": 12,
   "id": "40d71d6c-1df5-40c3-9580-5f32a4737133",
   "metadata": {},
   "outputs": [
    {
     "data": {
      "text/html": [
       "<div>\n",
       "<style scoped>\n",
       "    .dataframe tbody tr th:only-of-type {\n",
       "        vertical-align: middle;\n",
       "    }\n",
       "\n",
       "    .dataframe tbody tr th {\n",
       "        vertical-align: top;\n",
       "    }\n",
       "\n",
       "    .dataframe thead th {\n",
       "        text-align: right;\n",
       "    }\n",
       "</style>\n",
       "<table border=\"1\" class=\"dataframe\">\n",
       "  <thead>\n",
       "    <tr style=\"text-align: right;\">\n",
       "      <th></th>\n",
       "      <th>count</th>\n",
       "      <th>mean</th>\n",
       "      <th>std</th>\n",
       "      <th>min</th>\n",
       "      <th>25%</th>\n",
       "      <th>50%</th>\n",
       "      <th>75%</th>\n",
       "      <th>max</th>\n",
       "    </tr>\n",
       "  </thead>\n",
       "  <tbody>\n",
       "    <tr>\n",
       "      <th>Rank</th>\n",
       "      <td>500.00</td>\n",
       "      <td>250.50</td>\n",
       "      <td>144.48</td>\n",
       "      <td>1.00</td>\n",
       "      <td>125.75</td>\n",
       "      <td>250.50</td>\n",
       "      <td>375.25</td>\n",
       "      <td>500.00</td>\n",
       "    </tr>\n",
       "    <tr>\n",
       "      <th>Total net worth</th>\n",
       "      <td>500.00</td>\n",
       "      <td>20,108,140,000.00</td>\n",
       "      <td>33,819,339,606.25</td>\n",
       "      <td>6,380,000,000.00</td>\n",
       "      <td>7,927,500,000.00</td>\n",
       "      <td>11,000,000,000.00</td>\n",
       "      <td>17,525,000,000.00</td>\n",
       "      <td>447,000,000,000.00</td>\n",
       "    </tr>\n",
       "    <tr>\n",
       "      <th>$ Last change</th>\n",
       "      <td>500.00</td>\n",
       "      <td>194,894,426.00</td>\n",
       "      <td>2,902,651,485.03</td>\n",
       "      <td>-7,410,000,000.00</td>\n",
       "      <td>-59,300,000.00</td>\n",
       "      <td>0.00</td>\n",
       "      <td>64,725,000.00</td>\n",
       "      <td>62,800,000,000.00</td>\n",
       "    </tr>\n",
       "    <tr>\n",
       "      <th>$ YTD change</th>\n",
       "      <td>500.00</td>\n",
       "      <td>3,550,333,800.00</td>\n",
       "      <td>13,506,312,283.81</td>\n",
       "      <td>-26,400,000,000.00</td>\n",
       "      <td>323,500,000.00</td>\n",
       "      <td>1,395,000,000.00</td>\n",
       "      <td>3,150,000,000.00</td>\n",
       "      <td>218,000,000,000.00</td>\n",
       "    </tr>\n",
       "  </tbody>\n",
       "</table>\n",
       "</div>"
      ],
      "text/plain": [
       "                 count              mean               std                min  \\\n",
       "Rank            500.00            250.50            144.48               1.00   \n",
       "Total net worth 500.00 20,108,140,000.00 33,819,339,606.25   6,380,000,000.00   \n",
       "$ Last change   500.00    194,894,426.00  2,902,651,485.03  -7,410,000,000.00   \n",
       "$ YTD change    500.00  3,550,333,800.00 13,506,312,283.81 -26,400,000,000.00   \n",
       "\n",
       "                             25%               50%               75%  \\\n",
       "Rank                      125.75            250.50            375.25   \n",
       "Total net worth 7,927,500,000.00 11,000,000,000.00 17,525,000,000.00   \n",
       "$ Last change     -59,300,000.00              0.00     64,725,000.00   \n",
       "$ YTD change      323,500,000.00  1,395,000,000.00  3,150,000,000.00   \n",
       "\n",
       "                               max  \n",
       "Rank                        500.00  \n",
       "Total net worth 447,000,000,000.00  \n",
       "$ Last change    62,800,000,000.00  \n",
       "$ YTD change    218,000,000,000.00  "
      ]
     },
     "execution_count": 12,
     "metadata": {},
     "output_type": "execute_result"
    }
   ],
   "source": [
    "df_ready.describe().T"
   ]
  },
  {
   "cell_type": "markdown",
   "id": "034830e2-be58-44e7-ac3b-1354c4d35a4f",
   "metadata": {},
   "source": [
    "### Summary of the General Overview of the Data"
   ]
  },
  {
   "cell_type": "markdown",
   "id": "3da82b47-a7d9-41a2-a26d-47229f6f09e4",
   "metadata": {},
   "source": [
    "#### There is:\n",
    "Columns: 7\n",
    "Rows: 50\n",
    "\n",
    "- 500 names of Bilioners\n",
    "- 14 industrys\n",
    "- from 48 countrys or regions\n",
    "\n",
    "#### Required Column Transformation:\n",
    "The **Total net worth** values are provided as strings in a shortened format — they need to be modified to allow for computations and converted to a numeric type.\n",
    "\n",
    "We also observe negative values in **YTD** and **Last Change** — these should be converted to numeric type as well.\n",
    "\n",
    "- Nan: 0\n",
    "- Duplicated: 0\n",
    "- std is very hight in all columns about money"
   ]
  },
  {
   "cell_type": "markdown",
   "id": "1da951f8-4d33-447a-a31f-f2bc3229c637",
   "metadata": {},
   "source": [
    "# STEP 2: Single Variable Analysis"
   ]
  },
  {
   "cell_type": "markdown",
   "id": "dafabb95-4196-45e0-a072-3964da0e807b",
   "metadata": {},
   "source": [
    "### Barplot for Country / Region"
   ]
  },
  {
   "cell_type": "code",
   "execution_count": 13,
   "id": "ab0ec6f5-6dfb-49da-b2ad-ace50b8c6e20",
   "metadata": {},
   "outputs": [
    {
     "data": {
      "image/png": "[encoded data removed]",
      "text/plain": [
       "<Figure size 1200x600 with 1 Axes>"
      ]
     },
     "metadata": {},
     "output_type": "display_data"
    }
   ],
   "source": [
    "# Zliczanie wystąpień w kolumnie \"Industry\"\n",
    "country_counts = df_ready['Country / Region'].value_counts()\n",
    "\n",
    "# Obliczanie procentowego udziału\n",
    "total_records = len(df_ready)\n",
    "percentage = (country_counts / total_records) * 100\n",
    "\n",
    "# Tworzenie wykresu słupkowego z większym rozmiarem\n",
    "plt.figure(figsize=(12, 6))\n",
    "\n",
    "# Rysowanie wykresu z szerszymi słupkami\n",
    "bars = country_counts.plot(kind='bar', color='skyblue', width=0.7)  # Możesz dostosować width\n",
    "\n",
    "# Ustawienie wyższej skali na osi Y\n",
    "plt.ylim(0, country_counts.max() + 20)  # Zwiększenie maksymalnej wartości o 20\n",
    "\n",
    "# Dodanie tytułu i etykiet do osi\n",
    "plt.title('Number of records in each Country / Region', fontsize=16)\n",
    "plt.xlabel('Country / Region', fontsize=14)\n",
    "plt.ylabel('Number of records', fontsize=14)\n",
    "\n",
    "# Dodanie liczby rekordów i procentu nad słupkami\n",
    "for bar, count, perc in zip(bars.patches, country_counts, percentage):\n",
    "    yval = bar.get_height()\n",
    "    plt.text(bar.get_x() + bar.get_width()/2, yval + 5, f'{count}', ha='center', va='bottom', fontsize=12)\n",
    "    # plt.text(bar.get_x() + bar.get_width()/2, yval/2, f'{perc:.1f}%', ha='center', va='center', fontsize=12)\n",
    "\n",
    "# Wyświetlenie wykresu\n",
    "plt.xticks(rotation=90, fontsize=12)\n",
    "plt.yticks(fontsize=12)\n",
    "plt.tight_layout()\n",
    "plt.show()"
   ]
  },
  {
   "cell_type": "code",
   "execution_count": 14,
   "id": "138d7522-2a44-4acf-a5b2-2eae054560a9",
   "metadata": {},
   "outputs": [
    {
     "name": "stdout",
     "output_type": "stream",
     "text": [
      "Numbers of Countrys or Regions: 48\n"
     ]
    },
    {
     "data": {
      "text/plain": [
       "['Argentina',\n",
       " 'Australia',\n",
       " 'Austria',\n",
       " 'Brazil',\n",
       " 'Canada',\n",
       " 'Cayman Islands',\n",
       " 'Chile',\n",
       " 'China',\n",
       " 'Colombia',\n",
       " 'Cyprus',\n",
       " 'Czech Republic',\n",
       " 'Denmark',\n",
       " 'Egypt',\n",
       " 'France',\n",
       " 'Georgia',\n",
       " 'Germany',\n",
       " 'Greece',\n",
       " 'Hong Kong',\n",
       " 'India',\n",
       " 'Indonesia',\n",
       " 'Ireland',\n",
       " 'Isle of Man',\n",
       " 'Israel',\n",
       " 'Italy',\n",
       " 'Japan',\n",
       " 'Kazakhstan',\n",
       " 'Korea, Republic of',\n",
       " 'Liechtenstein',\n",
       " 'Malaysia',\n",
       " 'Mexico',\n",
       " 'Monaco',\n",
       " 'Netherlands',\n",
       " 'New Zealand',\n",
       " 'Nigeria',\n",
       " 'Norway',\n",
       " 'Philippines',\n",
       " 'Russian Federation',\n",
       " 'Saudi Arabia',\n",
       " 'Singapore',\n",
       " 'South Africa',\n",
       " 'Spain',\n",
       " 'Sweden',\n",
       " 'Switzerland',\n",
       " 'Taiwan',\n",
       " 'Thailand',\n",
       " 'United Arab Emirates',\n",
       " 'United Kingdom',\n",
       " 'United States']"
      ]
     },
     "execution_count": 14,
     "metadata": {},
     "output_type": "execute_result"
    }
   ],
   "source": [
    "country_list = df_ready['Country / Region'].drop_duplicates().sort_values().tolist()\n",
    "country_list_amount = df_ready['Country / Region'].nunique()\n",
    "print(f'Numbers of Countrys or Regions: {country_list_amount}')\n",
    "country_list"
   ]
  },
  {
   "cell_type": "markdown",
   "id": "ed2441e6-ae86-48c1-96f0-2df42c5dd829",
   "metadata": {},
   "source": [
    "### Barplot for Industry"
   ]
  },
  {
   "cell_type": "code",
   "execution_count": 15,
   "id": "a9512032-77b0-4d4b-95c7-af126ab8ab7d",
   "metadata": {},
   "outputs": [
    {
     "data": {
      "image/png": "[encoded data removed]",
      "text/plain": [
       "<Figure size 1200x600 with 1 Axes>"
      ]
     },
     "metadata": {},
     "output_type": "display_data"
    }
   ],
   "source": [
    "# Zliczanie wystąpień w kolumnie \"Industry\"\n",
    "industry_counts = df_ready['Industry'].value_counts()\n",
    "\n",
    "# Obliczanie procentowego udziału\n",
    "total_records = len(df_ready)\n",
    "percentage = (industry_counts / total_records) * 100\n",
    "\n",
    "# Tworzenie wykresu słupkowego z większym rozmiarem\n",
    "plt.figure(figsize=(12, 6))\n",
    "\n",
    "# Rysowanie wykresu z szerszymi słupkami\n",
    "bars = industry_counts.plot(kind='bar', color='skyblue', width=0.7)  # Możesz dostosować width\n",
    "\n",
    "# Ustawienie wyższej skali na osi Y\n",
    "plt.ylim(0, industry_counts.max() + 20)  # Zwiększenie maksymalnej wartości o 20\n",
    "\n",
    "# Dodanie tytułu i etykiet do osi\n",
    "plt.title('Number of Bilioners in each industry', fontsize=16)\n",
    "plt.xlabel('Industry', fontsize=14)\n",
    "plt.ylabel('Number of Bilioners', fontsize=14)\n",
    "\n",
    "# Dodanie liczby rekordów i procentu nad słupkami\n",
    "for bar, count, perc in zip(bars.patches, industry_counts, percentage):\n",
    "    yval = bar.get_height()\n",
    "    plt.text(bar.get_x() + bar.get_width()/2, yval + 5, f'{count}', ha='center', va='bottom', fontsize=12)\n",
    "    plt.text(bar.get_x() + bar.get_width()/2, yval/2, f'{perc:.1f}%', ha='center', va='center', fontsize=12)\n",
    "\n",
    "# Wyświetlenie wykresu\n",
    "plt.xticks(rotation=65, fontsize=12)\n",
    "plt.yticks(fontsize=12)\n",
    "plt.grid(axis='y', linestyle='--', alpha=0.7)\n",
    "plt.tight_layout()\n",
    "plt.show()"
   ]
  },
  {
   "cell_type": "markdown",
   "id": "bfae7ce8-45bc-4621-880d-4a559b00f24c",
   "metadata": {},
   "source": [
    "### Total Net Worth of Millionaires by Industry"
   ]
  },
  {
   "cell_type": "code",
   "execution_count": 16,
   "id": "4dcbf1c5-3b25-4278-beea-03b01d92f821",
   "metadata": {},
   "outputs": [
    {
     "data": {
      "text/html": [
       "<div>\n",
       "<style scoped>\n",
       "    .dataframe tbody tr th:only-of-type {\n",
       "        vertical-align: middle;\n",
       "    }\n",
       "\n",
       "    .dataframe tbody tr th {\n",
       "        vertical-align: top;\n",
       "    }\n",
       "\n",
       "    .dataframe thead th {\n",
       "        text-align: right;\n",
       "    }\n",
       "</style>\n",
       "<table border=\"1\" class=\"dataframe\">\n",
       "  <thead>\n",
       "    <tr style=\"text-align: right;\">\n",
       "      <th></th>\n",
       "      <th>Industry</th>\n",
       "      <th>Total net worth</th>\n",
       "    </tr>\n",
       "  </thead>\n",
       "  <tbody>\n",
       "    <tr>\n",
       "      <th>0</th>\n",
       "      <td>Technology</td>\n",
       "      <td>3,142,060,000,000.00</td>\n",
       "    </tr>\n",
       "    <tr>\n",
       "      <th>1</th>\n",
       "      <td>Industrial</td>\n",
       "      <td>970,580,000,000.00</td>\n",
       "    </tr>\n",
       "    <tr>\n",
       "      <th>2</th>\n",
       "      <td>Finance</td>\n",
       "      <td>945,160,000,000.00</td>\n",
       "    </tr>\n",
       "    <tr>\n",
       "      <th>3</th>\n",
       "      <td>Retail</td>\n",
       "      <td>917,680,000,000.00</td>\n",
       "    </tr>\n",
       "    <tr>\n",
       "      <th>4</th>\n",
       "      <td>Diversified</td>\n",
       "      <td>908,430,000,000.00</td>\n",
       "    </tr>\n",
       "    <tr>\n",
       "      <th>5</th>\n",
       "      <td>Consumer</td>\n",
       "      <td>819,120,000,000.00</td>\n",
       "    </tr>\n",
       "    <tr>\n",
       "      <th>6</th>\n",
       "      <td>Energy</td>\n",
       "      <td>495,920,000,000.00</td>\n",
       "    </tr>\n",
       "    <tr>\n",
       "      <th>7</th>\n",
       "      <td>Food &amp; Beverage</td>\n",
       "      <td>378,540,000,000.00</td>\n",
       "    </tr>\n",
       "    <tr>\n",
       "      <th>8</th>\n",
       "      <td>Health Care</td>\n",
       "      <td>344,130,000,000.00</td>\n",
       "    </tr>\n",
       "    <tr>\n",
       "      <th>9</th>\n",
       "      <td>Real Estate</td>\n",
       "      <td>306,780,000,000.00</td>\n",
       "    </tr>\n",
       "    <tr>\n",
       "      <th>10</th>\n",
       "      <td>Commodities</td>\n",
       "      <td>292,350,000,000.00</td>\n",
       "    </tr>\n",
       "    <tr>\n",
       "      <th>11</th>\n",
       "      <td>Media &amp; Telecom</td>\n",
       "      <td>214,820,000,000.00</td>\n",
       "    </tr>\n",
       "    <tr>\n",
       "      <th>12</th>\n",
       "      <td>Services</td>\n",
       "      <td>167,940,000,000.00</td>\n",
       "    </tr>\n",
       "    <tr>\n",
       "      <th>13</th>\n",
       "      <td>Entertainment</td>\n",
       "      <td>150,560,000,000.00</td>\n",
       "    </tr>\n",
       "  </tbody>\n",
       "</table>\n",
       "</div>"
      ],
      "text/plain": [
       "           Industry      Total net worth\n",
       "0        Technology 3,142,060,000,000.00\n",
       "1        Industrial   970,580,000,000.00\n",
       "2           Finance   945,160,000,000.00\n",
       "3            Retail   917,680,000,000.00\n",
       "4       Diversified   908,430,000,000.00\n",
       "5          Consumer   819,120,000,000.00\n",
       "6            Energy   495,920,000,000.00\n",
       "7   Food & Beverage   378,540,000,000.00\n",
       "8       Health Care   344,130,000,000.00\n",
       "9       Real Estate   306,780,000,000.00\n",
       "10      Commodities   292,350,000,000.00\n",
       "11  Media & Telecom   214,820,000,000.00\n",
       "12         Services   167,940,000,000.00\n",
       "13    Entertainment   150,560,000,000.00"
      ]
     },
     "execution_count": 16,
     "metadata": {},
     "output_type": "execute_result"
    }
   ],
   "source": [
    "total_net_worth_ind_df = df_ready.groupby('Industry', as_index=False)['Total net worth'].sum()\n",
    "total_net_worth_ind_df = total_net_worth_ind_df.sort_values(by='Total net worth', ascending=False).reset_index(drop=True)\n",
    "total_net_worth_ind_df"
   ]
  },
  {
   "cell_type": "code",
   "execution_count": 17,
   "id": "33f9b0fe-a2c8-4f10-840c-710deb03b3db",
   "metadata": {},
   "outputs": [
    {
     "data": {
      "image/png": "[encoded data removed]",
      "text/plain": [
       "<Figure size 1200x800 with 1 Axes>"
      ]
     },
     "metadata": {},
     "output_type": "display_data"
    }
   ],
   "source": [
    "# Zaokrąglenie wartości netto do miliardów\n",
    "total_net_worth_ind_df['Total net worth'] = (total_net_worth_ind_df['Total net worth'] / 1e9).round(1)\n",
    "\n",
    "# Obliczenie wartości procentowych\n",
    "total_net_worth_ind_df['Percentage'] = (total_net_worth_ind_df['Total net worth'] / total_net_worth_ind_df['Total net worth'].sum() * 100).round(1)\n",
    "\n",
    "# Tworzenie wykresu\n",
    "plt.figure(figsize=(12, 8))  # Rozmiar wykresu\n",
    "bars = plt.bar(total_net_worth_ind_df['Industry'], total_net_worth_ind_df['Total net worth'], color='teal')  # Słupki\n",
    "\n",
    "# Etykiety nad słupkami (wartości w miliardach)\n",
    "for bar, value in zip(bars, total_net_worth_ind_df['Total net worth']):\n",
    "    plt.text(bar.get_x() + bar.get_width() / 2, bar.get_height() + 1, f'{value}B', \n",
    "             ha='center', va='bottom', fontsize=10)\n",
    "\n",
    "# Etykiety wewnątrz słupków (wartości procentowe)\n",
    "for bar, pct in zip(bars, total_net_worth_ind_df['Percentage']):\n",
    "    plt.text(bar.get_x() + bar.get_width() / 2, bar.get_height() / 2, f'{pct}%', \n",
    "             ha='center', va='center', fontsize=10, color='white')\n",
    "\n",
    "# Dostosowanie osi X\n",
    "plt.xticks(rotation=45, ha='right')  # Obrót etykiet na osi X\n",
    "plt.title('Billionaires Total Net Worth by Industry (USD Billion)', fontsize=14)  # Tytuł wykresu\n",
    "plt.xlabel('Industry')  # Opis osi X\n",
    "plt.ylabel('Net Worth (in USD billion)')  # Opis osi Y\n",
    "\n",
    "# Skalowanie osi Y\n",
    "y_max = total_net_worth_ind_df['Total net worth'].max()\n",
    "plt.ylim(0, y_max * 1.15 if y_max > 0 else 1)  # Obsługa przypadku z zerową wartością max\n",
    "\n",
    "# Siatka pozioma\n",
    "plt.grid(axis='y', linestyle='--', alpha=0.7)\n",
    "\n",
    "# Optymalne rozmieszczenie elementów wykresu\n",
    "plt.tight_layout()\n",
    "\n",
    "# Wyświetlenie wykresu\n",
    "plt.show()"
   ]
  },
  {
   "cell_type": "markdown",
   "id": "09ef1a9c-6e4f-464d-9491-98314ad92a89",
   "metadata": {},
   "source": [
    "### YTD net income of Millionaires in a given industry"
   ]
  },
  {
   "cell_type": "code",
   "execution_count": 18,
   "id": "46b9ff89-cef7-4925-94b5-b0132185872d",
   "metadata": {},
   "outputs": [
    {
     "data": {
      "text/html": [
       "<div>\n",
       "<style scoped>\n",
       "    .dataframe tbody tr th:only-of-type {\n",
       "        vertical-align: middle;\n",
       "    }\n",
       "\n",
       "    .dataframe tbody tr th {\n",
       "        vertical-align: top;\n",
       "    }\n",
       "\n",
       "    .dataframe thead th {\n",
       "        text-align: right;\n",
       "    }\n",
       "</style>\n",
       "<table border=\"1\" class=\"dataframe\">\n",
       "  <thead>\n",
       "    <tr style=\"text-align: right;\">\n",
       "      <th></th>\n",
       "      <th>Industry</th>\n",
       "      <th>$ YTD change</th>\n",
       "    </tr>\n",
       "  </thead>\n",
       "  <tbody>\n",
       "    <tr>\n",
       "      <th>0</th>\n",
       "      <td>Technology</td>\n",
       "      <td>962,940,000,000.00</td>\n",
       "    </tr>\n",
       "    <tr>\n",
       "      <th>1</th>\n",
       "      <td>Retail</td>\n",
       "      <td>219,942,100,000.00</td>\n",
       "    </tr>\n",
       "    <tr>\n",
       "      <th>2</th>\n",
       "      <td>Finance</td>\n",
       "      <td>213,054,700,000.00</td>\n",
       "    </tr>\n",
       "    <tr>\n",
       "      <th>3</th>\n",
       "      <td>Industrial</td>\n",
       "      <td>104,392,000,000.00</td>\n",
       "    </tr>\n",
       "    <tr>\n",
       "      <th>4</th>\n",
       "      <td>Diversified</td>\n",
       "      <td>65,666,000,000.00</td>\n",
       "    </tr>\n",
       "    <tr>\n",
       "      <th>5</th>\n",
       "      <td>Energy</td>\n",
       "      <td>46,957,000,000.00</td>\n",
       "    </tr>\n",
       "    <tr>\n",
       "      <th>6</th>\n",
       "      <td>Health Care</td>\n",
       "      <td>44,356,600,000.00</td>\n",
       "    </tr>\n",
       "    <tr>\n",
       "      <th>7</th>\n",
       "      <td>Services</td>\n",
       "      <td>36,488,000,000.00</td>\n",
       "    </tr>\n",
       "    <tr>\n",
       "      <th>8</th>\n",
       "      <td>Real Estate</td>\n",
       "      <td>31,755,000,000.00</td>\n",
       "    </tr>\n",
       "    <tr>\n",
       "      <th>9</th>\n",
       "      <td>Media &amp; Telecom</td>\n",
       "      <td>29,018,000,000.00</td>\n",
       "    </tr>\n",
       "    <tr>\n",
       "      <th>10</th>\n",
       "      <td>Entertainment</td>\n",
       "      <td>21,596,000,000.00</td>\n",
       "    </tr>\n",
       "    <tr>\n",
       "      <th>11</th>\n",
       "      <td>Food &amp; Beverage</td>\n",
       "      <td>5,649,000,000.00</td>\n",
       "    </tr>\n",
       "    <tr>\n",
       "      <th>12</th>\n",
       "      <td>Consumer</td>\n",
       "      <td>-3,236,000,000.00</td>\n",
       "    </tr>\n",
       "    <tr>\n",
       "      <th>13</th>\n",
       "      <td>Commodities</td>\n",
       "      <td>-3,411,500,000.00</td>\n",
       "    </tr>\n",
       "  </tbody>\n",
       "</table>\n",
       "</div>"
      ],
      "text/plain": [
       "           Industry       $ YTD change\n",
       "0        Technology 962,940,000,000.00\n",
       "1            Retail 219,942,100,000.00\n",
       "2           Finance 213,054,700,000.00\n",
       "3        Industrial 104,392,000,000.00\n",
       "4       Diversified  65,666,000,000.00\n",
       "5            Energy  46,957,000,000.00\n",
       "6       Health Care  44,356,600,000.00\n",
       "7          Services  36,488,000,000.00\n",
       "8       Real Estate  31,755,000,000.00\n",
       "9   Media & Telecom  29,018,000,000.00\n",
       "10    Entertainment  21,596,000,000.00\n",
       "11  Food & Beverage   5,649,000,000.00\n",
       "12         Consumer  -3,236,000,000.00\n",
       "13      Commodities  -3,411,500,000.00"
      ]
     },
     "execution_count": 18,
     "metadata": {},
     "output_type": "execute_result"
    }
   ],
   "source": [
    "ytd_net_income_ind_df = df_ready.groupby('Industry', as_index=False)['$ YTD change'].sum()\n",
    "ytd_net_income_ind_df = ytd_net_income_ind_df.sort_values(by='$ YTD change', ascending=False).reset_index(drop=True)\n",
    "ytd_net_income_ind_df"
   ]
  },
  {
   "cell_type": "code",
   "execution_count": 19,
   "id": "de024c0d-bded-4384-ae80-89a8fad261a8",
   "metadata": {},
   "outputs": [
    {
     "data": {
      "image/png": "[encoded data removed]",
      "text/plain": [
       "<Figure size 1600x800 with 1 Axes>"
      ]
     },
     "metadata": {},
     "output_type": "display_data"
    }
   ],
   "source": [
    "# Przekształcenie kolumny na miliardy\n",
    "ytd_net_income_ind_df['$ YTD change'] = pd.to_numeric(ytd_net_income_ind_df['$ YTD change'], errors='coerce').fillna(0)\n",
    "ytd_net_income_ind_df['$ YTD change'] = (ytd_net_income_ind_df['$ YTD change'] / 1e9).round(2)\n",
    "\n",
    "# Obliczenie wartości procentowych\n",
    "total_sum = ytd_net_income_ind_df['$ YTD change'].sum()\n",
    "ytd_net_income_ind_df['Percentage'] = (ytd_net_income_ind_df['$ YTD change'] / total_sum * 100).round(1)\n",
    "\n",
    "# Tworzenie wykresu\n",
    "plt.figure(figsize=(16, 8))  # Większy rozmiar dla lepszej widoczności\n",
    "bars = plt.bar(\n",
    "    ytd_net_income_ind_df['Industry'], \n",
    "    ytd_net_income_ind_df['$ YTD change'], \n",
    "    color=['green' if val >= 0 else 'red' for val in ytd_net_income_ind_df['$ YTD change']]\n",
    ")\n",
    "\n",
    "# Dynamiczne etykiety NAD słupkami\n",
    "for bar, value, pct in zip(bars, ytd_net_income_ind_df['$ YTD change'], ytd_net_income_ind_df['Percentage']):\n",
    "    height = bar.get_height()\n",
    "    offset = 0.02 * plt.ylim()[1]  # Dynamiczne przesunięcie zależne od wysokości wykresu\n",
    "\n",
    "    # Wartość liczbowa\n",
    "    plt.text(\n",
    "        bar.get_x() + bar.get_width() / 2, \n",
    "        height + offset,  # Odstęp od słupka\n",
    "        f'{value}B', \n",
    "        ha='center', va='bottom', fontsize=12  # Mniejsza czcionka\n",
    "    )\n",
    "\n",
    "    # Wartość procentowa\n",
    "    plt.text(\n",
    "        bar.get_x() + bar.get_width() / 2, \n",
    "        height + 4 * offset,  # Jeszcze większy odstęp dla procentów\n",
    "        f'{pct}%', \n",
    "        ha='center', va='bottom', fontsize=12  # Mniejsza czcionka\n",
    "    )\n",
    "\n",
    "# Oś X\n",
    "plt.xticks(rotation=45, ha='right')\n",
    "plt.title('Billionaires YTD Net Income by Industry (USD billion)', fontsize=14)\n",
    "plt.xlabel('Industry')\n",
    "plt.ylabel('Net revenue (in billion USD)')\n",
    "\n",
    "# Oś Y — dostosowanie zakresu\n",
    "y_min = ytd_net_income_ind_df['$ YTD change'].min()\n",
    "y_max = ytd_net_income_ind_df['$ YTD change'].max()\n",
    "plt.ylim(\n",
    "    y_min * 1.2 if y_min < 0 else -1,\n",
    "    y_max * 1.35 if y_max > 0 else 1\n",
    ")\n",
    "\n",
    "# Siatka pozioma\n",
    "plt.grid(axis='y', linestyle='--', alpha=0.7)\n",
    "\n",
    "# Dostosowanie marginesów\n",
    "plt.subplots_adjust(right=0.95, left=0.1, top=0.9, bottom=0.25)  # Większy dolny margines\n",
    "\n",
    "# Optymalne rozmieszczenie\n",
    "plt.tight_layout()\n",
    "\n",
    "# Wyświetlenie wykresu\n",
    "plt.show()\n"
   ]
  },
  {
   "cell_type": "markdown",
   "id": "66b95a7c-2bd3-4aa9-916b-fb5099388578",
   "metadata": {},
   "source": [
    "# STEP 4: Correlations"
   ]
  },
  {
   "cell_type": "code",
   "execution_count": 20,
   "id": "bdd2cc6a-839c-4fb1-874f-a500e7a3b083",
   "metadata": {},
   "outputs": [
    {
     "data": {
      "text/html": [
       "<div>\n",
       "<style scoped>\n",
       "    .dataframe tbody tr th:only-of-type {\n",
       "        vertical-align: middle;\n",
       "    }\n",
       "\n",
       "    .dataframe tbody tr th {\n",
       "        vertical-align: top;\n",
       "    }\n",
       "\n",
       "    .dataframe thead th {\n",
       "        text-align: right;\n",
       "    }\n",
       "</style>\n",
       "<table border=\"1\" class=\"dataframe\">\n",
       "  <thead>\n",
       "    <tr style=\"text-align: right;\">\n",
       "      <th></th>\n",
       "      <th>Total net worth</th>\n",
       "      <th>$ Last change</th>\n",
       "      <th>$ YTD change</th>\n",
       "    </tr>\n",
       "  </thead>\n",
       "  <tbody>\n",
       "    <tr>\n",
       "      <th>Total net worth</th>\n",
       "      <td>1.00</td>\n",
       "      <td>0.65</td>\n",
       "      <td>0.82</td>\n",
       "    </tr>\n",
       "    <tr>\n",
       "      <th>$ Last change</th>\n",
       "      <td>0.65</td>\n",
       "      <td>1.00</td>\n",
       "      <td>0.79</td>\n",
       "    </tr>\n",
       "    <tr>\n",
       "      <th>$ YTD change</th>\n",
       "      <td>0.82</td>\n",
       "      <td>0.79</td>\n",
       "      <td>1.00</td>\n",
       "    </tr>\n",
       "  </tbody>\n",
       "</table>\n",
       "</div>"
      ],
      "text/plain": [
       "                 Total net worth  $ Last change  $ YTD change\n",
       "Total net worth             1.00           0.65          0.82\n",
       "$ Last change               0.65           1.00          0.79\n",
       "$ YTD change                0.82           0.79          1.00"
      ]
     },
     "execution_count": 20,
     "metadata": {},
     "output_type": "execute_result"
    }
   ],
   "source": [
    "# pominięcie strnigów przy tworzeniu macierzy korelacji\n",
    "corr_df = df_ready.copy()\n",
    "corr_df = corr_df.drop(columns = ['Name', 'Rank', 'Country / Region', 'Industry'])\n",
    "corr_df.corr()"
   ]
  },
  {
   "cell_type": "markdown",
   "id": "c7cf3608-503f-473d-ae09-2b200f336587",
   "metadata": {},
   "source": [
    "### Correlation Matrix"
   ]
  },
  {
   "cell_type": "code",
   "execution_count": 21,
   "id": "94ba26c1-be6e-404b-b7ec-5a21460e9ee5",
   "metadata": {},
   "outputs": [
    {
     "data": {
      "image/png": "[encoded data removed]",
      "text/plain": [
       "<Figure size 1000x800 with 2 Axes>"
      ]
     },
     "metadata": {},
     "output_type": "display_data"
    }
   ],
   "source": [
    "correlation_matrix = corr_df.corr()\n",
    "\n",
    "# Tworzenie wykresu macierzy korelacji\n",
    "plt.figure(figsize=(10, 8))\n",
    "sns.heatmap(correlation_matrix, annot=True, cmap='coolwarm', fmt='.2f')\n",
    "plt.title('Correlation Matrix')\n",
    "plt.show()"
   ]
  },
  {
   "cell_type": "markdown",
   "id": "75ddafc2-b08c-4946-a9f2-a95902c647bf",
   "metadata": {},
   "source": [
    "## Interactive scaterplot"
   ]
  },
  {
   "cell_type": "code",
   "execution_count": 22,
   "id": "374c8b09-774f-4c99-9086-06b424fc0ee8",
   "metadata": {},
   "outputs": [
    {
     "data": {
      "application/vnd.plotly.v1+json": {
       "config": {
        "plotlyServerURL": "https://plot.ly"
       },
       "data": [
        {
         "hovertemplate": "<b>%{hovertext}</b><br><br>Industry=Technology<br>Majątek netto (USD)=%{marker.size}<br>Roczna zmiana (USD)=%{y}<extra></extra>",
         "hovertext": [
          "Elon Musk",
          "Jeff Bezos",
          "Mark Zuckerberg",
          "Larry Ellison",
          "Larry Page",
          "Bill Gates",
          "Sergey Brin",
          "Steve Ballmer",
          "Jensen Huang",
          "Michael Dell",
          "Ma Huateng",
          "Shiv Nadar",
          "Zhang Yiming",
          "MacKenzie Scott",
          "Eric Schmidt",
          "Colin Huang",
          "Jack Ma",
          "Eduardo Saverin",
          "Azim Premji",
          "William Ding",
          "Dustin Moskovitz",
          "Lei Jun",
          "Hasso Plattner",
          "Takemitsu Takizaki",
          "Andy Bechtolsheim",
          "Henry Samueli",
          "Zhang Zhidong",
          "Jan Koum",
          "Dietmar Hopp",
          "Dave Duffield",
          "Masayoshi Son",
          "Scott Farquhar",
          "Mike Cannon-Brookes",
          "Jim Goodnight",
          "Robert Pera",
          "Leo Koguan",
          "David Sun",
          "John Tu",
          "Brian Armstrong",
          "Barry Lam",
          "Adam Foroughi",
          "Jay Chaudhry",
          "Pierre Omidyar",
          "Wang Xing",
          "Marc Benioff",
          "Gong Hongjia",
          "Lin Bin",
          "Zhou Qunfei",
          "David Cheriton",
          "David Steward",
          "Tobi Lutke",
          "Martin Lorentzon",
          "Mark Stevens",
          "Pavel Durov",
          "Richard White",
          "Marcos Galperin",
          "Xavier Niel",
          "Min Kao",
          "John Brown",
          "John Sall",
          "Mark Cuban",
          "Ken Xie",
          "Yeung Kin-Man",
          "Forrest Li",
          "Tatyana Kim",
          "Scott Cook",
          "Jeff Skoll",
          "David Filo",
          "Daniel Ek",
          "Joe Mansueto",
          "Patrick Collison",
          "John Collison",
          "Joseph Tsai",
          "Robin Li",
          "Brian Acton",
          "Gabe Newell",
          "Cao Renxian",
          "Jason Chang",
          "Reed Hastings",
          "Jack Dorsey",
          "Georg Nemetschek",
          "Igor Bukhman",
          "Dmitry Bukhman"
         ],
         "legendgroup": "Technology",
         "marker": {
          "color": "#636efa",
          "size": [
           447000000000,
           249000000000,
           224000000000,
           198000000000,
           174000000000,
           165000000000,
           163000000000,
           155000000000,
           122000000000,
           115000000000,
           48000000000,
           43900000000,
           43900000000,
           41700000000,
           37300000000,
           36400000000,
           35200000000,
           34300000000,
           31800000000,
           31100000000,
           30500000000,
           26500000000,
           26400000000,
           25100000000,
           24500000000,
           19400000000,
           19000000000,
           17800000000,
           17000000000,
           16899999999.999998,
           16500000000,
           16300000000,
           16300000000,
           16100000000.000002,
           15900000000,
           15200000000,
           14900000000,
           14900000000,
           13500000000,
           13300000000,
           12600000000,
           12500000000,
           12400000000,
           12400000000,
           12200000000,
           11600000000,
           10800000000,
           10700000000,
           10700000000,
           10500000000,
           10200000000,
           10100000000,
           9540000000,
           9180000000,
           9020000000,
           8700000000,
           8690000000,
           8160000000,
           8119999999.999999,
           8070000000,
           8039999999.999999,
           7920000000,
           7870000000,
           7830000000,
           7430000000,
           7420000000,
           7400000000,
           7330000000,
           7220000000,
           7210000000,
           7170000000,
           7170000000,
           7140000000,
           7120000000,
           6950000000,
           6890000000,
           6840000000,
           6830000000,
           6710000000,
           6500000000,
           6470000000,
           6410000000,
           6410000000
          ],
          "sizemode": "area",
          "sizeref": 1117500000,
          "symbol": "circle"
         },
         "mode": "markers",
         "name": "Technology",
         "orientation": "v",
         "showlegend": true,
         "type": "scatter",
         "x": [
          447000000000,
          249000000000,
          224000000000,
          198000000000,
          174000000000,
          165000000000,
          163000000000,
          155000000000,
          122000000000,
          115000000000,
          48000000000,
          43900000000,
          43900000000,
          41700000000,
          37300000000,
          36400000000,
          35200000000,
          34300000000,
          31800000000,
          31100000000,
          30500000000,
          26500000000,
          26400000000,
          25100000000,
          24500000000,
          19400000000,
          19000000000,
          17800000000,
          17000000000,
          16899999999.999998,
          16500000000,
          16300000000,
          16300000000,
          16100000000.000002,
          15900000000,
          15200000000,
          14900000000,
          14900000000,
          13500000000,
          13300000000,
          12600000000,
          12500000000,
          12400000000,
          12400000000,
          12200000000,
          11600000000,
          10800000000,
          10700000000,
          10700000000,
          10500000000,
          10200000000,
          10100000000,
          9540000000,
          9180000000,
          9020000000,
          8700000000,
          8690000000,
          8160000000,
          8119999999.999999,
          8070000000,
          8039999999.999999,
          7920000000,
          7870000000,
          7830000000,
          7430000000,
          7420000000,
          7400000000,
          7330000000,
          7220000000,
          7210000000,
          7170000000,
          7170000000,
          7140000000,
          7120000000,
          6950000000,
          6890000000,
          6840000000,
          6830000000,
          6710000000,
          6500000000,
          6470000000,
          6410000000,
          6410000000
         ],
         "xaxis": "x",
         "y": [
          218000000000,
          72100000000,
          95500000000,
          75300000000,
          47100000000,
          24200000000,
          43200000000,
          24500000000,
          77700000000,
          36300000000,
          13300000000,
          10000000000,
          1610000000,
          6000000000,
          9560000000,
          -15100000000,
          5070000000,
          15000000000,
          5540000000,
          1810000000,
          10400000000,
          12100000000,
          8310000000.000001,
          123000000,
          9660000000,
          7040000000,
          5540000000,
          2880000000,
          6390000000,
          451000000,
          5130000000,
          2120000000,
          2060000000,
          6530000000,
          8550000000.000001,
          4650000000,
          -538000000,
          -538000000,
          6350000000,
          2170000000,
          11100000000,
          -639000000,
          2080000000,
          4820000000,
          2640000000,
          603000000,
          4750000000,
          4080000000,
          3240000000,
          965000000,
          3340000000,
          5860000000,
          3810000000,
          25000000,
          2760000000,
          1580000000,
          2610000000,
          2440000000,
          1690000000,
          3270000000,
          1180000000,
          3140000000,
          936000000,
          4930000000,
          1930000000,
          720000000,
          700000000,
          1230000000,
          4160000000,
          1200000000,
          2050000000,
          2050000000,
          1430000000,
          -1800000000,
          1150000000,
          0,
          1370000000,
          615000000,
          857000000,
          1200000000,
          1080000000,
          2860000000,
          2860000000
         ],
         "yaxis": "y"
        },
        {
         "hovertemplate": "<b>OLS trendline</b><br>$ YTD change = 0.398216 * Total net worth + -3.47323e+09<br>R<sup>2</sup>=0.880078<br><br>Industry=Technology<br>Majątek netto (USD)=%{x}<br>Roczna zmiana (USD)=%{y} <b>(trend)</b><extra></extra>",
         "legendgroup": "Technology",
         "marker": {
          "color": "#636efa",
          "symbol": "circle"
         },
         "mode": "lines",
         "name": "Technology",
         "showlegend": false,
         "type": "scatter",
         "x": [
          6410000000,
          6410000000,
          6470000000,
          6500000000,
          6710000000,
          6830000000,
          6840000000,
          6890000000,
          6950000000,
          7120000000,
          7140000000,
          7170000000,
          7170000000,
          7210000000,
          7220000000,
          7330000000,
          7400000000,
          7420000000,
          7430000000,
          7830000000,
          7870000000,
          7920000000,
          8039999999.999999,
          8070000000,
          8119999999.999999,
          8160000000,
          8690000000,
          8700000000,
          9020000000,
          9180000000,
          9540000000,
          10100000000,
          10200000000,
          10500000000,
          10700000000,
          10700000000,
          10800000000,
          11600000000,
          12200000000,
          12400000000,
          12400000000,
          12500000000,
          12600000000,
          13300000000,
          13500000000,
          14900000000,
          14900000000,
          15200000000,
          15900000000,
          16100000000.000002,
          16300000000,
          16300000000,
          16500000000,
          16899999999.999998,
          17000000000,
          17800000000,
          19000000000,
          19400000000,
          24500000000,
          25100000000,
          26400000000,
          26500000000,
          30500000000,
          31100000000,
          31800000000,
          34300000000,
          35200000000,
          36400000000,
          37300000000,
          41700000000,
          43900000000,
          43900000000,
          48000000000,
          115000000000,
          122000000000,
          155000000000,
          163000000000,
          165000000000,
          174000000000,
          198000000000,
          224000000000,
          249000000000,
          447000000000
         ],
         "xaxis": "x",
         "y": [
          -920665457.8684855,
          -920665457.8684855,
          -896772508.7528872,
          -884826034.1950879,
          -801200712.290494,
          -753414814.0592976,
          -749432655.8733644,
          -729521864.9436994,
          -705628915.8281007,
          -637932226.6672392,
          -629967910.295373,
          -618021435.7375736,
          -618021435.7375736,
          -602092802.9938416,
          -598110644.8079085,
          -554306904.7626448,
          -526431797.46111345,
          -518467481.0892477,
          -514485322.9033146,
          -355198995.46599245,
          -339270362.7222605,
          -319359571.7925949,
          -271573673.561399,
          -259627199.00359917,
          -239716408.07393456,
          -223787775.3302021,
          -12733391.475750446,
          -8751233.289817333,
          118677828.66004038,
          182392359.63496923,
          325750054.3285589,
          548750912.7408094,
          588572494.6001401,
          708037240.1781316,
          787680403.8967924,
          787680403.8967924,
          827501985.7561226,
          1146074640.6307669,
          1385004131.7867498,
          1464647295.5054111,
          1464647295.5054111,
          1504468877.3647413,
          1544290459.2240715,
          1823041532.2393856,
          1902684695.958046,
          2460186841.988673,
          2460186841.988673,
          2579651587.5666647,
          2858402660.581978,
          2938045824.30064,
          3017688988.0193005,
          3017688988.0193005,
          3097332151.737961,
          3256618479.1752825,
          3296440061.0346136,
          3615012715.909257,
          4092871698.221223,
          4252158025.6585455,
          6283058700.484401,
          6521988191.640384,
          7039668755.811679,
          7079490337.67101,
          8672353612.044231,
          8911283103.200214,
          9190034176.215527,
          10185573722.698788,
          10543967959.432762,
          11021826941.744728,
          11380221178.478703,
          13132370780.289246,
          14008445581.194515,
          14008445581.194515,
          15641130437.427063,
          42321590283.1785,
          45109101013.331635,
          58250223026.91069,
          61435949575.657135,
          62232381212.84374,
          65816323580.18348,
          75373503226.42279,
          85727114509.84872,
          95682509974.68135,
          174529242056.15573
         ],
         "yaxis": "y"
        },
        {
         "hovertemplate": "<b>%{hovertext}</b><br><br>Industry=Consumer<br>Majątek netto (USD)=%{marker.size}<br>Roczna zmiana (USD)=%{y}<extra></extra>",
         "hovertext": [
          "Bernard Arnault",
          "Francoise Bettencourt Meyers",
          "Alain Wertheimer",
          "Gerard Wertheimer",
          "Phil Knight & family",
          "He Xiangjian",
          "Francois Pinault",
          "Wang Chuan-Fu",
          "James Dyson",
          "Ernie Garcia",
          "Ravi Jaipuria",
          "Leonard Lauder",
          "Rick Cohen",
          "Sammy Lee",
          "Lv Xiang-yang",
          "Laurence Graff",
          "Ralph Lauren",
          "Wei Jianjun",
          "Ralph Sonnenberg",
          "Todd Graves",
          "Lin Muqin",
          "Shahid Khan",
          "Jude Reyes",
          "Chris Reyes",
          "Piero Ferrari",
          "Ma Jianrong",
          "Jimmy Haslam",
          "Rahul Bhatia",
          "Giorgio Armani",
          "Kjeld Kirk Kristiansen",
          "Wang Ning",
          "Miuccia Prada",
          "Patrizio Bertelli",
          "Ernest Garcia III",
          "Thomas Kirk Kristiansen",
          "Agnete Kirk Thinggaard",
          "Ding Shizhong",
          "Peter Cancro",
          "Sofie Kirk Kristiansen",
          "Ding Shijia",
          "Tito Beveridge",
          "Rakesh Gangwal",
          "Jim Davis"
         ],
         "legendgroup": "Consumer",
         "marker": {
          "color": "#EF553B",
          "size": [
           181000000000,
           75600000000,
           45500000000,
           45500000000,
           35600000000,
           33100000000,
           22000000000,
           21100000000,
           20300000000,
           18300000000,
           17500000000,
           16399999999.999998,
           15800000000,
           14300000000,
           12900000000,
           12300000000,
           12300000000,
           11700000000,
           11200000000,
           10500000000,
           9790000000,
           9500000000,
           9500000000,
           9500000000,
           9360000000,
           9000000000,
           8790000000,
           8610000000,
           8070000000,
           7840000000,
           7840000000,
           7820000000,
           7800000000,
           7780000000,
           7660000000,
           7650000000,
           7580000000,
           7550000000,
           7420000000,
           7240000000,
           6760000000,
           6700000000,
           6460000000
          ],
          "sizemode": "area",
          "sizeref": 1117500000,
          "symbol": "circle"
         },
         "mode": "markers",
         "name": "Consumer",
         "orientation": "v",
         "showlegend": true,
         "type": "scatter",
         "visible": "legendonly",
         "x": [
          181000000000,
          75600000000,
          45500000000,
          45500000000,
          35600000000,
          33100000000,
          22000000000,
          21100000000,
          20300000000,
          18300000000,
          17500000000,
          16399999999.999998,
          15800000000,
          14300000000,
          12900000000,
          12300000000,
          12300000000,
          11700000000,
          11200000000,
          10500000000,
          9790000000,
          9500000000,
          9500000000,
          9500000000,
          9360000000,
          9000000000,
          8790000000,
          8610000000,
          8070000000,
          7840000000,
          7840000000,
          7820000000,
          7800000000,
          7780000000,
          7660000000,
          7650000000,
          7580000000,
          7550000000,
          7420000000,
          7240000000,
          6760000000,
          6700000000,
          6460000000
         ],
         "xaxis": "x",
         "y": [
          -26400000000,
          -24100000000,
          -1640000000,
          -1660000000,
          -6880000000,
          9060000000,
          -13400000000,
          5860000000,
          240000000,
          11000000000,
          3120000000,
          -3520000000,
          -5640000000,
          -701000000,
          2750000000,
          531000000,
          3100000000,
          881000000,
          933000000,
          3430000000,
          4020000000,
          1040000000,
          950000000,
          950000000,
          2230000000,
          -436000000,
          850000000,
          2240000000,
          1200000000,
          1770000000,
          6010000000,
          2100000000,
          2130000000,
          5910000000,
          1770000000,
          1760000000,
          1010000000,
          10000000,
          1690000000,
          907000000,
          -834000000,
          1600000000,
          923000000
         ],
         "yaxis": "y"
        },
        {
         "hovertemplate": "<b>OLS trendline</b><br>$ YTD change = -0.181083 * Total net worth + 3.37425e+09<br>R<sup>2</sup>=0.575741<br><br>Industry=Consumer<br>Majątek netto (USD)=%{x}<br>Roczna zmiana (USD)=%{y} <b>(trend)</b><extra></extra>",
         "legendgroup": "Consumer",
         "marker": {
          "color": "#EF553B",
          "symbol": "circle"
         },
         "mode": "lines",
         "name": "Consumer",
         "showlegend": false,
         "type": "scatter",
         "visible": "legendonly",
         "x": [
          6460000000,
          6700000000,
          6760000000,
          7240000000,
          7420000000,
          7550000000,
          7580000000,
          7650000000,
          7660000000,
          7780000000,
          7800000000,
          7820000000,
          7840000000,
          7840000000,
          8070000000,
          8610000000,
          8790000000,
          9000000000,
          9360000000,
          9500000000,
          9500000000,
          9500000000,
          9790000000,
          10500000000,
          11200000000,
          11700000000,
          12300000000,
          12300000000,
          12900000000,
          14300000000,
          15800000000,
          16399999999.999998,
          17500000000,
          18300000000,
          20300000000,
          21100000000,
          22000000000,
          33100000000,
          35600000000,
          45500000000,
          45500000000,
          75600000000,
          181000000000
         ],
         "xaxis": "x",
         "y": [
          2204453510.3971834,
          2160993577.2178526,
          2150128593.92302,
          2063208727.5643582,
          2030613777.67986,
          2007072980.541056,
          2001640488.8936396,
          1988964675.049668,
          1987153844.5005293,
          1965423877.9108639,
          1961802216.8125863,
          1958180555.7143087,
          1954558894.6160312,
          1954558894.6160312,
          1912909791.9858394,
          1815124942.332345,
          1782529992.447847,
          1744502550.9159324,
          1679312651.1469364,
          1653961023.4589934,
          1653961023.4589934,
          1653961023.4589934,
          1601446937.5339687,
          1472877968.5451152,
          1346119830.1054003,
          1255578302.6484613,
          1146928469.7001343,
          1146928469.7001343,
          1038278636.7518072,
          784762359.8723779,
          513137777.5015607,
          404487944.5532336,
          205296584.14796734,
          60430140.21686506,
          -301735969.6108918,
          -446602413.5419941,
          -609577162.9644847,
          -2619599072.5085335,
          -3072306709.793229,
          -4865028953.440623,
          -4865028953.440623,
          -10315628906.348358,
          -29401782894.271126
         ],
         "yaxis": "y"
        },
        {
         "hovertemplate": "<b>%{hovertext}</b><br><br>Industry=Diversified<br>Majątek netto (USD)=%{marker.size}<br>Roczna zmiana (USD)=%{y}<extra></extra>",
         "hovertext": [
          "Warren Buffett",
          "Carlos Slim",
          "Zhong Shanshan",
          "Len Blavatnik",
          "Ernesto Bertarelli & family",
          "Eyal Ofer",
          "Budi Hartono",
          "Michael Hartono",
          "Manuel Villar",
          "Philip Anschutz",
          "Mikhail Prokhorov",
          "Robert Kuok",
          "Alwaleed Bin Talal",
          "Melinda French Gates",
          "Mikhail Fridman",
          "Alisher Usmanov",
          "Renata Kellnerova",
          "Johann Rupert & family",
          "Anthoni Salim",
          "Dmitry Rybolovlev",
          "Nicky Oppenheimer",
          "Simon Reuben",
          "David Reuben",
          "Gennady Timchenko",
          "Friedhelm Loh",
          "Karel Komarek",
          "German Khan",
          "Stef Wertheimer",
          "Vincent Bollore",
          "Nusli Wadia",
          "Abdullah Al Ghurair",
          "Shari Arison",
          "Jay Y. Lee",
          "Woody Johnson",
          "Marie-Helene Habert-Dassault",
          "Thierry Dassault",
          "Laurent Dassault",
          "Samuel Yin",
          "Liu Yonghao",
          "Joe Lewis",
          "Roman Abramovich",
          "Bidzina Ivanishvili",
          "Todd Boehly",
          "Petr Aven",
          "Alexey Kuzmichev",
          "Margot Perot & family",
          "Lu Weiding",
          "Bertil Hult",
          "Gordon Getty",
          "Carl Douglas",
          "Eric Douglas",
          "Sergei Popov"
         ],
         "legendgroup": "Diversified",
         "marker": {
          "color": "#00cc96",
          "size": [
           144000000000,
           85600000000,
           58800000000,
           40400000000,
           28000000000,
           27000000000,
           24700000000,
           23000000000,
           22300000000,
           21200000000,
           18900000000,
           17600000000,
           16100000000.000002,
           15400000000,
           15300000000,
           14600000000,
           14000000000,
           13900000000,
           13800000000,
           13300000000,
           11800000000,
           11500000000,
           11500000000,
           11200000000,
           11100000000,
           10400000000,
           10300000000,
           10100000000,
           9930000000,
           9820000000,
           9320000000,
           9100000000,
           8960000000,
           8830000000,
           8620000000,
           8620000000,
           8620000000,
           8490000000,
           8300000000.000001,
           7930000000,
           7770000000,
           7680000000,
           7460000000,
           7410000000,
           7230000000,
           7230000000,
           7110000000,
           7030000000,
           6930000000,
           6770000000,
           6770000000,
           6700000000
          ],
          "sizemode": "area",
          "sizeref": 1117500000,
          "symbol": "circle"
         },
         "mode": "markers",
         "name": "Diversified",
         "orientation": "v",
         "showlegend": true,
         "type": "scatter",
         "visible": "legendonly",
         "x": [
          144000000000,
          85600000000,
          58800000000,
          40400000000,
          28000000000,
          27000000000,
          24700000000,
          23000000000,
          22300000000,
          21200000000,
          18900000000,
          17600000000,
          16100000000.000002,
          15400000000,
          15300000000,
          14600000000,
          14000000000,
          13900000000,
          13800000000,
          13300000000,
          11800000000,
          11500000000,
          11500000000,
          11200000000,
          11100000000,
          10400000000,
          10300000000,
          10100000000,
          9930000000,
          9820000000,
          9320000000,
          9100000000,
          8960000000,
          8830000000,
          8620000000,
          8620000000,
          8620000000,
          8490000000,
          8300000000.000001,
          7930000000,
          7770000000,
          7680000000,
          7460000000,
          7410000000,
          7230000000,
          7230000000,
          7110000000,
          7030000000,
          6930000000,
          6770000000,
          6770000000,
          6700000000
         ],
         "xaxis": "x",
         "y": [
          24400000000,
          -19700000000,
          -8920000000,
          -439000000,
          3030000000,
          4080000000,
          1680000000,
          1190000000,
          13200000000,
          5590000000,
          3140000000,
          301000000,
          1270000000,
          3110000000,
          3010000000,
          -6500000000,
          2240000000,
          1450000000,
          3800000000,
          1650000000,
          1980000000,
          4180000000,
          4180000000,
          -2960000000,
          2820000000,
          538000000,
          2010000000,
          1680000000,
          479000000,
          -139000000,
          2650000000,
          1490000000,
          -930000000,
          974000000,
          -1410000000,
          -1410000000,
          -1410000000,
          1870000000,
          1230000000,
          254000000,
          -298000000,
          1080000000,
          647000000,
          1450000000,
          1150000000,
          1200000000,
          735000000,
          1300000000,
          1130000000,
          242000000,
          242000000,
          1130000000
         ],
         "yaxis": "y"
        },
        {
         "hovertemplate": "<b>OLS trendline</b><br>$ YTD change = 0.0500541 * Total net worth + 3.88373e+08<br>R<sup>2</sup>=0.045846<br><br>Industry=Diversified<br>Majątek netto (USD)=%{x}<br>Roczna zmiana (USD)=%{y} <b>(trend)</b><extra></extra>",
         "legendgroup": "Diversified",
         "marker": {
          "color": "#00cc96",
          "symbol": "circle"
         },
         "mode": "lines",
         "name": "Diversified",
         "showlegend": false,
         "type": "scatter",
         "visible": "legendonly",
         "x": [
          6700000000,
          6770000000,
          6770000000,
          6930000000,
          7030000000,
          7110000000,
          7230000000,
          7230000000,
          7410000000,
          7460000000,
          7680000000,
          7770000000,
          7930000000,
          8300000000.000001,
          8490000000,
          8620000000,
          8620000000,
          8620000000,
          8830000000,
          8960000000,
          9100000000,
          9320000000,
          9820000000,
          9930000000,
          10100000000,
          10300000000,
          10400000000,
          11100000000,
          11200000000,
          11500000000,
          11500000000,
          11800000000,
          13300000000,
          13800000000,
          13900000000,
          14000000000,
          14600000000,
          15300000000,
          15400000000,
          16100000000.000002,
          17600000000,
          18900000000,
          21200000000,
          22300000000,
          23000000000,
          24700000000,
          27000000000,
          28000000000,
          40400000000,
          58800000000,
          85600000000,
          144000000000
         ],
         "xaxis": "x",
         "y": [
          723734861.7992177,
          727238647.4947177,
          727238647.4947177,
          735247300.5130033,
          740252708.649432,
          744257035.1585747,
          750263524.9222889,
          750263524.9222889,
          759273259.5678602,
          761775963.6360745,
          772787861.5362172,
          777292728.859003,
          785301381.8772886,
          803821391.9820743,
          813331667.4412884,
          819838698.0186454,
          819838698.0186454,
          819838698.0186454,
          830350055.1051453,
          836857085.6825024,
          843864657.0735023,
          854876554.9736451,
          879903595.6557877,
          885409544.605859,
          893918738.4377875,
          903929554.7106447,
          908934962.8470731,
          943972819.8020729,
          948978227.9385014,
          963994452.3477869,
          963994452.3477869,
          979010676.7570726,
          1054091798.8035004,
          1079118839.485643,
          1084124247.6220715,
          1089129655.7585,
          1119162104.5770712,
          1154199961.5320709,
          1159205369.6684995,
          1194243226.6234992,
          1269324348.6699271,
          1334394654.4434977,
          1449519041.581354,
          1504578531.0820675,
          1539616388.0370674,
          1624708326.3563523,
          1739832713.4942083,
          1789886794.8584938,
          2410557403.775631,
          3331552500.8784795,
          4673001881.441324,
          7596160233.115583
         ],
         "yaxis": "y"
        },
        {
         "hovertemplate": "<b>%{hovertext}</b><br><br>Industry=Retail<br>Majątek netto (USD)=%{marker.size}<br>Roczna zmiana (USD)=%{y}<extra></extra>",
         "hovertext": [
          "Jim Walton",
          "Rob Walton",
          "Alice Walton",
          "Amancio Ortega",
          "Tadashi Yanai",
          "Lukas Walton",
          "Dieter Schwarz",
          "John Menard",
          "Xu Yangtian",
          "Henry Cheng",
          "Christy Walton",
          "Stefan Persson",
          "Radhakishan Damani",
          "Theo Albrecht Jr",
          "Charles Butt & family",
          "Karl Albrecht Jr",
          "Beate Heister",
          "Nancy Laurie",
          "Les Wexner",
          "Sandra Ortega Mera",
          "Ann Kroenke",
          "Dan Friedkin",
          "Michael Rubin",
          "Anders Holch Povlsen & family",
          "Eric Smidt",
          "Heinrich Deichmann & family",
          "Chip Wilson",
          "Alain Bouchard",
          "Tom Morris",
          "Stefano Pessina",
          "Sergey Galitskiy",
          "David Green",
          "Renate Reimann-Haas",
          "Matthias Reimann-Andersen",
          "Stefan Reimann-Andersen"
         ],
         "legendgroup": "Retail",
         "marker": {
          "color": "#ab63fa",
          "size": [
           117000000000,
           115000000000,
           114000000000,
           106000000000,
           52800000000,
           40400000000,
           32600000000,
           25000000000,
           21500000000,
           19500000000,
           18300000000,
           17800000000,
           17400000000,
           16100000000.000002,
           14800000000,
           13900000000,
           13900000000,
           13600000000,
           12700000000,
           12400000000,
           12300000000,
           12300000000,
           9860000000,
           8890000000,
           8890000000,
           8400000000,
           8350000000,
           7520000000,
           7400000000,
           6760000000,
           6720000000,
           6450000000,
           6380000000,
           6380000000,
           6380000000
          ],
          "sizemode": "area",
          "sizeref": 1117500000,
          "symbol": "circle"
         },
         "mode": "markers",
         "name": "Retail",
         "orientation": "v",
         "showlegend": true,
         "type": "scatter",
         "visible": "legendonly",
         "x": [
          117000000000,
          115000000000,
          114000000000,
          106000000000,
          52800000000,
          40400000000,
          32600000000,
          25000000000,
          21500000000,
          19500000000,
          18300000000,
          17800000000,
          17400000000,
          16100000000.000002,
          14800000000,
          13900000000,
          13900000000,
          13600000000,
          12700000000,
          12400000000,
          12300000000,
          12300000000,
          9860000000,
          8890000000,
          8890000000,
          8400000000,
          8350000000,
          7520000000,
          7400000000,
          6760000000,
          6720000000,
          6450000000,
          6380000000,
          6380000000,
          6380000000
         ],
         "xaxis": "x",
         "y": [
          44600000000,
          43400000000,
          43900000000,
          18200000000,
          14400000000,
          14800000000,
          -908000000,
          4430000000,
          0,
          -2400000000,
          7080000000,
          -2350000000,
          -2160000000,
          6470000000,
          4260000000,
          -1640000000,
          -1640000000,
          5630000000,
          1910000000,
          2280000000,
          5400000000,
          3300000000,
          -22200000,
          2020000000,
          1670000000,
          291000000,
          -462000000,
          -84700000,
          256000000,
          -1390000000,
          977000000,
          675000000,
          2350000000,
          2350000000,
          2350000000
         ],
         "yaxis": "y"
        },
        {
         "hovertemplate": "<b>OLS trendline</b><br>$ YTD change = 0.354255 * Total net worth + -3.00429e+09<br>R<sup>2</sup>=0.863991<br><br>Industry=Retail<br>Majątek netto (USD)=%{x}<br>Roczna zmiana (USD)=%{y} <b>(trend)</b><extra></extra>",
         "legendgroup": "Retail",
         "marker": {
          "color": "#ab63fa",
          "symbol": "circle"
         },
         "mode": "lines",
         "name": "Retail",
         "showlegend": false,
         "type": "scatter",
         "visible": "legendonly",
         "x": [
          6380000000,
          6380000000,
          6380000000,
          6450000000,
          6720000000,
          6760000000,
          7400000000,
          7520000000,
          8350000000,
          8400000000,
          8890000000,
          8890000000,
          9860000000,
          12300000000,
          12300000000,
          12400000000,
          12700000000,
          13600000000,
          13900000000,
          13900000000,
          14800000000,
          16100000000.000002,
          17400000000,
          17800000000,
          18300000000,
          19500000000,
          21500000000,
          25000000000,
          32600000000,
          40400000000,
          52800000000,
          106000000000,
          114000000000,
          115000000000,
          117000000000
         ],
         "xaxis": "x",
         "y": [
          -744148396.1485882,
          -744148396.1485882,
          -744148396.1485882,
          -719350575.6892376,
          -623701839.631741,
          -609531656.5121121,
          -382808726.59804726,
          -340298177.23916006,
          -46266877.50685692,
          -28554148.607320786,
          145030594.60813522,
          145030594.60813522,
          488657535.25914,
          1353038705.5565124,
          1353038705.5565124,
          1388464163.3555846,
          1494740536.7528033,
          1813569656.9444566,
          1919846030.3416743,
          1919846030.3416743,
          2238675150.5333285,
          2699206101.9212737,
          3159737053.309217,
          3301438884.505508,
          3478566173.500871,
          3903671667.089743,
          4612180823.071196,
          5852071846.038738,
          8544406638.768259,
          11307592347.095926,
          15700349114.180935,
          34546692663.28758,
          37380729287.213394,
          37734983865.20412,
          38443493021.18557
         ],
         "yaxis": "y"
        },
        {
         "hovertemplate": "<b>%{hovertext}</b><br><br>Industry=Energy<br>Majątek netto (USD)=%{marker.size}<br>Roczna zmiana (USD)=%{y}<extra></extra>",
         "hovertext": [
          "Mukesh Ambani",
          "Low Tuck Kwong",
          "Idan Ofer",
          "Vagit Alekperov",
          "Prajogo Pangestu",
          "Leonid Mikhelson",
          "Lyndal Stephens Greth",
          "Jeffery Hildebrand",
          "Sarath Ratanavadi",
          "George Kaiser",
          "Richard Kinder",
          "Harold Hamm",
          "Terry Pegula",
          "Randa Williams",
          "Dannine Avara",
          "Scott Duncan",
          "Milane Frantz",
          "Leonid Fedun",
          "Dang Yanbao",
          "Michael Kadoorie",
          "Ray Lee Hunt",
          "Lynn Schusterman",
          "Mohammed Al Amoudi",
          "Kelcy Warren",
          "Li Shuirong",
          "Trevor Rees-Jones",
          "Michael Smith",
          "Daniel Kretinsky",
          "Ronald McAulay"
         ],
         "legendgroup": "Energy",
         "marker": {
          "color": "#FFA15A",
          "size": [
           97100000000,
           28900000000,
           28500000000,
           27800000000,
           26400000000,
           25500000000,
           24800000000,
           18600000000,
           16000000000,
           14800000000,
           13100000000,
           13000000000,
           12400000000,
           11100000000,
           11000000000,
           11000000000,
           11000000000,
           11000000000,
           10600000000,
           10500000000,
           9660000000,
           9260000000,
           8940000000,
           8350000000,
           8109999999.999999,
           7670000000,
           7120000000,
           7030000000,
           6680000000
          ],
          "sizemode": "area",
          "sizeref": 1117500000,
          "symbol": "circle"
         },
         "mode": "markers",
         "name": "Energy",
         "orientation": "v",
         "showlegend": true,
         "type": "scatter",
         "visible": "legendonly",
         "x": [
          97100000000,
          28900000000,
          28500000000,
          27800000000,
          26400000000,
          25500000000,
          24800000000,
          18600000000,
          16000000000,
          14800000000,
          13100000000,
          13000000000,
          12400000000,
          11100000000,
          11000000000,
          11000000000,
          11000000000,
          11000000000,
          10600000000,
          10500000000,
          9660000000,
          9260000000,
          8940000000,
          8350000000,
          8109999999.999999,
          7670000000,
          7120000000,
          7030000000,
          6680000000
         ],
         "xaxis": "x",
         "y": [
          719000000,
          799000000,
          8380000000.000001,
          3130000000,
          -4670000000,
          -1970000000,
          9590000000,
          1110000000,
          5350000000,
          910000000,
          3620000000,
          -3250000000,
          2020000000,
          2400000000,
          2390000000,
          2390000000,
          2390000000,
          1220000000,
          874000000,
          789000000,
          2010000000,
          1740000000,
          -112000000,
          2230000000,
          1210000000,
          1410000000,
          869000000,
          -1000000000,
          409000000
         ],
         "yaxis": "y"
        },
        {
         "hovertemplate": "<b>OLS trendline</b><br>$ YTD change = 0.00521949 * Total net worth + 1.52995e+09<br>R<sup>2</sup>=0.000980<br><br>Industry=Energy<br>Majątek netto (USD)=%{x}<br>Roczna zmiana (USD)=%{y} <b>(trend)</b><extra></extra>",
         "legendgroup": "Energy",
         "marker": {
          "color": "#FFA15A",
          "symbol": "circle"
         },
         "mode": "lines",
         "name": "Energy",
         "showlegend": false,
         "type": "scatter",
         "visible": "legendonly",
         "x": [
          6680000000,
          7030000000,
          7120000000,
          7670000000,
          8109999999.999999,
          8350000000,
          8940000000,
          9260000000,
          9660000000,
          10500000000,
          10600000000,
          11000000000,
          11000000000,
          11000000000,
          11000000000,
          11100000000,
          12400000000,
          13000000000,
          13100000000,
          14800000000,
          16000000000,
          18600000000,
          24800000000,
          25500000000,
          26400000000,
          27800000000,
          28500000000,
          28900000000,
          97100000000
         ],
         "xaxis": "x",
         "y": [
          1564816164.3768535,
          1566642987.446261,
          1567112741.949823,
          1569983463.9160347,
          1572280041.489004,
          1573532720.165169,
          1576612221.9107416,
          1578282460.1456285,
          1580370257.939237,
          1584754633.305815,
          1585276582.7542171,
          1587364380.5478256,
          1587364380.5478256,
          1587364380.5478256,
          1587364380.5478256,
          1587886329.9962277,
          1594671672.8254554,
          1597803369.5158682,
          1598325318.9642704,
          1607198459.5871065,
          1613461852.9679322,
          1627032538.6263876,
          1659393404.4273198,
          1663047050.5661347,
          1667744595.6017537,
          1675051887.8793836,
          1678705534.0181985,
          1680793331.8118072,
          2036762855.6220608
         ],
         "yaxis": "y"
        },
        {
         "hovertemplate": "<b>%{hovertext}</b><br><br>Industry=Industrial<br>Majątek netto (USD)=%{marker.size}<br>Roczna zmiana (USD)=%{y}<extra></extra>",
         "hovertext": [
          "Gautam Adani",
          "Julia Flesher Koch & family",
          "Charles Koch",
          "Shapoor Mistry",
          "Klaus-Michael Kuehne",
          "Zeng Yuqun",
          "Vladimir Lisin",
          "Aliko Dangote",
          "Elaine Marshall",
          "Alexey Mordashov",
          "Susanne Klatten",
          "Reinhold Wuerth",
          "Andrey Melnichenko",
          "Stefan Quandt",
          "Zhang Bo",
          "Kumar Birla",
          "Huang Shilin",
          "Liu Yongxing",
          "Jim Ratcliffe",
          "Martin Viessmann & family",
          "Li Shu Fu",
          "Anthony Bamford & family",
          "Anthony Pratt",
          "Steven Rales",
          "John Fredriksen",
          "Zhang Congyuan",
          "Victor Rashnikov",
          "Goh Cheng Liang",
          "Ludwig Merckle",
          "Andrey Guryev",
          "Terry Gou",
          "Sri Prakash Lohia",
          "Pei Zhenhua",
          "Antonia Axson Johnson",
          "Nassef Sawiris",
          "Thomas Schmidheiny",
          "Vikram Lal",
          "Mitchell Rales",
          "Magdalena Martullo",
          "Alexander Abramov",
          "Rafael Del Pino",
          "Viktor Vekselberg",
          "Dennis Washington",
          "Rahel Blocher",
          "Wu Jianshu",
          "Wang Liping",
          "You Xiaoping",
          "Liu Hanyuan",
          "Kerry Stokes",
          "Gary Rollins",
          "Ruan Liping",
          "Wang Laisheng",
          "Ruan Xueping",
          "Li Ping",
          "Vivek Sehgal",
          "Maria Angelicoussis"
         ],
         "legendgroup": "Industrial",
         "marker": {
          "color": "#19d3f3",
          "size": [
           79300000000,
           75900000000,
           68200000000,
           41400000000,
           40100000000,
           39100000000,
           29700000000,
           28100000000,
           25800000000,
           25700000000,
           25100000000,
           22800000000,
           21600000000,
           21300000000,
           21100000000,
           21000000000,
           18300000000,
           14600000000,
           14200000000,
           13600000000,
           12700000000,
           12300000000,
           12100000000,
           11600000000,
           11500000000,
           11300000000,
           10900000000,
           10700000000,
           10600000000,
           10300000000,
           10200000000,
           10100000000,
           10100000000,
           9970000000,
           8970000000,
           8860000000,
           8820000000,
           8380000000.000001,
           8350000000,
           8310000000.000001,
           8119999999.999999,
           8119999999.999999,
           8100000000,
           7950000000,
           7750000000,
           7690000000,
           7470000000,
           7420000000,
           7260000000,
           7180000000,
           6860000000,
           6830000000,
           6820000000,
           6740000000,
           6700000000,
           6610000000
          ],
          "sizemode": "area",
          "sizeref": 1117500000,
          "symbol": "circle"
         },
         "mode": "markers",
         "name": "Industrial",
         "orientation": "v",
         "showlegend": true,
         "type": "scatter",
         "visible": "legendonly",
         "x": [
          79300000000,
          75900000000,
          68200000000,
          41400000000,
          40100000000,
          39100000000,
          29700000000,
          28100000000,
          25800000000,
          25700000000,
          25100000000,
          22800000000,
          21600000000,
          21300000000,
          21100000000,
          21000000000,
          18300000000,
          14600000000,
          14200000000,
          13600000000,
          12700000000,
          12300000000,
          12100000000,
          11600000000,
          11500000000,
          11300000000,
          10900000000,
          10700000000,
          10600000000,
          10300000000,
          10200000000,
          10100000000,
          10100000000,
          9970000000,
          8970000000,
          8860000000,
          8820000000,
          8380000000.000001,
          8350000000,
          8310000000.000001,
          8119999999.999999,
          8119999999.999999,
          8100000000,
          7950000000,
          7750000000,
          7690000000,
          7470000000,
          7420000000,
          7260000000,
          7180000000,
          6860000000,
          6830000000,
          6820000000,
          6740000000,
          6700000000,
          6610000000
         ],
         "xaxis": "x",
         "y": [
          -4970000000,
          9410000000,
          5790000000,
          6120000000,
          -3980000000,
          14800000000,
          5800000000,
          13000000000,
          1230000000,
          4790000000,
          -3600000000,
          -2980000000,
          2820000000,
          -3230000000,
          7510000000,
          2390000000,
          6910000000,
          1530000000,
          -5310000000,
          828000000,
          2940000000,
          3650000000,
          2450000000,
          964000000,
          -163000000,
          3420000000,
          1100000000,
          -961000000,
          3110000000,
          509000000,
          2690000000,
          2630000000,
          3390000000,
          -552000000,
          555000000,
          1230000000,
          1160000000,
          1120000000,
          -127000000,
          873000000,
          1410000000,
          884000000,
          1160000000,
          -202000000,
          191000000,
          328000000,
          992000000,
          189000000,
          1150000000,
          814000000,
          902000000,
          955000000,
          900000000,
          2490000000,
          2460000000,
          923000000
         ],
         "yaxis": "y"
        },
        {
         "hovertemplate": "<b>OLS trendline</b><br>$ YTD change = 0.0569063 * Total net worth + 8.77855e+08<br>R<sup>2</sup>=0.064119<br><br>Industry=Industrial<br>Majątek netto (USD)=%{x}<br>Roczna zmiana (USD)=%{y} <b>(trend)</b><extra></extra>",
         "legendgroup": "Industrial",
         "marker": {
          "color": "#19d3f3",
          "symbol": "circle"
         },
         "mode": "lines",
         "name": "Industrial",
         "showlegend": false,
         "type": "scatter",
         "visible": "legendonly",
         "x": [
          6610000000,
          6700000000,
          6740000000,
          6820000000,
          6830000000,
          6860000000,
          7180000000,
          7260000000,
          7420000000,
          7470000000,
          7690000000,
          7750000000,
          7950000000,
          8100000000,
          8119999999.999999,
          8119999999.999999,
          8310000000.000001,
          8350000000,
          8380000000.000001,
          8820000000,
          8860000000,
          8970000000,
          9970000000,
          10100000000,
          10100000000,
          10200000000,
          10300000000,
          10600000000,
          10700000000,
          10900000000,
          11300000000,
          11500000000,
          11600000000,
          12100000000,
          12300000000,
          12700000000,
          13600000000,
          14200000000,
          14600000000,
          18300000000,
          21000000000,
          21100000000,
          21300000000,
          21600000000,
          22800000000,
          25100000000,
          25700000000,
          25800000000,
          28100000000,
          29700000000,
          39100000000,
          40100000000,
          41400000000,
          68200000000,
          75900000000,
          79300000000
         ],
         "xaxis": "x",
         "y": [
          1254005588.3558633,
          1259127156.316102,
          1261403408.7428746,
          1265955913.59642,
          1266524976.703113,
          1268232166.0231926,
          1286442185.4373744,
          1290994690.2909198,
          1300099699.9980106,
          1302945015.5314765,
          1315464403.8787262,
          1318878782.5188854,
          1330260044.6527488,
          1338795991.2531464,
          1339934117.4665327,
          1339934117.4665327,
          1350746316.4937031,
          1353022568.920476,
          1354729758.2405555,
          1379768534.935055,
          1382044787.3618279,
          1388304481.5354528,
          1445210792.2047703,
          1452608612.5917816,
          1452608612.5917816,
          1458299243.6587133,
          1463989874.725645,
          1481061767.9264402,
          1486752398.993372,
          1498133661.1272357,
          1520896185.3949628,
          1532277447.5288262,
          1537968078.595758,
          1566421233.9304166,
          1577802496.06428,
          1600565020.3320072,
          1651780699.934393,
          1685924486.3359835,
          1708687010.6037107,
          1919240360.0801854,
          2072887398.887343,
          2078578029.9542747,
          2089959292.088138,
          2107031185.2889333,
          2175318758.0921144,
          2306203272.631545,
          2340347059.0331354,
          2346037690.100067,
          2476922204.6394978,
          2567972301.7104053,
          3102891622.0019903,
          3159797932.6713076,
          3233776136.541421,
          4758865262.479131,
          5197043854.632876,
          5390525310.908556
         ],
         "yaxis": "y"
        },
        {
         "hovertemplate": "<b>%{hovertext}</b><br><br>Industry=Finance<br>Majątek netto (USD)=%{marker.size}<br>Roczna zmiana (USD)=%{y}<extra></extra>",
         "hovertext": [
          "Changpeng Zhao",
          "Stephen Schwarzman",
          "Thomas Peterffy",
          "Jeff Yass",
          "Abigail Johnson",
          "Ken Griffin",
          "David Tepper",
          "Vicky Safra",
          "George Roberts",
          "Henry Kravis",
          "Ray Dalio",
          "Peter Thiel",
          "Leon Black",
          "Tom Gores",
          "Steve Cohen",
          "Andy Beal",
          "Charles Schwab",
          "Uday Kotak",
          "Elizabeth Johnson",
          "Ned Johnson IV",
          "Qi Shi",
          "Izzy Englander",
          "Josh Harris",
          "Tony Ressler",
          "Mark Walter",
          "David Velez",
          "Graeme Hart",
          "Marc Rowan",
          "John Grayken",
          "Robert Smith",
          "David Shaw",
          "Stan Druckenmiller",
          "Alex Gerko",
          "Jon Gray",
          "Prince Hans-Adam II",
          "Arthur Dantchik",
          "Kenneth Dart",
          "Michael Platt",
          "Yu Yong",
          "John Doerr",
          "Michael Kim",
          "Jaime Gilinski",
          "Carl Bennet",
          "Yi Zheng",
          "Chris Hohn",
          "Nik Storonsky",
          "Tony James",
          "Steve Feinberg",
          "Henry Laufer",
          "Bill Ackman",
          "Joe Ricketts",
          "Thomas Pritzker",
          "Richard Tsai",
          "Andre Esteves",
          "Daniel Tsai",
          "Cho Jung-Ho",
          "Luis Sarmiento",
          "Pedro Moreira Salles",
          "Fernando Moreira Salles",
          "Zhang Lei",
          "Mat Ishbia",
          "Bruce Kovner",
          "George Soros"
         ],
         "legendgroup": "Finance",
         "marker": {
          "color": "#FF6692",
          "size": [
           63200000000,
           58100000000,
           54400000000,
           46200000000,
           44200000000,
           42500000000,
           21400000000,
           21300000000,
           21100000000,
           19900000000,
           16200000000,
           15900000000,
           15400000000,
           14900000000,
           14800000000,
           14300000000,
           14300000000,
           14300000000,
           14200000000,
           14200000000,
           14100000000,
           13500000000,
           13100000000,
           13100000000,
           13000000000,
           12100000000,
           11600000000,
           11500000000,
           11300000000,
           11100000000,
           11000000000,
           11000000000,
           10500000000,
           10400000000,
           10400000000,
           10300000000,
           9910000000,
           9760000000,
           9320000000,
           9280000000,
           9170000000,
           9020000000,
           8860000000,
           8850000000,
           8850000000,
           8600000000,
           8420000000,
           8300000000.000001,
           8199999999.999999,
           7820000000,
           7810000000,
           7640000000,
           7590000000,
           7580000000,
           7340000000,
           7260000000,
           7070000000,
           6760000000,
           6740000000,
           6640000000,
           6550000000,
           6520000000,
           6500000000
          ],
          "sizemode": "area",
          "sizeref": 1117500000,
          "symbol": "circle"
         },
         "mode": "markers",
         "name": "Finance",
         "orientation": "v",
         "showlegend": true,
         "type": "scatter",
         "visible": "legendonly",
         "x": [
          63200000000,
          58100000000,
          54400000000,
          46200000000,
          44200000000,
          42500000000,
          21400000000,
          21300000000,
          21100000000,
          19900000000,
          16200000000,
          15900000000,
          15400000000,
          14900000000,
          14800000000,
          14300000000,
          14300000000,
          14300000000,
          14200000000,
          14200000000,
          14100000000,
          13500000000,
          13100000000,
          13100000000,
          13000000000,
          12100000000,
          11600000000,
          11500000000,
          11300000000,
          11100000000,
          11000000000,
          11000000000,
          10500000000,
          10400000000,
          10400000000,
          10300000000,
          9910000000,
          9760000000,
          9320000000,
          9280000000,
          9170000000,
          9020000000,
          8860000000,
          8850000000,
          8850000000,
          8600000000,
          8420000000,
          8300000000.000001,
          8199999999.999999,
          7820000000,
          7810000000,
          7640000000,
          7590000000,
          7580000000,
          7340000000,
          7260000000,
          7070000000,
          6760000000,
          6740000000,
          6640000000,
          6550000000,
          6520000000,
          6500000000
         ],
         "xaxis": "x",
         "y": [
          28900000000,
          15700000000,
          28700000000,
          6330000000,
          7570000000,
          5990000000,
          3830000000,
          1140000000,
          7790000000,
          7120000000,
          -295000000,
          6710000000,
          2930000000,
          3640000000,
          882000000,
          2020000000,
          2360000000,
          -390000000,
          2120000000,
          2150000000,
          6740000000,
          1920000000,
          3770000000,
          3210000000,
          3570000000,
          3820000000,
          1240000000,
          3810000000,
          2620000000,
          -350000000,
          1460000000,
          1090000000,
          516000000,
          3140000000,
          527000000,
          163000000,
          3550000000,
          -3330000000,
          2360000000,
          2470000000,
          213000000,
          4000000000,
          633000000,
          4380000000,
          2530000000,
          4840000000,
          2540000000,
          3290000000,
          1180000000,
          5240000000,
          1310000000,
          1350000000,
          1800000000,
          -2360000000,
          1690000000,
          2520000000,
          233000000,
          -616000000,
          -492000000,
          931000000,
          -60300000,
          1070000000,
          -660000000
         ],
         "yaxis": "y"
        },
        {
         "hovertemplate": "<b>OLS trendline</b><br>$ YTD change = 0.353406 * Total net worth + -1.92017e+09<br>R<sup>2</sup>=0.678358<br><br>Industry=Finance<br>Majątek netto (USD)=%{x}<br>Roczna zmiana (USD)=%{y} <b>(trend)</b><extra></extra>",
         "legendgroup": "Finance",
         "marker": {
          "color": "#FF6692",
          "symbol": "circle"
         },
         "mode": "lines",
         "name": "Finance",
         "showlegend": false,
         "type": "scatter",
         "visible": "legendonly",
         "x": [
          6500000000,
          6520000000,
          6550000000,
          6640000000,
          6740000000,
          6760000000,
          7070000000,
          7260000000,
          7340000000,
          7580000000,
          7590000000,
          7640000000,
          7810000000,
          7820000000,
          8199999999.999999,
          8300000000.000001,
          8420000000,
          8600000000,
          8850000000,
          8850000000,
          8860000000,
          9020000000,
          9170000000,
          9280000000,
          9320000000,
          9760000000,
          9910000000,
          10300000000,
          10400000000,
          10400000000,
          10500000000,
          11000000000,
          11000000000,
          11100000000,
          11300000000,
          11500000000,
          11600000000,
          12100000000,
          13000000000,
          13100000000,
          13100000000,
          13500000000,
          14100000000,
          14200000000,
          14200000000,
          14300000000,
          14300000000,
          14300000000,
          14800000000,
          14900000000,
          15400000000,
          15900000000,
          16200000000,
          19900000000,
          21100000000,
          21300000000,
          21400000000,
          42500000000,
          44200000000,
          46200000000,
          54400000000,
          58100000000,
          63200000000
         ],
         "xaxis": "x",
         "y": [
          376970756.1205306,
          384038879.27194786,
          394641063.9990735,
          426447618.1804509,
          461788233.9375372,
          468856357.088954,
          578412265.9359207,
          645559435.8743839,
          673831928.4800525,
          758649406.297059,
          762183467.8727674,
          779853775.7513103,
          839932822.5383568,
          843466884.1140652,
          977761223.9909916,
          1013101839.7480779,
          1055510578.6565809,
          1119123687.0193353,
          1207475226.4120502,
          1207475226.4120502,
          1211009287.987759,
          1267554273.1990967,
          1320565196.8347254,
          1359439874.16752,
          1373576120.470354,
          1529074829.8015323,
          1582085753.4371614,
          1719914154.8897967,
          1755254770.6468825,
          1755254770.6468825,
          1790595386.4039683,
          1967298465.1893983,
          1967298465.1893983,
          2002639080.946484,
          2073320312.4606557,
          2144001543.9748278,
          2179342159.7319136,
          2356045238.5173435,
          2674110780.3311167,
          2709451396.0882025,
          2709451396.0882025,
          2850813859.1165466,
          3062857553.6590624,
          3098198169.416148,
          3098198169.416148,
          3133538785.173234,
          3133538785.173234,
          3133538785.173234,
          3310241863.958664,
          3345582479.7157497,
          3522285558.5011797,
          3698988637.2866096,
          3805010484.557867,
          5112613267.570046,
          5536700656.655078,
          5607381888.1692505,
          5642722503.926336,
          13099592428.671469,
          13700382896.541931,
          14407195211.68365,
          17305125703.764694,
          18612728486.77688,
          20415099890.38826
         ],
         "yaxis": "y"
        },
        {
         "hovertemplate": "<b>%{hovertext}</b><br><br>Industry=Food & Beverage<br>Majątek netto (USD)=%{marker.size}<br>Roczna zmiana (USD)=%{y}<extra></extra>",
         "hovertext": [
          "Jacqueline Badger Mars",
          "John Mars",
          "Giovanni Ferrero & family",
          "Mark Mateschitz",
          "Jorge Paulo Lemann",
          "Qin Yinglin",
          "Alejandro Santo Domingo & family",
          "Charoen Sirivadhanabhakdi",
          "Charlene de Carvalho-Heineken",
          "Pang Kang",
          "Marijke Mars",
          "Victoria Mars",
          "Pamela Mars-Wright",
          "Valerie Mars",
          "Marcel Telles",
          "Natie Kirsh",
          "Bob Rich",
          "Dan Cathy",
          "Bubba Cathy",
          "Lynsi Snyder",
          "Xu Shihui",
          "Carlos Sicupira",
          "M A Yusuff Ali",
          "Marian Ilitch",
          "Odd Reitan",
          "Tsai Eng-Meng"
         ],
         "legendgroup": "Food & Beverage",
         "marker": {
          "color": "#B6E880",
          "size": [
           44800000000,
           44800000000,
           37100000000,
           22200000000,
           22100000000,
           14500000000,
           14200000000,
           13800000000,
           13700000000,
           11900000000,
           11200000000,
           11200000000,
           11200000000,
           10900000000,
           9830000000,
           9630000000,
           8980000000,
           8250000000,
           8250000000,
           8080000000,
           7960000000,
           7600000000,
           6930000000,
           6510000000,
           6470000000,
           6450000000
          ],
          "sizemode": "area",
          "sizeref": 1117500000,
          "symbol": "circle"
         },
         "mode": "markers",
         "name": "Food & Beverage",
         "orientation": "v",
         "showlegend": true,
         "type": "scatter",
         "visible": "legendonly",
         "x": [
          44800000000,
          44800000000,
          37100000000,
          22200000000,
          22100000000,
          14500000000,
          14200000000,
          13800000000,
          13700000000,
          11900000000,
          11200000000,
          11200000000,
          11200000000,
          10900000000,
          9830000000,
          9630000000,
          8980000000,
          8250000000,
          8250000000,
          8080000000,
          7960000000,
          7600000000,
          6930000000,
          6510000000,
          6470000000,
          6450000000
         ],
         "xaxis": "x",
         "y": [
          -1790000000,
          -1790000000,
          3380000000,
          154000000,
          -1470000000,
          -187000000,
          780000000,
          1770000000,
          -2200000000,
          2420000000,
          -447000000,
          -447000000,
          -447000000,
          -696000000,
          -927000000,
          2020000000,
          523000000,
          1010000000,
          1010000000,
          1240000000,
          400000000,
          -1420000000,
          901000000,
          343000000,
          1060000000,
          459000000
         ],
         "yaxis": "y"
        },
        {
         "hovertemplate": "<b>OLS trendline</b><br>$ YTD change = -0.0278512 * Total net worth + 6.22761e+08<br>R<sup>2</sup>=0.049786<br><br>Industry=Food & Beverage<br>Majątek netto (USD)=%{x}<br>Roczna zmiana (USD)=%{y} <b>(trend)</b><extra></extra>",
         "legendgroup": "Food & Beverage",
         "marker": {
          "color": "#B6E880",
          "symbol": "circle"
         },
         "mode": "lines",
         "name": "Food & Beverage",
         "showlegend": false,
         "type": "scatter",
         "visible": "legendonly",
         "x": [
          6450000000,
          6470000000,
          6510000000,
          6930000000,
          7600000000,
          7960000000,
          8080000000,
          8250000000,
          8250000000,
          8980000000,
          9630000000,
          9830000000,
          10900000000,
          11200000000,
          11200000000,
          11200000000,
          11900000000,
          13700000000,
          13800000000,
          14200000000,
          14500000000,
          22100000000,
          22200000000,
          37100000000,
          44800000000,
          44800000000
         ],
         "xaxis": "x",
         "y": [
          443120666.76536286,
          442563643.6828454,
          441449597.5178104,
          429752112.784943,
          411091839.5206069,
          401065424.035292,
          397723285.540187,
          392988589.3387883,
          392988589.3387883,
          372657246.8268997,
          354553996.6450811,
          348983765.8199062,
          319183030.90522015,
          310827684.6674577,
          310827684.6674577,
          310827684.6674577,
          291331876.7793454,
          241199799.3527708,
          238414683.94018328,
          227274222.28983337,
          218918876.05207098,
          7250104.695422649,
          4464989.282835245,
          -410517207.19269896,
          -624971093.9619348,
          -624971093.9619348
         ],
         "yaxis": "y"
        },
        {
         "hovertemplate": "<b>%{hovertext}</b><br><br>Industry=Entertainment<br>Majątek netto (USD)=%{marker.size}<br>Roczna zmiana (USD)=%{y}<extra></extra>",
         "hovertext": [
          "Miriam Adelson",
          "Jerry Jones",
          "Tilman Fertitta",
          "Micky Arison",
          "Steven Spielberg",
          "David Geffen",
          "Robert Kraft",
          "George Lucas",
          "Clive Calder",
          "Gayle Benson",
          "Cai Haoyu",
          "Mark Scheinberg"
         ],
         "legendgroup": "Entertainment",
         "marker": {
          "color": "#FF97FF",
          "size": [
           38800000000,
           15500000000,
           15300000000,
           15100000000,
           9830000000,
           9100000000,
           8780000000,
           8470000000.000001,
           8199999999.999999,
           7510000000,
           7140000000,
           6830000000
          ],
          "sizemode": "area",
          "sizeref": 1117500000,
          "symbol": "circle"
         },
         "mode": "markers",
         "name": "Entertainment",
         "orientation": "v",
         "showlegend": true,
         "type": "scatter",
         "visible": "legendonly",
         "x": [
          38800000000,
          15500000000,
          15300000000,
          15100000000,
          9830000000,
          9100000000,
          8780000000,
          8470000000.000001,
          8199999999.999999,
          7510000000,
          7140000000,
          6830000000
         ],
         "xaxis": "x",
         "y": [
          4650000000,
          3030000000,
          4250000000,
          2220000000,
          1430000000,
          0,
          615000000,
          1640000000,
          1380000000,
          600000000,
          781000000,
          1000000000
         ],
         "yaxis": "y"
        },
        {
         "hovertemplate": "<b>OLS trendline</b><br>$ YTD change = 0.134228 * Total net worth + 1.15558e+08<br>R<sup>2</sup>=0.654138<br><br>Industry=Entertainment<br>Majątek netto (USD)=%{x}<br>Roczna zmiana (USD)=%{y} <b>(trend)</b><extra></extra>",
         "legendgroup": "Entertainment",
         "marker": {
          "color": "#FF97FF",
          "symbol": "circle"
         },
         "mode": "lines",
         "name": "Entertainment",
         "showlegend": false,
         "type": "scatter",
         "visible": "legendonly",
         "x": [
          6830000000,
          7140000000,
          7510000000,
          8199999999.999999,
          8470000000.000001,
          8780000000,
          9100000000,
          9830000000,
          15100000000,
          15300000000,
          15500000000,
          38800000000
         ],
         "xaxis": "x",
         "y": [
          1032332140.3262006,
          1073942700.6467042,
          1123606917.803434,
          1216223971.4200382,
          1252465427.1830573,
          1294075987.5035605,
          1337028823.9634352,
          1435014982.1375237,
          2142394507.5860815,
          2169240030.373503,
          2196085553.160925,
          5323588957.895535
         ],
         "yaxis": "y"
        },
        {
         "hovertemplate": "<b>%{hovertext}</b><br><br>Industry=Commodities<br>Majątek netto (USD)=%{marker.size}<br>Roczna zmiana (USD)=%{y}<extra></extra>",
         "hovertext": [
          "German Larrea",
          "Savitri Jindal",
          "Vladimir Potanin",
          "Iris Fontbona & family",
          "Andrew Forrest",
          "Lakshmi Mittal",
          "Sukanto Tanoto",
          "Gina Rinehart",
          "Paolo Rocca & family",
          "Suleiman Kerimov",
          "Ivan Glasenberg",
          "Benu Bangur",
          "Vladimir Kim",
          "Alejandro Bailleres",
          "Gwendolyn Sontheim Meyer",
          "Pauline Keinath",
          "Ira Rennert"
         ],
         "legendgroup": "Commodities",
         "marker": {
          "color": "#FECB52",
          "size": [
           35800000000,
           34700000000,
           32400000000,
           30400000000,
           24200000000,
           21100000000,
           21000000000,
           18800000000,
           15300000000,
           9120000000,
           7900000000,
           7540000000,
           7290000000,
           6810000000,
           6790000000,
           6790000000,
           6410000000
          ],
          "sizemode": "area",
          "sizeref": 1117500000,
          "symbol": "circle"
         },
         "mode": "markers",
         "name": "Commodities",
         "orientation": "v",
         "showlegend": true,
         "type": "scatter",
         "visible": "legendonly",
         "x": [
          35800000000,
          34700000000,
          32400000000,
          30400000000,
          24200000000,
          21100000000,
          21000000000,
          18800000000,
          15300000000,
          9120000000,
          7900000000,
          7540000000,
          7290000000,
          6810000000,
          6790000000,
          6790000000,
          6410000000
         ],
         "xaxis": "x",
         "y": [
          -116000000,
          10000000000,
          1320000000,
          2220000000,
          -5760000000,
          583000000,
          -1190000000,
          -8369999999.999999,
          262000000,
          75000000,
          -968000000,
          -459000000,
          136000000,
          -46500000,
          -821000000,
          -821000000,
          544000000
         ],
         "yaxis": "y"
        },
        {
         "hovertemplate": "<b>OLS trendline</b><br>$ YTD change = 0.0980585 * Total net worth + -1.88699e+09<br>R<sup>2</sup>=0.086621<br><br>Industry=Commodities<br>Majątek netto (USD)=%{x}<br>Roczna zmiana (USD)=%{y} <b>(trend)</b><extra></extra>",
         "legendgroup": "Commodities",
         "marker": {
          "color": "#FECB52",
          "symbol": "circle"
         },
         "mode": "lines",
         "name": "Commodities",
         "showlegend": false,
         "type": "scatter",
         "visible": "legendonly",
         "x": [
          6410000000,
          6790000000,
          6790000000,
          6810000000,
          7290000000,
          7540000000,
          7900000000,
          9120000000,
          15300000000,
          18800000000,
          21000000000,
          21100000000,
          24200000000,
          30400000000,
          32400000000,
          34700000000,
          35800000000
         ],
         "xaxis": "x",
         "y": [
          -1258438927.3707137,
          -1221176709.7307596,
          -1221176709.7307596,
          -1219215540.3812883,
          -1172147475.9939775,
          -1147632859.1255865,
          -1112331810.8351038,
          -992700480.5173558,
          -386699151.53073144,
          -43494515.373258114,
          172234113.0685823,
          182039959.8159387,
          486021208.98398685,
          1093983707.3200822,
          1290100642.26721,
          1515635117.4564066,
          1623499431.6773272
         ],
         "yaxis": "y"
        },
        {
         "hovertemplate": "<b>%{hovertext}</b><br><br>Industry=Real Estate<br>Majątek netto (USD)=%{marker.size}<br>Roczna zmiana (USD)=%{y}<extra></extra>",
         "hovertext": [
          "Li Ka-shing",
          "Dan Gilbert",
          "Lee Shau Kee",
          "Stan Kroenke",
          "K P Singh",
          "Harry Triguboff",
          "Donald Bren",
          "Peter Woo",
          "Hugh Grosvenor",
          "Stephen Ross",
          "Mangal Prabhat Lodha",
          "Raymond Kwok",
          "Thomas Kwok",
          "John Albert Sobrato",
          "Frank Lowy",
          "Leonard Stern",
          "Wang Jianlin",
          "Edward Roski",
          "Edward Cadogan",
          "Geoffrey Kwok",
          "Donald Trump",
          "Vikas Oberoi"
         ],
         "legendgroup": "Real Estate",
         "marker": {
          "color": "#636efa",
          "size": [
           30500000000,
           28300000000,
           24600000000,
           20700000000,
           19100000000,
           18700000000,
           17400000000,
           14200000000,
           13100000000,
           12800000000,
           12500000000,
           12500000000,
           12100000000,
           11400000000,
           8980000000,
           7730000000,
           7440000000,
           7350000000,
           7160000000,
           7080000000,
           6720000000,
           6420000000
          ],
          "sizemode": "area",
          "sizeref": 1117500000,
          "symbol": "circle"
         },
         "mode": "markers",
         "name": "Real Estate",
         "orientation": "v",
         "showlegend": true,
         "type": "scatter",
         "visible": "legendonly",
         "x": [
          30500000000,
          28300000000,
          24600000000,
          20700000000,
          19100000000,
          18700000000,
          17400000000,
          14200000000,
          13100000000,
          12800000000,
          12500000000,
          12500000000,
          12100000000,
          11400000000,
          8980000000,
          7730000000,
          7440000000,
          7350000000,
          7160000000,
          7080000000,
          6720000000,
          6420000000
         ],
         "xaxis": "x",
         "y": [
          1970000000,
          -1420000000,
          3150000000,
          3150000000,
          2990000000,
          2800000000,
          179000000,
          -1920000000,
          478000000,
          4180000000,
          3220000000,
          841000000,
          847000000,
          1050000000,
          625000000,
          1350000000,
          1040000000,
          694000000,
          619000000,
          282000000,
          3630000000,
          2000000000
         ],
         "yaxis": "y"
        },
        {
         "hovertemplate": "<b>OLS trendline</b><br>$ YTD change = 0.00974137 * Total net worth + 1.30757e+09<br>R<sup>2</sup>=0.001933<br><br>Industry=Real Estate<br>Majątek netto (USD)=%{x}<br>Roczna zmiana (USD)=%{y} <b>(trend)</b><extra></extra>",
         "legendgroup": "Real Estate",
         "marker": {
          "color": "#636efa",
          "symbol": "circle"
         },
         "mode": "lines",
         "name": "Real Estate",
         "showlegend": false,
         "type": "scatter",
         "visible": "legendonly",
         "x": [
          6420000000,
          6720000000,
          7080000000,
          7160000000,
          7350000000,
          7440000000,
          7730000000,
          8980000000,
          11400000000,
          12100000000,
          12500000000,
          12500000000,
          12800000000,
          13100000000,
          14200000000,
          17400000000,
          18700000000,
          19100000000,
          20700000000,
          24600000000,
          28300000000,
          30500000000
         ],
         "xaxis": "x",
         "y": [
          1370109730.7447598,
          1373032140.8999162,
          1376539033.086104,
          1377318342.460812,
          1379169202.2257445,
          1380045925.2722914,
          1382870921.7556093,
          1395047630.7354274,
          1418621739.3203554,
          1425440696.3490536,
          1429337243.2225955,
          1429337243.2225955,
          1432259653.3777518,
          1435182063.5329082,
          1445897567.4351482,
          1477069942.4234827,
          1489733719.7624936,
          1493630266.6360354,
          1509216454.1302028,
          1547207786.1472354,
          1583250844.7274973,
          1604681852.5319772
         ],
         "yaxis": "y"
        },
        {
         "hovertemplate": "<b>%{hovertext}</b><br><br>Industry=Services<br>Majątek netto (USD)=%{marker.size}<br>Roczna zmiana (USD)=%{y}<extra></extra>",
         "hovertext": [
          "Rodolphe Saade & family",
          "Gianluigi Aponte",
          "Diane Hendricks",
          "Patrick Ryan",
          "Brian Chesky",
          "Torstein Hagen",
          "Wang Wei",
          "Tammy Gustavson",
          "Enrique Razon",
          "Nathan Blecharczyk",
          "Joe Gebbia",
          "Steve Bisciotti",
          "Jeff Green"
         ],
         "legendgroup": "Services",
         "marker": {
          "color": "#EF553B",
          "size": [
           29600000000,
           27700000000,
           15100000000,
           11900000000,
           11200000000,
           10600000000,
           10400000000,
           9730000000,
           9370000000,
           9350000000,
           8670000000,
           7190000000,
           7130000000
          ],
          "sizemode": "area",
          "sizeref": 1117500000,
          "symbol": "circle"
         },
         "mode": "markers",
         "name": "Services",
         "orientation": "v",
         "showlegend": true,
         "type": "scatter",
         "visible": "legendonly",
         "x": [
          29600000000,
          27700000000,
          15100000000,
          11900000000,
          11200000000,
          10600000000,
          10400000000,
          9730000000,
          9370000000,
          9350000000,
          8670000000,
          7190000000,
          7130000000
         ],
         "xaxis": "x",
         "y": [
          7650000000,
          7280000000,
          4410000000,
          3700000000,
          310000000,
          5770000000,
          -250000000,
          1100000000,
          2150000000,
          230000000,
          306000000,
          782000000,
          3050000000
         ],
         "yaxis": "y"
        },
        {
         "hovertemplate": "<b>OLS trendline</b><br>$ YTD change = 0.302 * Total net worth + -1.0946e+09<br>R<sup>2</sup>=0.634410<br><br>Industry=Services<br>Majątek netto (USD)=%{x}<br>Roczna zmiana (USD)=%{y} <b>(trend)</b><extra></extra>",
         "legendgroup": "Services",
         "marker": {
          "color": "#EF553B",
          "symbol": "circle"
         },
         "mode": "lines",
         "name": "Services",
         "showlegend": false,
         "type": "scatter",
         "visible": "legendonly",
         "x": [
          7130000000,
          7190000000,
          8670000000,
          9350000000,
          9370000000,
          9730000000,
          10400000000,
          10600000000,
          11200000000,
          11900000000,
          15100000000,
          27700000000,
          29600000000
         ],
         "xaxis": "x",
         "y": [
          1058656125.9586885,
          1076776102.3274887,
          1523735519.4245632,
          1729095251.6043003,
          1735135243.7272336,
          1843855101.9400356,
          2046194838.0583055,
          2106594759.2876399,
          2287794522.975643,
          2499194247.2783136,
          3465592986.9476633,
          7270788024.395729,
          7844587276.074407
         ],
         "yaxis": "y"
        },
        {
         "hovertemplate": "<b>%{hovertext}</b><br><br>Industry=Health Care<br>Majątek netto (USD)=%{marker.size}<br>Roczna zmiana (USD)=%{y}<extra></extra>",
         "hovertext": [
          "Thomas Frist",
          "Dilip Shanghvi",
          "Cyrus Poonawalla",
          "Thomas Struengmann",
          "Andreas Struengmann",
          "Li Xiting",
          "Bob Duggan",
          "Carl Cook",
          "Sulaiman Al Habib",
          "Hansjoerg Wyss",
          "Zhong Huijuan",
          "Sun Piaoyang",
          "Patrick Soon-Shiong",
          "Ronda Stryker",
          "Murali Divi",
          "Pankaj Patel",
          "Xu Hang",
          "Zhu Yi",
          "Pat Stryker",
          "Sudhir Mehta",
          "Samir Mehta",
          "Jiang Rensheng",
          "Chen Bang",
          "Cen Junda",
          "Niels Louis-Hansen",
          "Andre Hoffmann",
          "Frederik Paulsen",
          "Massimiliana Landini Aleotti",
          "Alain Merieux",
          "Jorge Moll & family"
         ],
         "legendgroup": "Health Care",
         "marker": {
          "color": "#00cc96",
          "size": [
           28900000000,
           28700000000,
           20700000000,
           15800000000,
           15800000000,
           14500000000,
           13900000000,
           12700000000,
           12400000000,
           12200000000,
           11000000000,
           10900000000,
           10900000000,
           10400000000,
           10100000000,
           9330000000,
           8780000000,
           8580000000,
           8400000000,
           7930000000,
           7930000000,
           7830000000,
           7830000000,
           7390000000,
           7320000000,
           7040000000,
           6900000000,
           6740000000,
           6670000000,
           6560000000
          ],
          "sizemode": "area",
          "sizeref": 1117500000,
          "symbol": "circle"
         },
         "mode": "markers",
         "name": "Health Care",
         "orientation": "v",
         "showlegend": true,
         "type": "scatter",
         "visible": "legendonly",
         "x": [
          28900000000,
          28700000000,
          20700000000,
          15800000000,
          15800000000,
          14500000000,
          13900000000,
          12700000000,
          12400000000,
          12200000000,
          11000000000,
          10900000000,
          10900000000,
          10400000000,
          10100000000,
          9330000000,
          8780000000,
          8580000000,
          8400000000,
          7930000000,
          7930000000,
          7830000000,
          7830000000,
          7390000000,
          7320000000,
          7040000000,
          6900000000,
          6740000000,
          6670000000,
          6560000000
         ],
         "xaxis": "x",
         "y": [
          4330000000,
          7890000000,
          3010000000,
          2860000000,
          2860000000,
          -1080000000,
          9490000000,
          2190000000,
          1100000000,
          1610000000,
          1860000000,
          595000000,
          428000000,
          1630000000,
          3260000000,
          2600000000,
          -3990000000,
          2710000000,
          1500000000,
          2700000000,
          2700000000,
          -5290000000,
          -784000000,
          603000000,
          284000000,
          403000000,
          156000000,
          -12700000,
          -85700000,
          -1170000000
         ],
         "yaxis": "y"
        },
        {
         "hovertemplate": "<b>OLS trendline</b><br>$ YTD change = 0.285207 * Total net worth + -1.79305e+09<br>R<sup>2</sup>=0.335288<br><br>Industry=Health Care<br>Majątek netto (USD)=%{x}<br>Roczna zmiana (USD)=%{y} <b>(trend)</b><extra></extra>",
         "legendgroup": "Health Care",
         "marker": {
          "color": "#00cc96",
          "symbol": "circle"
         },
         "mode": "lines",
         "name": "Health Care",
         "showlegend": false,
         "type": "scatter",
         "visible": "legendonly",
         "x": [
          6560000000,
          6670000000,
          6740000000,
          6900000000,
          7040000000,
          7320000000,
          7390000000,
          7830000000,
          7830000000,
          7930000000,
          7930000000,
          8400000000,
          8580000000,
          8780000000,
          9330000000,
          10100000000,
          10400000000,
          10900000000,
          10900000000,
          11000000000,
          12200000000,
          12400000000,
          12700000000,
          13900000000,
          14500000000,
          15800000000,
          15800000000,
          20700000000,
          28700000000,
          28900000000
         ],
         "xaxis": "x",
         "y": [
          77903665.38839364,
          109276392.62804794,
          129240855.416919,
          174873913.22005296,
          214802838.79779506,
          294660689.95327926,
          314625152.7421503,
          440116061.700768,
          440116061.700768,
          468636722.82772684,
          468636722.82772684,
          602683830.1244326,
          654021020.1529579,
          711062342.4068751,
          867925978.6051478,
          1087535069.2827291,
          1173097052.6636052,
          1315700358.2983985,
          1315700358.2983985,
          1344221019.4253569,
          1686468952.9488606,
          1743510275.2027779,
          1829072258.583654,
          2171320192.107157,
          2342444158.8689094,
          2713212753.5193715,
          2713212753.5193715,
          4110725148.7403445,
          6392378038.897036,
          6449419361.150953
         ],
         "yaxis": "y"
        },
        {
         "hovertemplate": "<b>%{hovertext}</b><br><br>Industry=Media & Telecom<br>Majątek netto (USD)=%{marker.size}<br>Roczna zmiana (USD)=%{y}<extra></extra>",
         "hovertext": [
          "Sunil Mittal",
          "Sherry Brydson",
          "Donald Newhouse",
          "Peter Thomson",
          "Taylor Thomson",
          "David Thomson",
          "Laurene Powell Jobs",
          "Rupert Murdoch",
          "Linda Campbell",
          "Gaye Farncombe",
          "John Malone",
          "Blair Parry-Okeden",
          "Jim Kennedy",
          "James Pattison",
          "Yasumitsu Shigeta",
          "Naguib Sawiris",
          "Liz Mohn",
          "Rocco Commisso",
          "Charles Dolan & family"
         ],
         "legendgroup": "Media & Telecom",
         "marker": {
          "color": "#ab63fa",
          "size": [
           24200000000,
           20100000000,
           19400000000,
           12400000000,
           12400000000,
           12400000000,
           12300000000,
           11800000000,
           9760000000,
           9760000000,
           9760000000,
           8670000000,
           8670000000,
           7770000000,
           7230000000,
           7230000000,
           7080000000,
           7010000000,
           6880000000
          ],
          "sizemode": "area",
          "sizeref": 1117500000,
          "symbol": "circle"
         },
         "mode": "markers",
         "name": "Media & Telecom",
         "orientation": "v",
         "showlegend": true,
         "type": "scatter",
         "visible": "legendonly",
         "x": [
          24200000000,
          20100000000,
          19400000000,
          12400000000,
          12400000000,
          12400000000,
          12300000000,
          11800000000,
          9760000000,
          9760000000,
          9760000000,
          8670000000,
          8670000000,
          7770000000,
          7230000000,
          7230000000,
          7080000000,
          7010000000,
          6880000000
         ],
         "xaxis": "x",
         "y": [
          8260000000,
          2510000000,
          3390000000,
          1550000000,
          1550000000,
          1540000000,
          2040000000,
          3000000000,
          1210000000,
          1210000000,
          840000000,
          -619000000,
          -619000000,
          889000000,
          1310000000,
          752000000,
          215000000,
          -1020000000,
          1010000000
         ],
         "yaxis": "y"
        },
        {
         "hovertemplate": "<b>OLS trendline</b><br>$ YTD change = 0.344163 * Total net worth + -2.36395e+09<br>R<sup>2</sup>=0.722127<br><br>Industry=Media & Telecom<br>Majątek netto (USD)=%{x}<br>Roczna zmiana (USD)=%{y} <b>(trend)</b><extra></extra>",
         "legendgroup": "Media & Telecom",
         "marker": {
          "color": "#ab63fa",
          "symbol": "circle"
         },
         "mode": "lines",
         "name": "Media & Telecom",
         "showlegend": false,
         "type": "scatter",
         "visible": "legendonly",
         "x": [
          6880000000,
          7010000000,
          7080000000,
          7230000000,
          7230000000,
          7770000000,
          8670000000,
          8670000000,
          9760000000,
          9760000000,
          9760000000,
          11800000000,
          12300000000,
          12400000000,
          12400000000,
          12400000000,
          19400000000,
          20100000000,
          24200000000
         ],
         "xaxis": "x",
         "y": [
          3888549.5949845314,
          48629753.905333996,
          72721171.6109066,
          124345638.12284851,
          124345638.12284851,
          310193717.56583834,
          619940516.6374884,
          619940516.6374884,
          995078306.6242642,
          995078306.6242642,
          995078306.6242642,
          1697171051.1866708,
          1869252606.2264762,
          1903668917.2344375,
          1903668917.2344375,
          1903668917.2344375,
          4312810687.791714,
          4553724864.847443,
          5964793616.173847
         ],
         "yaxis": "y"
        }
       ],
       "layout": {
        "height": 800,
        "legend": {
         "itemsizing": "constant",
         "title": {
          "text": "Industry"
         },
         "tracegroupgap": 0
        },
        "template": {
         "data": {
          "bar": [
           {
            "error_x": {
             "color": "#2a3f5f"
            },
            "error_y": {
             "color": "#2a3f5f"
            },
            "marker": {
             "line": {
              "color": "white",
              "width": 0.5
             },
             "pattern": {
              "fillmode": "overlay",
              "size": 10,
              "solidity": 0.2
             }
            },
            "type": "bar"
           }
          ],
          "barpolar": [
           {
            "marker": {
             "line": {
              "color": "white",
              "width": 0.5
             },
             "pattern": {
              "fillmode": "overlay",
              "size": 10,
              "solidity": 0.2
             }
            },
            "type": "barpolar"
           }
          ],
          "carpet": [
           {
            "aaxis": {
             "endlinecolor": "#2a3f5f",
             "gridcolor": "#C8D4E3",
             "linecolor": "#C8D4E3",
             "minorgridcolor": "#C8D4E3",
             "startlinecolor": "#2a3f5f"
            },
            "baxis": {
             "endlinecolor": "#2a3f5f",
             "gridcolor": "#C8D4E3",
             "linecolor": "#C8D4E3",
             "minorgridcolor": "#C8D4E3",
             "startlinecolor": "#2a3f5f"
            },
            "type": "carpet"
           }
          ],
          "choropleth": [
           {
            "colorbar": {
             "outlinewidth": 0,
             "ticks": ""
            },
            "type": "choropleth"
           }
          ],
          "contour": [
           {
            "colorbar": {
             "outlinewidth": 0,
             "ticks": ""
            },
            "colorscale": [
             [
              0,
              "#0d0887"
             ],
             [
              0.1111111111111111,
              "#46039f"
             ],
             [
              0.2222222222222222,
              "#7201a8"
             ],
             [
              0.3333333333333333,
              "#9c179e"
             ],
             [
              0.4444444444444444,
              "#bd3786"
             ],
             [
              0.5555555555555556,
              "#d8576b"
             ],
             [
              0.6666666666666666,
              "#ed7953"
             ],
             [
              0.7777777777777778,
              "#fb9f3a"
             ],
             [
              0.8888888888888888,
              "#fdca26"
             ],
             [
              1,
              "#f0f921"
             ]
            ],
            "type": "contour"
           }
          ],
          "contourcarpet": [
           {
            "colorbar": {
             "outlinewidth": 0,
             "ticks": ""
            },
            "type": "contourcarpet"
           }
          ],
          "heatmap": [
           {
            "colorbar": {
             "outlinewidth": 0,
             "ticks": ""
            },
            "colorscale": [
             [
              0,
              "#0d0887"
             ],
             [
              0.1111111111111111,
              "#46039f"
             ],
             [
              0.2222222222222222,
              "#7201a8"
             ],
             [
              0.3333333333333333,
              "#9c179e"
             ],
             [
              0.4444444444444444,
              "#bd3786"
             ],
             [
              0.5555555555555556,
              "#d8576b"
             ],
             [
              0.6666666666666666,
              "#ed7953"
             ],
             [
              0.7777777777777778,
              "#fb9f3a"
             ],
             [
              0.8888888888888888,
              "#fdca26"
             ],
             [
              1,
              "#f0f921"
             ]
            ],
            "type": "heatmap"
           }
          ],
          "heatmapgl": [
           {
            "colorbar": {
             "outlinewidth": 0,
             "ticks": ""
            },
            "colorscale": [
             [
              0,
              "#0d0887"
             ],
             [
              0.1111111111111111,
              "#46039f"
             ],
             [
              0.2222222222222222,
              "#7201a8"
             ],
             [
              0.3333333333333333,
              "#9c179e"
             ],
             [
              0.4444444444444444,
              "#bd3786"
             ],
             [
              0.5555555555555556,
              "#d8576b"
             ],
             [
              0.6666666666666666,
              "#ed7953"
             ],
             [
              0.7777777777777778,
              "#fb9f3a"
             ],
             [
              0.8888888888888888,
              "#fdca26"
             ],
             [
              1,
              "#f0f921"
             ]
            ],
            "type": "heatmapgl"
           }
          ],
          "histogram": [
           {
            "marker": {
             "pattern": {
              "fillmode": "overlay",
              "size": 10,
              "solidity": 0.2
             }
            },
            "type": "histogram"
           }
          ],
          "histogram2d": [
           {
            "colorbar": {
             "outlinewidth": 0,
             "ticks": ""
            },
            "colorscale": [
             [
              0,
              "#0d0887"
             ],
             [
              0.1111111111111111,
              "#46039f"
             ],
             [
              0.2222222222222222,
              "#7201a8"
             ],
             [
              0.3333333333333333,
              "#9c179e"
             ],
             [
              0.4444444444444444,
              "#bd3786"
             ],
             [
              0.5555555555555556,
              "#d8576b"
             ],
             [
              0.6666666666666666,
              "#ed7953"
             ],
             [
              0.7777777777777778,
              "#fb9f3a"
             ],
             [
              0.8888888888888888,
              "#fdca26"
             ],
             [
              1,
              "#f0f921"
             ]
            ],
            "type": "histogram2d"
           }
          ],
          "histogram2dcontour": [
           {
            "colorbar": {
             "outlinewidth": 0,
             "ticks": ""
            },
            "colorscale": [
             [
              0,
              "#0d0887"
             ],
             [
              0.1111111111111111,
              "#46039f"
             ],
             [
              0.2222222222222222,
              "#7201a8"
             ],
             [
              0.3333333333333333,
              "#9c179e"
             ],
             [
              0.4444444444444444,
              "#bd3786"
             ],
             [
              0.5555555555555556,
              "#d8576b"
             ],
             [
              0.6666666666666666,
              "#ed7953"
             ],
             [
              0.7777777777777778,
              "#fb9f3a"
             ],
             [
              0.8888888888888888,
              "#fdca26"
             ],
             [
              1,
              "#f0f921"
             ]
            ],
            "type": "histogram2dcontour"
           }
          ],
          "mesh3d": [
           {
            "colorbar": {
             "outlinewidth": 0,
             "ticks": ""
            },
            "type": "mesh3d"
           }
          ],
          "parcoords": [
           {
            "line": {
             "colorbar": {
              "outlinewidth": 0,
              "ticks": ""
             }
            },
            "type": "parcoords"
           }
          ],
          "pie": [
           {
            "automargin": true,
            "type": "pie"
           }
          ],
          "scatter": [
           {
            "fillpattern": {
             "fillmode": "overlay",
             "size": 10,
             "solidity": 0.2
            },
            "type": "scatter"
           }
          ],
          "scatter3d": [
           {
            "line": {
             "colorbar": {
              "outlinewidth": 0,
              "ticks": ""
             }
            },
            "marker": {
             "colorbar": {
              "outlinewidth": 0,
              "ticks": ""
             }
            },
            "type": "scatter3d"
           }
          ],
          "scattercarpet": [
           {
            "marker": {
             "colorbar": {
              "outlinewidth": 0,
              "ticks": ""
             }
            },
            "type": "scattercarpet"
           }
          ],
          "scattergeo": [
           {
            "marker": {
             "colorbar": {
              "outlinewidth": 0,
              "ticks": ""
             }
            },
            "type": "scattergeo"
           }
          ],
          "scattergl": [
           {
            "marker": {
             "colorbar": {
              "outlinewidth": 0,
              "ticks": ""
             }
            },
            "type": "scattergl"
           }
          ],
          "scattermapbox": [
           {
            "marker": {
             "colorbar": {
              "outlinewidth": 0,
              "ticks": ""
             }
            },
            "type": "scattermapbox"
           }
          ],
          "scatterpolar": [
           {
            "marker": {
             "colorbar": {
              "outlinewidth": 0,
              "ticks": ""
             }
            },
            "type": "scatterpolar"
           }
          ],
          "scatterpolargl": [
           {
            "marker": {
             "colorbar": {
              "outlinewidth": 0,
              "ticks": ""
             }
            },
            "type": "scatterpolargl"
           }
          ],
          "scatterternary": [
           {
            "marker": {
             "colorbar": {
              "outlinewidth": 0,
              "ticks": ""
             }
            },
            "type": "scatterternary"
           }
          ],
          "surface": [
           {
            "colorbar": {
             "outlinewidth": 0,
             "ticks": ""
            },
            "colorscale": [
             [
              0,
              "#0d0887"
             ],
             [
              0.1111111111111111,
              "#46039f"
             ],
             [
              0.2222222222222222,
              "#7201a8"
             ],
             [
              0.3333333333333333,
              "#9c179e"
             ],
             [
              0.4444444444444444,
              "#bd3786"
             ],
             [
              0.5555555555555556,
              "#d8576b"
             ],
             [
              0.6666666666666666,
              "#ed7953"
             ],
             [
              0.7777777777777778,
              "#fb9f3a"
             ],
             [
              0.8888888888888888,
              "#fdca26"
             ],
             [
              1,
              "#f0f921"
             ]
            ],
            "type": "surface"
           }
          ],
          "table": [
           {
            "cells": {
             "fill": {
              "color": "#EBF0F8"
             },
             "line": {
              "color": "white"
             }
            },
            "header": {
             "fill": {
              "color": "#C8D4E3"
             },
             "line": {
              "color": "white"
             }
            },
            "type": "table"
           }
          ]
         },
         "layout": {
          "annotationdefaults": {
           "arrowcolor": "#2a3f5f",
           "arrowhead": 0,
           "arrowwidth": 1
          },
          "autotypenumbers": "strict",
          "coloraxis": {
           "colorbar": {
            "outlinewidth": 0,
            "ticks": ""
           }
          },
          "colorscale": {
           "diverging": [
            [
             0,
             "#8e0152"
            ],
            [
             0.1,
             "#c51b7d"
            ],
            [
             0.2,
             "#de77ae"
            ],
            [
             0.3,
             "#f1b6da"
            ],
            [
             0.4,
             "#fde0ef"
            ],
            [
             0.5,
             "#f7f7f7"
            ],
            [
             0.6,
             "#e6f5d0"
            ],
            [
             0.7,
             "#b8e186"
            ],
            [
             0.8,
             "#7fbc41"
            ],
            [
             0.9,
             "#4d9221"
            ],
            [
             1,
             "#276419"
            ]
           ],
           "sequential": [
            [
             0,
             "#0d0887"
            ],
            [
             0.1111111111111111,
             "#46039f"
            ],
            [
             0.2222222222222222,
             "#7201a8"
            ],
            [
             0.3333333333333333,
             "#9c179e"
            ],
            [
             0.4444444444444444,
             "#bd3786"
            ],
            [
             0.5555555555555556,
             "#d8576b"
            ],
            [
             0.6666666666666666,
             "#ed7953"
            ],
            [
             0.7777777777777778,
             "#fb9f3a"
            ],
            [
             0.8888888888888888,
             "#fdca26"
            ],
            [
             1,
             "#f0f921"
            ]
           ],
           "sequentialminus": [
            [
             0,
             "#0d0887"
            ],
            [
             0.1111111111111111,
             "#46039f"
            ],
            [
             0.2222222222222222,
             "#7201a8"
            ],
            [
             0.3333333333333333,
             "#9c179e"
            ],
            [
             0.4444444444444444,
             "#bd3786"
            ],
            [
             0.5555555555555556,
             "#d8576b"
            ],
            [
             0.6666666666666666,
             "#ed7953"
            ],
            [
             0.7777777777777778,
             "#fb9f3a"
            ],
            [
             0.8888888888888888,
             "#fdca26"
            ],
            [
             1,
             "#f0f921"
            ]
           ]
          },
          "colorway": [
           "#636efa",
           "#EF553B",
           "#00cc96",
           "#ab63fa",
           "#FFA15A",
           "#19d3f3",
           "#FF6692",
           "#B6E880",
           "#FF97FF",
           "#FECB52"
          ],
          "font": {
           "color": "#2a3f5f"
          },
          "geo": {
           "bgcolor": "white",
           "lakecolor": "white",
           "landcolor": "white",
           "showlakes": true,
           "showland": true,
           "subunitcolor": "#C8D4E3"
          },
          "hoverlabel": {
           "align": "left"
          },
          "hovermode": "closest",
          "mapbox": {
           "style": "light"
          },
          "paper_bgcolor": "white",
          "plot_bgcolor": "white",
          "polar": {
           "angularaxis": {
            "gridcolor": "#EBF0F8",
            "linecolor": "#EBF0F8",
            "ticks": ""
           },
           "bgcolor": "white",
           "radialaxis": {
            "gridcolor": "#EBF0F8",
            "linecolor": "#EBF0F8",
            "ticks": ""
           }
          },
          "scene": {
           "xaxis": {
            "backgroundcolor": "white",
            "gridcolor": "#DFE8F3",
            "gridwidth": 2,
            "linecolor": "#EBF0F8",
            "showbackground": true,
            "ticks": "",
            "zerolinecolor": "#EBF0F8"
           },
           "yaxis": {
            "backgroundcolor": "white",
            "gridcolor": "#DFE8F3",
            "gridwidth": 2,
            "linecolor": "#EBF0F8",
            "showbackground": true,
            "ticks": "",
            "zerolinecolor": "#EBF0F8"
           },
           "zaxis": {
            "backgroundcolor": "white",
            "gridcolor": "#DFE8F3",
            "gridwidth": 2,
            "linecolor": "#EBF0F8",
            "showbackground": true,
            "ticks": "",
            "zerolinecolor": "#EBF0F8"
           }
          },
          "shapedefaults": {
           "line": {
            "color": "#2a3f5f"
           }
          },
          "ternary": {
           "aaxis": {
            "gridcolor": "#DFE8F3",
            "linecolor": "#A2B1C6",
            "ticks": ""
           },
           "baxis": {
            "gridcolor": "#DFE8F3",
            "linecolor": "#A2B1C6",
            "ticks": ""
           },
           "bgcolor": "white",
           "caxis": {
            "gridcolor": "#DFE8F3",
            "linecolor": "#A2B1C6",
            "ticks": ""
           }
          },
          "title": {
           "x": 0.05
          },
          "xaxis": {
           "automargin": true,
           "gridcolor": "#EBF0F8",
           "linecolor": "#EBF0F8",
           "ticks": "",
           "title": {
            "standoff": 15
           },
           "zerolinecolor": "#EBF0F8",
           "zerolinewidth": 2
          },
          "yaxis": {
           "automargin": true,
           "gridcolor": "#EBF0F8",
           "linecolor": "#EBF0F8",
           "ticks": "",
           "title": {
            "standoff": 15
           },
           "zerolinecolor": "#EBF0F8",
           "zerolinewidth": 2
          }
         }
        },
        "title": {
         "text": "Growth in income relative to assets for various industries"
        },
        "width": 1100,
        "xaxis": {
         "anchor": "y",
         "domain": [
          0,
          1
         ],
         "title": {
          "text": "Net worth (USD)"
         }
        },
        "yaxis": {
         "anchor": "x",
         "domain": [
          0,
          1
         ],
         "title": {
          "text": "Annual change (USD)"
         }
        }
       }
      }
     },
     "metadata": {},
     "output_type": "display_data"
    }
   ],
   "source": [
    "# Przygotowanie danych (zachowujemy wszystkie rekordy, w tym Elona Muska)\n",
    "df_filtered = df_ready.copy()\n",
    "\n",
    "# Tworzenie scatter plotu w Plotly\n",
    "fig = px.scatter(\n",
    "    df_filtered,\n",
    "    x='Total net worth',\n",
    "    y='$ YTD change',\n",
    "    color='Industry',\n",
    "    hover_name='Name',  # Wyświetlanie nazw miliarderów po najechaniu\n",
    "    size='Total net worth',  # Wielkość punktu na podstawie majątku\n",
    "    trendline='ols',\n",
    "    labels={\n",
    "        'Total net worth': 'Majątek netto (USD)',\n",
    "        '$ YTD change': 'Roczna zmiana (USD)'\n",
    "    },\n",
    "    title='Growth in income relative to assets for various industries',\n",
    "    height=800,  # Większa wysokość\n",
    "    width=1100   # Większa szerokość\n",
    ")\n",
    "\n",
    "for trace in fig.data:\n",
    "    if trace.name != 'Technology':  # Sprawdzamy, czy jest to branża technologiczna\n",
    "        trace.visible = 'legendonly'  # Ukrywamy inne branże\n",
    "\n",
    "\n",
    "# Dostosowanie osi i wyglądu\n",
    "fig.update_layout(\n",
    "    xaxis_title='Net worth (USD)',\n",
    "    yaxis_title='Annual change (USD)',\n",
    "    legend_title='Industry',\n",
    "    template='plotly_white'\n",
    ")\n",
    "\n",
    "# Wyświetlenie wykresu\n",
    "fig.show()"
   ]
  },
  {
   "cell_type": "markdown",
   "id": "36a2e2a5-de34-4a3b-8079-e572dd6b733a",
   "metadata": {},
   "source": [
    "# STEP 5: Outlier Analysis"
   ]
  },
  {
   "cell_type": "markdown",
   "id": "3e233760-db3e-4fb8-b41e-b21bbffaebd7",
   "metadata": {},
   "source": [
    "### Boxplot of Total Billionaire Net Worth of the estate"
   ]
  },
  {
   "cell_type": "code",
   "execution_count": 23,
   "id": "d4cb1576-e4d6-48ab-8e4b-cc46cbd43d79",
   "metadata": {},
   "outputs": [
    {
     "data": {
      "application/vnd.plotly.v1+json": {
       "config": {
        "plotlyServerURL": "https://plot.ly"
       },
       "data": [
        {
         "alignmentgroup": "True",
         "hovertemplate": "Total Net Worth of the estate (USD)=%{x}<extra></extra>",
         "legendgroup": "",
         "marker": {
          "color": "#636efa"
         },
         "name": "",
         "notched": false,
         "offsetgroup": "",
         "orientation": "h",
         "showlegend": false,
         "type": "box",
         "x": [
          447000000000,
          249000000000,
          224000000000,
          198000000000,
          181000000000,
          174000000000,
          165000000000,
          163000000000,
          155000000000,
          144000000000,
          122000000000,
          117000000000,
          115000000000,
          115000000000,
          114000000000,
          106000000000,
          97100000000,
          85600000000,
          79300000000,
          75900000000,
          75600000000,
          68200000000,
          63200000000,
          58800000000,
          58100000000,
          54400000000,
          52800000000,
          48000000000,
          46200000000,
          45500000000,
          45500000000,
          44800000000,
          44800000000,
          44200000000,
          43900000000,
          43900000000,
          42500000000,
          41700000000,
          41400000000,
          40400000000,
          40400000000,
          40100000000,
          39100000000,
          38800000000,
          37300000000,
          37100000000,
          36400000000,
          35800000000,
          35600000000,
          35200000000,
          34700000000,
          34300000000,
          33100000000,
          32600000000,
          32400000000,
          31800000000,
          31100000000,
          30500000000,
          30500000000,
          30400000000,
          29700000000,
          29600000000,
          28900000000,
          28900000000,
          28700000000,
          28500000000,
          28300000000,
          28100000000,
          28000000000,
          27800000000,
          27700000000,
          27000000000,
          26500000000,
          26400000000,
          26400000000,
          25800000000,
          25700000000,
          25500000000,
          25100000000,
          25100000000,
          25000000000,
          24800000000,
          24700000000,
          24600000000,
          24500000000,
          24200000000,
          24200000000,
          23000000000,
          22800000000,
          22300000000,
          22200000000,
          22100000000,
          22000000000,
          21600000000,
          21500000000,
          21400000000,
          21300000000,
          21300000000,
          21200000000,
          21100000000,
          21100000000,
          21100000000,
          21100000000,
          21000000000,
          21000000000,
          20700000000,
          20700000000,
          20300000000,
          20100000000,
          19900000000,
          19500000000,
          19400000000,
          19400000000,
          19100000000,
          19000000000,
          18900000000,
          18800000000,
          18700000000,
          18600000000,
          18300000000,
          18300000000,
          18300000000,
          17800000000,
          17800000000,
          17600000000,
          17500000000,
          17400000000,
          17400000000,
          17000000000,
          16899999999.999998,
          16500000000,
          16399999999.999998,
          16300000000,
          16300000000,
          16200000000,
          16100000000.000002,
          16100000000.000002,
          16100000000.000002,
          16000000000,
          15900000000,
          15900000000,
          15800000000,
          15800000000,
          15800000000,
          15500000000,
          15400000000,
          15400000000,
          15300000000,
          15300000000,
          15300000000,
          15200000000,
          15100000000,
          15100000000,
          14900000000,
          14900000000,
          14900000000,
          14800000000,
          14800000000,
          14800000000,
          14600000000,
          14600000000,
          14500000000,
          14500000000,
          14300000000,
          14300000000,
          14300000000,
          14300000000,
          14200000000,
          14200000000,
          14200000000,
          14200000000,
          14200000000,
          14100000000,
          14000000000,
          13900000000,
          13900000000,
          13900000000,
          13900000000,
          13800000000,
          13800000000,
          13700000000,
          13600000000,
          13600000000,
          13500000000,
          13500000000,
          13300000000,
          13300000000,
          13100000000,
          13100000000,
          13100000000,
          13100000000,
          13000000000,
          13000000000,
          12900000000,
          12800000000,
          12700000000,
          12700000000,
          12700000000,
          12600000000,
          12500000000,
          12500000000,
          12500000000,
          12400000000,
          12400000000,
          12400000000,
          12400000000,
          12400000000,
          12400000000,
          12400000000,
          12400000000,
          12300000000,
          12300000000,
          12300000000,
          12300000000,
          12300000000,
          12300000000,
          12200000000,
          12200000000,
          12100000000,
          12100000000,
          12100000000,
          11900000000,
          11900000000,
          11800000000,
          11800000000,
          11700000000,
          11600000000,
          11600000000,
          11600000000,
          11500000000,
          11500000000,
          11500000000,
          11500000000,
          11400000000,
          11300000000,
          11300000000,
          11200000000,
          11200000000,
          11200000000,
          11200000000,
          11200000000,
          11200000000,
          11100000000,
          11100000000,
          11100000000,
          11000000000,
          11000000000,
          11000000000,
          11000000000,
          11000000000,
          11000000000,
          11000000000,
          10900000000,
          10900000000,
          10900000000,
          10900000000,
          10800000000,
          10700000000,
          10700000000,
          10700000000,
          10600000000,
          10600000000,
          10600000000,
          10500000000,
          10500000000,
          10500000000,
          10500000000,
          10400000000,
          10400000000,
          10400000000,
          10400000000,
          10400000000,
          10300000000,
          10300000000,
          10300000000,
          10200000000,
          10200000000,
          10100000000,
          10100000000,
          10100000000,
          10100000000,
          10100000000,
          9970000000,
          9930000000,
          9910000000,
          9860000000,
          9830000000,
          9830000000,
          9820000000,
          9790000000,
          9760000000,
          9760000000,
          9760000000,
          9760000000,
          9730000000,
          9660000000,
          9630000000,
          9540000000,
          9500000000,
          9500000000,
          9500000000,
          9370000000,
          9360000000,
          9350000000,
          9330000000,
          9320000000,
          9320000000,
          9280000000,
          9260000000,
          9180000000,
          9170000000,
          9120000000,
          9100000000,
          9100000000,
          9020000000,
          9020000000,
          9000000000,
          8980000000,
          8980000000,
          8970000000,
          8960000000,
          8940000000,
          8890000000,
          8890000000,
          8860000000,
          8860000000,
          8850000000,
          8850000000,
          8830000000,
          8820000000,
          8790000000,
          8780000000,
          8780000000,
          8700000000,
          8690000000,
          8670000000,
          8670000000,
          8670000000,
          8620000000,
          8620000000,
          8620000000,
          8610000000,
          8600000000,
          8580000000,
          8490000000,
          8470000000.000001,
          8420000000,
          8400000000,
          8400000000,
          8380000000.000001,
          8350000000,
          8350000000,
          8350000000,
          8310000000.000001,
          8300000000.000001,
          8300000000.000001,
          8250000000,
          8250000000,
          8199999999.999999,
          8199999999.999999,
          8160000000,
          8119999999.999999,
          8119999999.999999,
          8119999999.999999,
          8109999999.999999,
          8100000000,
          8080000000,
          8070000000,
          8070000000,
          8039999999.999999,
          7960000000,
          7950000000,
          7670000000,
          7930000000,
          7930000000,
          7930000000,
          7920000000,
          7900000000,
          7870000000,
          7840000000,
          7840000000,
          7830000000,
          7830000000,
          7830000000,
          7820000000,
          7820000000,
          7810000000,
          7800000000,
          7780000000,
          7770000000,
          7770000000,
          7750000000,
          7730000000,
          7690000000,
          7680000000,
          7660000000,
          7650000000,
          7640000000,
          7600000000,
          7590000000,
          7580000000,
          7580000000,
          7550000000,
          7540000000,
          7520000000,
          7510000000,
          7470000000,
          7460000000,
          7440000000,
          7430000000,
          7420000000,
          7420000000,
          7420000000,
          7410000000,
          7400000000,
          7400000000,
          7390000000,
          7350000000,
          7340000000,
          7330000000,
          7320000000,
          7290000000,
          7260000000,
          7260000000,
          7240000000,
          7230000000,
          7230000000,
          7230000000,
          7230000000,
          7220000000,
          7210000000,
          7190000000,
          7180000000,
          7170000000,
          7170000000,
          7160000000,
          7140000000,
          7140000000,
          7130000000,
          7120000000,
          7120000000,
          7110000000,
          7080000000,
          7080000000,
          7070000000,
          7040000000,
          7030000000,
          7030000000,
          7010000000,
          6950000000,
          6930000000,
          6930000000,
          6900000000,
          6890000000,
          6880000000,
          6860000000,
          6840000000,
          6830000000,
          6830000000,
          6830000000,
          6820000000,
          6810000000,
          6790000000,
          6790000000,
          6770000000,
          6770000000,
          6760000000,
          6760000000,
          6760000000,
          6740000000,
          6740000000,
          6740000000,
          6720000000,
          6720000000,
          6710000000,
          6700000000,
          6700000000,
          6700000000,
          6680000000,
          6670000000,
          6640000000,
          6610000000,
          6560000000,
          6550000000,
          6520000000,
          6510000000,
          6500000000,
          6500000000,
          6470000000,
          6470000000,
          6460000000,
          6450000000,
          6450000000,
          6420000000,
          6410000000,
          6410000000,
          6410000000,
          6380000000,
          6380000000,
          6380000000
         ],
         "x0": " ",
         "xaxis": "x",
         "y0": " ",
         "yaxis": "y"
        }
       ],
       "layout": {
        "boxmode": "group",
        "height": 800,
        "legend": {
         "tracegroupgap": 0
        },
        "template": {
         "data": {
          "bar": [
           {
            "error_x": {
             "color": "#2a3f5f"
            },
            "error_y": {
             "color": "#2a3f5f"
            },
            "marker": {
             "line": {
              "color": "white",
              "width": 0.5
             },
             "pattern": {
              "fillmode": "overlay",
              "size": 10,
              "solidity": 0.2
             }
            },
            "type": "bar"
           }
          ],
          "barpolar": [
           {
            "marker": {
             "line": {
              "color": "white",
              "width": 0.5
             },
             "pattern": {
              "fillmode": "overlay",
              "size": 10,
              "solidity": 0.2
             }
            },
            "type": "barpolar"
           }
          ],
          "carpet": [
           {
            "aaxis": {
             "endlinecolor": "#2a3f5f",
             "gridcolor": "#C8D4E3",
             "linecolor": "#C8D4E3",
             "minorgridcolor": "#C8D4E3",
             "startlinecolor": "#2a3f5f"
            },
            "baxis": {
             "endlinecolor": "#2a3f5f",
             "gridcolor": "#C8D4E3",
             "linecolor": "#C8D4E3",
             "minorgridcolor": "#C8D4E3",
             "startlinecolor": "#2a3f5f"
            },
            "type": "carpet"
           }
          ],
          "choropleth": [
           {
            "colorbar": {
             "outlinewidth": 0,
             "ticks": ""
            },
            "type": "choropleth"
           }
          ],
          "contour": [
           {
            "colorbar": {
             "outlinewidth": 0,
             "ticks": ""
            },
            "colorscale": [
             [
              0,
              "#0d0887"
             ],
             [
              0.1111111111111111,
              "#46039f"
             ],
             [
              0.2222222222222222,
              "#7201a8"
             ],
             [
              0.3333333333333333,
              "#9c179e"
             ],
             [
              0.4444444444444444,
              "#bd3786"
             ],
             [
              0.5555555555555556,
              "#d8576b"
             ],
             [
              0.6666666666666666,
              "#ed7953"
             ],
             [
              0.7777777777777778,
              "#fb9f3a"
             ],
             [
              0.8888888888888888,
              "#fdca26"
             ],
             [
              1,
              "#f0f921"
             ]
            ],
            "type": "contour"
           }
          ],
          "contourcarpet": [
           {
            "colorbar": {
             "outlinewidth": 0,
             "ticks": ""
            },
            "type": "contourcarpet"
           }
          ],
          "heatmap": [
           {
            "colorbar": {
             "outlinewidth": 0,
             "ticks": ""
            },
            "colorscale": [
             [
              0,
              "#0d0887"
             ],
             [
              0.1111111111111111,
              "#46039f"
             ],
             [
              0.2222222222222222,
              "#7201a8"
             ],
             [
              0.3333333333333333,
              "#9c179e"
             ],
             [
              0.4444444444444444,
              "#bd3786"
             ],
             [
              0.5555555555555556,
              "#d8576b"
             ],
             [
              0.6666666666666666,
              "#ed7953"
             ],
             [
              0.7777777777777778,
              "#fb9f3a"
             ],
             [
              0.8888888888888888,
              "#fdca26"
             ],
             [
              1,
              "#f0f921"
             ]
            ],
            "type": "heatmap"
           }
          ],
          "heatmapgl": [
           {
            "colorbar": {
             "outlinewidth": 0,
             "ticks": ""
            },
            "colorscale": [
             [
              0,
              "#0d0887"
             ],
             [
              0.1111111111111111,
              "#46039f"
             ],
             [
              0.2222222222222222,
              "#7201a8"
             ],
             [
              0.3333333333333333,
              "#9c179e"
             ],
             [
              0.4444444444444444,
              "#bd3786"
             ],
             [
              0.5555555555555556,
              "#d8576b"
             ],
             [
              0.6666666666666666,
              "#ed7953"
             ],
             [
              0.7777777777777778,
              "#fb9f3a"
             ],
             [
              0.8888888888888888,
              "#fdca26"
             ],
             [
              1,
              "#f0f921"
             ]
            ],
            "type": "heatmapgl"
           }
          ],
          "histogram": [
           {
            "marker": {
             "pattern": {
              "fillmode": "overlay",
              "size": 10,
              "solidity": 0.2
             }
            },
            "type": "histogram"
           }
          ],
          "histogram2d": [
           {
            "colorbar": {
             "outlinewidth": 0,
             "ticks": ""
            },
            "colorscale": [
             [
              0,
              "#0d0887"
             ],
             [
              0.1111111111111111,
              "#46039f"
             ],
             [
              0.2222222222222222,
              "#7201a8"
             ],
             [
              0.3333333333333333,
              "#9c179e"
             ],
             [
              0.4444444444444444,
              "#bd3786"
             ],
             [
              0.5555555555555556,
              "#d8576b"
             ],
             [
              0.6666666666666666,
              "#ed7953"
             ],
             [
              0.7777777777777778,
              "#fb9f3a"
             ],
             [
              0.8888888888888888,
              "#fdca26"
             ],
             [
              1,
              "#f0f921"
             ]
            ],
            "type": "histogram2d"
           }
          ],
          "histogram2dcontour": [
           {
            "colorbar": {
             "outlinewidth": 0,
             "ticks": ""
            },
            "colorscale": [
             [
              0,
              "#0d0887"
             ],
             [
              0.1111111111111111,
              "#46039f"
             ],
             [
              0.2222222222222222,
              "#7201a8"
             ],
             [
              0.3333333333333333,
              "#9c179e"
             ],
             [
              0.4444444444444444,
              "#bd3786"
             ],
             [
              0.5555555555555556,
              "#d8576b"
             ],
             [
              0.6666666666666666,
              "#ed7953"
             ],
             [
              0.7777777777777778,
              "#fb9f3a"
             ],
             [
              0.8888888888888888,
              "#fdca26"
             ],
             [
              1,
              "#f0f921"
             ]
            ],
            "type": "histogram2dcontour"
           }
          ],
          "mesh3d": [
           {
            "colorbar": {
             "outlinewidth": 0,
             "ticks": ""
            },
            "type": "mesh3d"
           }
          ],
          "parcoords": [
           {
            "line": {
             "colorbar": {
              "outlinewidth": 0,
              "ticks": ""
             }
            },
            "type": "parcoords"
           }
          ],
          "pie": [
           {
            "automargin": true,
            "type": "pie"
           }
          ],
          "scatter": [
           {
            "fillpattern": {
             "fillmode": "overlay",
             "size": 10,
             "solidity": 0.2
            },
            "type": "scatter"
           }
          ],
          "scatter3d": [
           {
            "line": {
             "colorbar": {
              "outlinewidth": 0,
              "ticks": ""
             }
            },
            "marker": {
             "colorbar": {
              "outlinewidth": 0,
              "ticks": ""
             }
            },
            "type": "scatter3d"
           }
          ],
          "scattercarpet": [
           {
            "marker": {
             "colorbar": {
              "outlinewidth": 0,
              "ticks": ""
             }
            },
            "type": "scattercarpet"
           }
          ],
          "scattergeo": [
           {
            "marker": {
             "colorbar": {
              "outlinewidth": 0,
              "ticks": ""
             }
            },
            "type": "scattergeo"
           }
          ],
          "scattergl": [
           {
            "marker": {
             "colorbar": {
              "outlinewidth": 0,
              "ticks": ""
             }
            },
            "type": "scattergl"
           }
          ],
          "scattermapbox": [
           {
            "marker": {
             "colorbar": {
              "outlinewidth": 0,
              "ticks": ""
             }
            },
            "type": "scattermapbox"
           }
          ],
          "scatterpolar": [
           {
            "marker": {
             "colorbar": {
              "outlinewidth": 0,
              "ticks": ""
             }
            },
            "type": "scatterpolar"
           }
          ],
          "scatterpolargl": [
           {
            "marker": {
             "colorbar": {
              "outlinewidth": 0,
              "ticks": ""
             }
            },
            "type": "scatterpolargl"
           }
          ],
          "scatterternary": [
           {
            "marker": {
             "colorbar": {
              "outlinewidth": 0,
              "ticks": ""
             }
            },
            "type": "scatterternary"
           }
          ],
          "surface": [
           {
            "colorbar": {
             "outlinewidth": 0,
             "ticks": ""
            },
            "colorscale": [
             [
              0,
              "#0d0887"
             ],
             [
              0.1111111111111111,
              "#46039f"
             ],
             [
              0.2222222222222222,
              "#7201a8"
             ],
             [
              0.3333333333333333,
              "#9c179e"
             ],
             [
              0.4444444444444444,
              "#bd3786"
             ],
             [
              0.5555555555555556,
              "#d8576b"
             ],
             [
              0.6666666666666666,
              "#ed7953"
             ],
             [
              0.7777777777777778,
              "#fb9f3a"
             ],
             [
              0.8888888888888888,
              "#fdca26"
             ],
             [
              1,
              "#f0f921"
             ]
            ],
            "type": "surface"
           }
          ],
          "table": [
           {
            "cells": {
             "fill": {
              "color": "#EBF0F8"
             },
             "line": {
              "color": "white"
             }
            },
            "header": {
             "fill": {
              "color": "#C8D4E3"
             },
             "line": {
              "color": "white"
             }
            },
            "type": "table"
           }
          ]
         },
         "layout": {
          "annotationdefaults": {
           "arrowcolor": "#2a3f5f",
           "arrowhead": 0,
           "arrowwidth": 1
          },
          "autotypenumbers": "strict",
          "coloraxis": {
           "colorbar": {
            "outlinewidth": 0,
            "ticks": ""
           }
          },
          "colorscale": {
           "diverging": [
            [
             0,
             "#8e0152"
            ],
            [
             0.1,
             "#c51b7d"
            ],
            [
             0.2,
             "#de77ae"
            ],
            [
             0.3,
             "#f1b6da"
            ],
            [
             0.4,
             "#fde0ef"
            ],
            [
             0.5,
             "#f7f7f7"
            ],
            [
             0.6,
             "#e6f5d0"
            ],
            [
             0.7,
             "#b8e186"
            ],
            [
             0.8,
             "#7fbc41"
            ],
            [
             0.9,
             "#4d9221"
            ],
            [
             1,
             "#276419"
            ]
           ],
           "sequential": [
            [
             0,
             "#0d0887"
            ],
            [
             0.1111111111111111,
             "#46039f"
            ],
            [
             0.2222222222222222,
             "#7201a8"
            ],
            [
             0.3333333333333333,
             "#9c179e"
            ],
            [
             0.4444444444444444,
             "#bd3786"
            ],
            [
             0.5555555555555556,
             "#d8576b"
            ],
            [
             0.6666666666666666,
             "#ed7953"
            ],
            [
             0.7777777777777778,
             "#fb9f3a"
            ],
            [
             0.8888888888888888,
             "#fdca26"
            ],
            [
             1,
             "#f0f921"
            ]
           ],
           "sequentialminus": [
            [
             0,
             "#0d0887"
            ],
            [
             0.1111111111111111,
             "#46039f"
            ],
            [
             0.2222222222222222,
             "#7201a8"
            ],
            [
             0.3333333333333333,
             "#9c179e"
            ],
            [
             0.4444444444444444,
             "#bd3786"
            ],
            [
             0.5555555555555556,
             "#d8576b"
            ],
            [
             0.6666666666666666,
             "#ed7953"
            ],
            [
             0.7777777777777778,
             "#fb9f3a"
            ],
            [
             0.8888888888888888,
             "#fdca26"
            ],
            [
             1,
             "#f0f921"
            ]
           ]
          },
          "colorway": [
           "#636efa",
           "#EF553B",
           "#00cc96",
           "#ab63fa",
           "#FFA15A",
           "#19d3f3",
           "#FF6692",
           "#B6E880",
           "#FF97FF",
           "#FECB52"
          ],
          "font": {
           "color": "#2a3f5f"
          },
          "geo": {
           "bgcolor": "white",
           "lakecolor": "white",
           "landcolor": "white",
           "showlakes": true,
           "showland": true,
           "subunitcolor": "#C8D4E3"
          },
          "hoverlabel": {
           "align": "left"
          },
          "hovermode": "closest",
          "mapbox": {
           "style": "light"
          },
          "paper_bgcolor": "white",
          "plot_bgcolor": "white",
          "polar": {
           "angularaxis": {
            "gridcolor": "#EBF0F8",
            "linecolor": "#EBF0F8",
            "ticks": ""
           },
           "bgcolor": "white",
           "radialaxis": {
            "gridcolor": "#EBF0F8",
            "linecolor": "#EBF0F8",
            "ticks": ""
           }
          },
          "scene": {
           "xaxis": {
            "backgroundcolor": "white",
            "gridcolor": "#DFE8F3",
            "gridwidth": 2,
            "linecolor": "#EBF0F8",
            "showbackground": true,
            "ticks": "",
            "zerolinecolor": "#EBF0F8"
           },
           "yaxis": {
            "backgroundcolor": "white",
            "gridcolor": "#DFE8F3",
            "gridwidth": 2,
            "linecolor": "#EBF0F8",
            "showbackground": true,
            "ticks": "",
            "zerolinecolor": "#EBF0F8"
           },
           "zaxis": {
            "backgroundcolor": "white",
            "gridcolor": "#DFE8F3",
            "gridwidth": 2,
            "linecolor": "#EBF0F8",
            "showbackground": true,
            "ticks": "",
            "zerolinecolor": "#EBF0F8"
           }
          },
          "shapedefaults": {
           "line": {
            "color": "#2a3f5f"
           }
          },
          "ternary": {
           "aaxis": {
            "gridcolor": "#DFE8F3",
            "linecolor": "#A2B1C6",
            "ticks": ""
           },
           "baxis": {
            "gridcolor": "#DFE8F3",
            "linecolor": "#A2B1C6",
            "ticks": ""
           },
           "bgcolor": "white",
           "caxis": {
            "gridcolor": "#DFE8F3",
            "linecolor": "#A2B1C6",
            "ticks": ""
           }
          },
          "title": {
           "x": 0.05
          },
          "xaxis": {
           "automargin": true,
           "gridcolor": "#EBF0F8",
           "linecolor": "#EBF0F8",
           "ticks": "",
           "title": {
            "standoff": 15
           },
           "zerolinecolor": "#EBF0F8",
           "zerolinewidth": 2
          },
          "yaxis": {
           "automargin": true,
           "gridcolor": "#EBF0F8",
           "linecolor": "#EBF0F8",
           "ticks": "",
           "title": {
            "standoff": 15
           },
           "zerolinecolor": "#EBF0F8",
           "zerolinewidth": 2
          }
         }
        },
        "title": {
         "text": "Boxplot of Total Billionaire Net Worth of the estate"
        },
        "width": 1200,
        "xaxis": {
         "anchor": "y",
         "domain": [
          0,
          1
         ],
         "title": {
          "text": "Total Net Worth of the estate (USD)"
         }
        },
        "yaxis": {
         "anchor": "x",
         "domain": [
          0,
          1
         ]
        }
       }
      }
     },
     "metadata": {},
     "output_type": "display_data"
    }
   ],
   "source": [
    "# Tworzenie boxplotu dla całego zestawu danych\n",
    "fig = px.box(\n",
    "    df_ready,\n",
    "    x='Total net worth',  # Wartości na osi poziomej\n",
    "    title='Boxplot of Total Billionaire Net Worth of the estate',\n",
    "    labels={'Total net worth': 'Total Net Worth of the estate (USD)'},\n",
    "    height=800,  # Dopasowana wysokość\n",
    "    width=1200    # Dopasowana szerokość\n",
    ")\n",
    "\n",
    "# Dostosowanie wyglądu wykresu\n",
    "fig.update_layout(\n",
    "    xaxis_title='Total Net Worth of the estate (USD)',  # Tytuł osi X\n",
    "    template='plotly_white'\n",
    ")\n",
    "\n",
    "# Wyświetlenie wykresu\n",
    "fig.show()"
   ]
  },
  {
   "cell_type": "markdown",
   "id": "570abdad-f3d3-4972-b4b9-d741eeefc7e6",
   "metadata": {},
   "source": [
    "### Boxplot of Total Net Worth of Billionaires by Industry"
   ]
  },
  {
   "cell_type": "code",
   "execution_count": 24,
   "id": "43839088-4814-4a6f-90f9-e5efee4d7630",
   "metadata": {},
   "outputs": [
    {
     "data": {
      "application/vnd.plotly.v1+json": {
       "config": {
        "plotlyServerURL": "https://plot.ly"
       },
       "data": [
        {
         "alignmentgroup": "True",
         "hovertemplate": "Industry=%{y}<br>Total net worth (USD)=%{x}<extra></extra>",
         "legendgroup": "Technology",
         "marker": {
          "color": "#636efa"
         },
         "name": "Technology",
         "notched": false,
         "offsetgroup": "Technology",
         "orientation": "h",
         "showlegend": true,
         "type": "box",
         "x": [
          447000000000,
          249000000000,
          224000000000,
          198000000000,
          174000000000,
          165000000000,
          163000000000,
          155000000000,
          122000000000,
          115000000000,
          48000000000,
          43900000000,
          43900000000,
          41700000000,
          37300000000,
          36400000000,
          35200000000,
          34300000000,
          31800000000,
          31100000000,
          30500000000,
          26500000000,
          26400000000,
          25100000000,
          24500000000,
          19400000000,
          19000000000,
          17800000000,
          17000000000,
          16899999999.999998,
          16500000000,
          16300000000,
          16300000000,
          16100000000.000002,
          15900000000,
          15200000000,
          14900000000,
          14900000000,
          13500000000,
          13300000000,
          12600000000,
          12500000000,
          12400000000,
          12400000000,
          12200000000,
          11600000000,
          10800000000,
          10700000000,
          10700000000,
          10500000000,
          10200000000,
          10100000000,
          9540000000,
          9180000000,
          9020000000,
          8700000000,
          8690000000,
          8160000000,
          8119999999.999999,
          8070000000,
          8039999999.999999,
          7920000000,
          7870000000,
          7830000000,
          7430000000,
          7420000000,
          7400000000,
          7330000000,
          7220000000,
          7210000000,
          7170000000,
          7170000000,
          7140000000,
          7120000000,
          6950000000,
          6890000000,
          6840000000,
          6830000000,
          6710000000,
          6500000000,
          6470000000,
          6410000000,
          6410000000
         ],
         "x0": " ",
         "xaxis": "x",
         "y": [
          "Technology",
          "Technology",
          "Technology",
          "Technology",
          "Technology",
          "Technology",
          "Technology",
          "Technology",
          "Technology",
          "Technology",
          "Technology",
          "Technology",
          "Technology",
          "Technology",
          "Technology",
          "Technology",
          "Technology",
          "Technology",
          "Technology",
          "Technology",
          "Technology",
          "Technology",
          "Technology",
          "Technology",
          "Technology",
          "Technology",
          "Technology",
          "Technology",
          "Technology",
          "Technology",
          "Technology",
          "Technology",
          "Technology",
          "Technology",
          "Technology",
          "Technology",
          "Technology",
          "Technology",
          "Technology",
          "Technology",
          "Technology",
          "Technology",
          "Technology",
          "Technology",
          "Technology",
          "Technology",
          "Technology",
          "Technology",
          "Technology",
          "Technology",
          "Technology",
          "Technology",
          "Technology",
          "Technology",
          "Technology",
          "Technology",
          "Technology",
          "Technology",
          "Technology",
          "Technology",
          "Technology",
          "Technology",
          "Technology",
          "Technology",
          "Technology",
          "Technology",
          "Technology",
          "Technology",
          "Technology",
          "Technology",
          "Technology",
          "Technology",
          "Technology",
          "Technology",
          "Technology",
          "Technology",
          "Technology",
          "Technology",
          "Technology",
          "Technology",
          "Technology",
          "Technology",
          "Technology"
         ],
         "y0": " ",
         "yaxis": "y"
        },
        {
         "alignmentgroup": "True",
         "hovertemplate": "Industry=%{y}<br>Total net worth (USD)=%{x}<extra></extra>",
         "legendgroup": "Consumer",
         "marker": {
          "color": "#EF553B"
         },
         "name": "Consumer",
         "notched": false,
         "offsetgroup": "Consumer",
         "orientation": "h",
         "showlegend": true,
         "type": "box",
         "visible": "legendonly",
         "x": [
          181000000000,
          75600000000,
          45500000000,
          45500000000,
          35600000000,
          33100000000,
          22000000000,
          21100000000,
          20300000000,
          18300000000,
          17500000000,
          16399999999.999998,
          15800000000,
          14300000000,
          12900000000,
          12300000000,
          12300000000,
          11700000000,
          11200000000,
          10500000000,
          9790000000,
          9500000000,
          9500000000,
          9500000000,
          9360000000,
          9000000000,
          8790000000,
          8610000000,
          8070000000,
          7840000000,
          7840000000,
          7820000000,
          7800000000,
          7780000000,
          7660000000,
          7650000000,
          7580000000,
          7550000000,
          7420000000,
          7240000000,
          6760000000,
          6700000000,
          6460000000
         ],
         "x0": " ",
         "xaxis": "x",
         "y": [
          "Consumer",
          "Consumer",
          "Consumer",
          "Consumer",
          "Consumer",
          "Consumer",
          "Consumer",
          "Consumer",
          "Consumer",
          "Consumer",
          "Consumer",
          "Consumer",
          "Consumer",
          "Consumer",
          "Consumer",
          "Consumer",
          "Consumer",
          "Consumer",
          "Consumer",
          "Consumer",
          "Consumer",
          "Consumer",
          "Consumer",
          "Consumer",
          "Consumer",
          "Consumer",
          "Consumer",
          "Consumer",
          "Consumer",
          "Consumer",
          "Consumer",
          "Consumer",
          "Consumer",
          "Consumer",
          "Consumer",
          "Consumer",
          "Consumer",
          "Consumer",
          "Consumer",
          "Consumer",
          "Consumer",
          "Consumer",
          "Consumer"
         ],
         "y0": " ",
         "yaxis": "y"
        },
        {
         "alignmentgroup": "True",
         "hovertemplate": "Industry=%{y}<br>Total net worth (USD)=%{x}<extra></extra>",
         "legendgroup": "Diversified",
         "marker": {
          "color": "#00cc96"
         },
         "name": "Diversified",
         "notched": false,
         "offsetgroup": "Diversified",
         "orientation": "h",
         "showlegend": true,
         "type": "box",
         "visible": "legendonly",
         "x": [
          144000000000,
          85600000000,
          58800000000,
          40400000000,
          28000000000,
          27000000000,
          24700000000,
          23000000000,
          22300000000,
          21200000000,
          18900000000,
          17600000000,
          16100000000.000002,
          15400000000,
          15300000000,
          14600000000,
          14000000000,
          13900000000,
          13800000000,
          13300000000,
          11800000000,
          11500000000,
          11500000000,
          11200000000,
          11100000000,
          10400000000,
          10300000000,
          10100000000,
          9930000000,
          9820000000,
          9320000000,
          9100000000,
          8960000000,
          8830000000,
          8620000000,
          8620000000,
          8620000000,
          8490000000,
          8300000000.000001,
          7930000000,
          7770000000,
          7680000000,
          7460000000,
          7410000000,
          7230000000,
          7230000000,
          7110000000,
          7030000000,
          6930000000,
          6770000000,
          6770000000,
          6700000000
         ],
         "x0": " ",
         "xaxis": "x",
         "y": [
          "Diversified",
          "Diversified",
          "Diversified",
          "Diversified",
          "Diversified",
          "Diversified",
          "Diversified",
          "Diversified",
          "Diversified",
          "Diversified",
          "Diversified",
          "Diversified",
          "Diversified",
          "Diversified",
          "Diversified",
          "Diversified",
          "Diversified",
          "Diversified",
          "Diversified",
          "Diversified",
          "Diversified",
          "Diversified",
          "Diversified",
          "Diversified",
          "Diversified",
          "Diversified",
          "Diversified",
          "Diversified",
          "Diversified",
          "Diversified",
          "Diversified",
          "Diversified",
          "Diversified",
          "Diversified",
          "Diversified",
          "Diversified",
          "Diversified",
          "Diversified",
          "Diversified",
          "Diversified",
          "Diversified",
          "Diversified",
          "Diversified",
          "Diversified",
          "Diversified",
          "Diversified",
          "Diversified",
          "Diversified",
          "Diversified",
          "Diversified",
          "Diversified",
          "Diversified"
         ],
         "y0": " ",
         "yaxis": "y"
        },
        {
         "alignmentgroup": "True",
         "hovertemplate": "Industry=%{y}<br>Total net worth (USD)=%{x}<extra></extra>",
         "legendgroup": "Retail",
         "marker": {
          "color": "#ab63fa"
         },
         "name": "Retail",
         "notched": false,
         "offsetgroup": "Retail",
         "orientation": "h",
         "showlegend": true,
         "type": "box",
         "visible": "legendonly",
         "x": [
          117000000000,
          115000000000,
          114000000000,
          106000000000,
          52800000000,
          40400000000,
          32600000000,
          25000000000,
          21500000000,
          19500000000,
          18300000000,
          17800000000,
          17400000000,
          16100000000.000002,
          14800000000,
          13900000000,
          13900000000,
          13600000000,
          12700000000,
          12400000000,
          12300000000,
          12300000000,
          9860000000,
          8890000000,
          8890000000,
          8400000000,
          8350000000,
          7520000000,
          7400000000,
          6760000000,
          6720000000,
          6450000000,
          6380000000,
          6380000000,
          6380000000
         ],
         "x0": " ",
         "xaxis": "x",
         "y": [
          "Retail",
          "Retail",
          "Retail",
          "Retail",
          "Retail",
          "Retail",
          "Retail",
          "Retail",
          "Retail",
          "Retail",
          "Retail",
          "Retail",
          "Retail",
          "Retail",
          "Retail",
          "Retail",
          "Retail",
          "Retail",
          "Retail",
          "Retail",
          "Retail",
          "Retail",
          "Retail",
          "Retail",
          "Retail",
          "Retail",
          "Retail",
          "Retail",
          "Retail",
          "Retail",
          "Retail",
          "Retail",
          "Retail",
          "Retail",
          "Retail"
         ],
         "y0": " ",
         "yaxis": "y"
        },
        {
         "alignmentgroup": "True",
         "hovertemplate": "Industry=%{y}<br>Total net worth (USD)=%{x}<extra></extra>",
         "legendgroup": "Energy",
         "marker": {
          "color": "#FFA15A"
         },
         "name": "Energy",
         "notched": false,
         "offsetgroup": "Energy",
         "orientation": "h",
         "showlegend": true,
         "type": "box",
         "visible": "legendonly",
         "x": [
          97100000000,
          28900000000,
          28500000000,
          27800000000,
          26400000000,
          25500000000,
          24800000000,
          18600000000,
          16000000000,
          14800000000,
          13100000000,
          13000000000,
          12400000000,
          11100000000,
          11000000000,
          11000000000,
          11000000000,
          11000000000,
          10600000000,
          10500000000,
          9660000000,
          9260000000,
          8940000000,
          8350000000,
          8109999999.999999,
          7670000000,
          7120000000,
          7030000000,
          6680000000
         ],
         "x0": " ",
         "xaxis": "x",
         "y": [
          "Energy",
          "Energy",
          "Energy",
          "Energy",
          "Energy",
          "Energy",
          "Energy",
          "Energy",
          "Energy",
          "Energy",
          "Energy",
          "Energy",
          "Energy",
          "Energy",
          "Energy",
          "Energy",
          "Energy",
          "Energy",
          "Energy",
          "Energy",
          "Energy",
          "Energy",
          "Energy",
          "Energy",
          "Energy",
          "Energy",
          "Energy",
          "Energy",
          "Energy"
         ],
         "y0": " ",
         "yaxis": "y"
        },
        {
         "alignmentgroup": "True",
         "hovertemplate": "Industry=%{y}<br>Total net worth (USD)=%{x}<extra></extra>",
         "legendgroup": "Industrial",
         "marker": {
          "color": "#19d3f3"
         },
         "name": "Industrial",
         "notched": false,
         "offsetgroup": "Industrial",
         "orientation": "h",
         "showlegend": true,
         "type": "box",
         "visible": "legendonly",
         "x": [
          79300000000,
          75900000000,
          68200000000,
          41400000000,
          40100000000,
          39100000000,
          29700000000,
          28100000000,
          25800000000,
          25700000000,
          25100000000,
          22800000000,
          21600000000,
          21300000000,
          21100000000,
          21000000000,
          18300000000,
          14600000000,
          14200000000,
          13600000000,
          12700000000,
          12300000000,
          12100000000,
          11600000000,
          11500000000,
          11300000000,
          10900000000,
          10700000000,
          10600000000,
          10300000000,
          10200000000,
          10100000000,
          10100000000,
          9970000000,
          8970000000,
          8860000000,
          8820000000,
          8380000000.000001,
          8350000000,
          8310000000.000001,
          8119999999.999999,
          8119999999.999999,
          8100000000,
          7950000000,
          7750000000,
          7690000000,
          7470000000,
          7420000000,
          7260000000,
          7180000000,
          6860000000,
          6830000000,
          6820000000,
          6740000000,
          6700000000,
          6610000000
         ],
         "x0": " ",
         "xaxis": "x",
         "y": [
          "Industrial",
          "Industrial",
          "Industrial",
          "Industrial",
          "Industrial",
          "Industrial",
          "Industrial",
          "Industrial",
          "Industrial",
          "Industrial",
          "Industrial",
          "Industrial",
          "Industrial",
          "Industrial",
          "Industrial",
          "Industrial",
          "Industrial",
          "Industrial",
          "Industrial",
          "Industrial",
          "Industrial",
          "Industrial",
          "Industrial",
          "Industrial",
          "Industrial",
          "Industrial",
          "Industrial",
          "Industrial",
          "Industrial",
          "Industrial",
          "Industrial",
          "Industrial",
          "Industrial",
          "Industrial",
          "Industrial",
          "Industrial",
          "Industrial",
          "Industrial",
          "Industrial",
          "Industrial",
          "Industrial",
          "Industrial",
          "Industrial",
          "Industrial",
          "Industrial",
          "Industrial",
          "Industrial",
          "Industrial",
          "Industrial",
          "Industrial",
          "Industrial",
          "Industrial",
          "Industrial",
          "Industrial",
          "Industrial",
          "Industrial"
         ],
         "y0": " ",
         "yaxis": "y"
        },
        {
         "alignmentgroup": "True",
         "hovertemplate": "Industry=%{y}<br>Total net worth (USD)=%{x}<extra></extra>",
         "legendgroup": "Finance",
         "marker": {
          "color": "#FF6692"
         },
         "name": "Finance",
         "notched": false,
         "offsetgroup": "Finance",
         "orientation": "h",
         "showlegend": true,
         "type": "box",
         "visible": "legendonly",
         "x": [
          63200000000,
          58100000000,
          54400000000,
          46200000000,
          44200000000,
          42500000000,
          21400000000,
          21300000000,
          21100000000,
          19900000000,
          16200000000,
          15900000000,
          15400000000,
          14900000000,
          14800000000,
          14300000000,
          14300000000,
          14300000000,
          14200000000,
          14200000000,
          14100000000,
          13500000000,
          13100000000,
          13100000000,
          13000000000,
          12100000000,
          11600000000,
          11500000000,
          11300000000,
          11100000000,
          11000000000,
          11000000000,
          10500000000,
          10400000000,
          10400000000,
          10300000000,
          9910000000,
          9760000000,
          9320000000,
          9280000000,
          9170000000,
          9020000000,
          8860000000,
          8850000000,
          8850000000,
          8600000000,
          8420000000,
          8300000000.000001,
          8199999999.999999,
          7820000000,
          7810000000,
          7640000000,
          7590000000,
          7580000000,
          7340000000,
          7260000000,
          7070000000,
          6760000000,
          6740000000,
          6640000000,
          6550000000,
          6520000000,
          6500000000
         ],
         "x0": " ",
         "xaxis": "x",
         "y": [
          "Finance",
          "Finance",
          "Finance",
          "Finance",
          "Finance",
          "Finance",
          "Finance",
          "Finance",
          "Finance",
          "Finance",
          "Finance",
          "Finance",
          "Finance",
          "Finance",
          "Finance",
          "Finance",
          "Finance",
          "Finance",
          "Finance",
          "Finance",
          "Finance",
          "Finance",
          "Finance",
          "Finance",
          "Finance",
          "Finance",
          "Finance",
          "Finance",
          "Finance",
          "Finance",
          "Finance",
          "Finance",
          "Finance",
          "Finance",
          "Finance",
          "Finance",
          "Finance",
          "Finance",
          "Finance",
          "Finance",
          "Finance",
          "Finance",
          "Finance",
          "Finance",
          "Finance",
          "Finance",
          "Finance",
          "Finance",
          "Finance",
          "Finance",
          "Finance",
          "Finance",
          "Finance",
          "Finance",
          "Finance",
          "Finance",
          "Finance",
          "Finance",
          "Finance",
          "Finance",
          "Finance",
          "Finance",
          "Finance"
         ],
         "y0": " ",
         "yaxis": "y"
        },
        {
         "alignmentgroup": "True",
         "hovertemplate": "Industry=%{y}<br>Total net worth (USD)=%{x}<extra></extra>",
         "legendgroup": "Food & Beverage",
         "marker": {
          "color": "#B6E880"
         },
         "name": "Food & Beverage",
         "notched": false,
         "offsetgroup": "Food & Beverage",
         "orientation": "h",
         "showlegend": true,
         "type": "box",
         "visible": "legendonly",
         "x": [
          44800000000,
          44800000000,
          37100000000,
          22200000000,
          22100000000,
          14500000000,
          14200000000,
          13800000000,
          13700000000,
          11900000000,
          11200000000,
          11200000000,
          11200000000,
          10900000000,
          9830000000,
          9630000000,
          8980000000,
          8250000000,
          8250000000,
          8080000000,
          7960000000,
          7600000000,
          6930000000,
          6510000000,
          6470000000,
          6450000000
         ],
         "x0": " ",
         "xaxis": "x",
         "y": [
          "Food & Beverage",
          "Food & Beverage",
          "Food & Beverage",
          "Food & Beverage",
          "Food & Beverage",
          "Food & Beverage",
          "Food & Beverage",
          "Food & Beverage",
          "Food & Beverage",
          "Food & Beverage",
          "Food & Beverage",
          "Food & Beverage",
          "Food & Beverage",
          "Food & Beverage",
          "Food & Beverage",
          "Food & Beverage",
          "Food & Beverage",
          "Food & Beverage",
          "Food & Beverage",
          "Food & Beverage",
          "Food & Beverage",
          "Food & Beverage",
          "Food & Beverage",
          "Food & Beverage",
          "Food & Beverage",
          "Food & Beverage"
         ],
         "y0": " ",
         "yaxis": "y"
        },
        {
         "alignmentgroup": "True",
         "hovertemplate": "Industry=%{y}<br>Total net worth (USD)=%{x}<extra></extra>",
         "legendgroup": "Entertainment",
         "marker": {
          "color": "#FF97FF"
         },
         "name": "Entertainment",
         "notched": false,
         "offsetgroup": "Entertainment",
         "orientation": "h",
         "showlegend": true,
         "type": "box",
         "visible": "legendonly",
         "x": [
          38800000000,
          15500000000,
          15300000000,
          15100000000,
          9830000000,
          9100000000,
          8780000000,
          8470000000.000001,
          8199999999.999999,
          7510000000,
          7140000000,
          6830000000
         ],
         "x0": " ",
         "xaxis": "x",
         "y": [
          "Entertainment",
          "Entertainment",
          "Entertainment",
          "Entertainment",
          "Entertainment",
          "Entertainment",
          "Entertainment",
          "Entertainment",
          "Entertainment",
          "Entertainment",
          "Entertainment",
          "Entertainment"
         ],
         "y0": " ",
         "yaxis": "y"
        },
        {
         "alignmentgroup": "True",
         "hovertemplate": "Industry=%{y}<br>Total net worth (USD)=%{x}<extra></extra>",
         "legendgroup": "Commodities",
         "marker": {
          "color": "#FECB52"
         },
         "name": "Commodities",
         "notched": false,
         "offsetgroup": "Commodities",
         "orientation": "h",
         "showlegend": true,
         "type": "box",
         "visible": "legendonly",
         "x": [
          35800000000,
          34700000000,
          32400000000,
          30400000000,
          24200000000,
          21100000000,
          21000000000,
          18800000000,
          15300000000,
          9120000000,
          7900000000,
          7540000000,
          7290000000,
          6810000000,
          6790000000,
          6790000000,
          6410000000
         ],
         "x0": " ",
         "xaxis": "x",
         "y": [
          "Commodities",
          "Commodities",
          "Commodities",
          "Commodities",
          "Commodities",
          "Commodities",
          "Commodities",
          "Commodities",
          "Commodities",
          "Commodities",
          "Commodities",
          "Commodities",
          "Commodities",
          "Commodities",
          "Commodities",
          "Commodities",
          "Commodities"
         ],
         "y0": " ",
         "yaxis": "y"
        },
        {
         "alignmentgroup": "True",
         "hovertemplate": "Industry=%{y}<br>Total net worth (USD)=%{x}<extra></extra>",
         "legendgroup": "Real Estate",
         "marker": {
          "color": "#636efa"
         },
         "name": "Real Estate",
         "notched": false,
         "offsetgroup": "Real Estate",
         "orientation": "h",
         "showlegend": true,
         "type": "box",
         "visible": "legendonly",
         "x": [
          30500000000,
          28300000000,
          24600000000,
          20700000000,
          19100000000,
          18700000000,
          17400000000,
          14200000000,
          13100000000,
          12800000000,
          12500000000,
          12500000000,
          12100000000,
          11400000000,
          8980000000,
          7730000000,
          7440000000,
          7350000000,
          7160000000,
          7080000000,
          6720000000,
          6420000000
         ],
         "x0": " ",
         "xaxis": "x",
         "y": [
          "Real Estate",
          "Real Estate",
          "Real Estate",
          "Real Estate",
          "Real Estate",
          "Real Estate",
          "Real Estate",
          "Real Estate",
          "Real Estate",
          "Real Estate",
          "Real Estate",
          "Real Estate",
          "Real Estate",
          "Real Estate",
          "Real Estate",
          "Real Estate",
          "Real Estate",
          "Real Estate",
          "Real Estate",
          "Real Estate",
          "Real Estate",
          "Real Estate"
         ],
         "y0": " ",
         "yaxis": "y"
        },
        {
         "alignmentgroup": "True",
         "hovertemplate": "Industry=%{y}<br>Total net worth (USD)=%{x}<extra></extra>",
         "legendgroup": "Services",
         "marker": {
          "color": "#EF553B"
         },
         "name": "Services",
         "notched": false,
         "offsetgroup": "Services",
         "orientation": "h",
         "showlegend": true,
         "type": "box",
         "visible": "legendonly",
         "x": [
          29600000000,
          27700000000,
          15100000000,
          11900000000,
          11200000000,
          10600000000,
          10400000000,
          9730000000,
          9370000000,
          9350000000,
          8670000000,
          7190000000,
          7130000000
         ],
         "x0": " ",
         "xaxis": "x",
         "y": [
          "Services",
          "Services",
          "Services",
          "Services",
          "Services",
          "Services",
          "Services",
          "Services",
          "Services",
          "Services",
          "Services",
          "Services",
          "Services"
         ],
         "y0": " ",
         "yaxis": "y"
        },
        {
         "alignmentgroup": "True",
         "hovertemplate": "Industry=%{y}<br>Total net worth (USD)=%{x}<extra></extra>",
         "legendgroup": "Health Care",
         "marker": {
          "color": "#00cc96"
         },
         "name": "Health Care",
         "notched": false,
         "offsetgroup": "Health Care",
         "orientation": "h",
         "showlegend": true,
         "type": "box",
         "visible": "legendonly",
         "x": [
          28900000000,
          28700000000,
          20700000000,
          15800000000,
          15800000000,
          14500000000,
          13900000000,
          12700000000,
          12400000000,
          12200000000,
          11000000000,
          10900000000,
          10900000000,
          10400000000,
          10100000000,
          9330000000,
          8780000000,
          8580000000,
          8400000000,
          7930000000,
          7930000000,
          7830000000,
          7830000000,
          7390000000,
          7320000000,
          7040000000,
          6900000000,
          6740000000,
          6670000000,
          6560000000
         ],
         "x0": " ",
         "xaxis": "x",
         "y": [
          "Health Care",
          "Health Care",
          "Health Care",
          "Health Care",
          "Health Care",
          "Health Care",
          "Health Care",
          "Health Care",
          "Health Care",
          "Health Care",
          "Health Care",
          "Health Care",
          "Health Care",
          "Health Care",
          "Health Care",
          "Health Care",
          "Health Care",
          "Health Care",
          "Health Care",
          "Health Care",
          "Health Care",
          "Health Care",
          "Health Care",
          "Health Care",
          "Health Care",
          "Health Care",
          "Health Care",
          "Health Care",
          "Health Care",
          "Health Care"
         ],
         "y0": " ",
         "yaxis": "y"
        },
        {
         "alignmentgroup": "True",
         "hovertemplate": "Industry=%{y}<br>Total net worth (USD)=%{x}<extra></extra>",
         "legendgroup": "Media & Telecom",
         "marker": {
          "color": "#ab63fa"
         },
         "name": "Media & Telecom",
         "notched": false,
         "offsetgroup": "Media & Telecom",
         "orientation": "h",
         "showlegend": true,
         "type": "box",
         "visible": "legendonly",
         "x": [
          24200000000,
          20100000000,
          19400000000,
          12400000000,
          12400000000,
          12400000000,
          12300000000,
          11800000000,
          9760000000,
          9760000000,
          9760000000,
          8670000000,
          8670000000,
          7770000000,
          7230000000,
          7230000000,
          7080000000,
          7010000000,
          6880000000
         ],
         "x0": " ",
         "xaxis": "x",
         "y": [
          "Media & Telecom",
          "Media & Telecom",
          "Media & Telecom",
          "Media & Telecom",
          "Media & Telecom",
          "Media & Telecom",
          "Media & Telecom",
          "Media & Telecom",
          "Media & Telecom",
          "Media & Telecom",
          "Media & Telecom",
          "Media & Telecom",
          "Media & Telecom",
          "Media & Telecom",
          "Media & Telecom",
          "Media & Telecom",
          "Media & Telecom",
          "Media & Telecom",
          "Media & Telecom"
         ],
         "y0": " ",
         "yaxis": "y"
        }
       ],
       "layout": {
        "boxmode": "group",
        "height": 800,
        "legend": {
         "title": {
          "text": "Industry"
         },
         "tracegroupgap": 0
        },
        "template": {
         "data": {
          "bar": [
           {
            "error_x": {
             "color": "#2a3f5f"
            },
            "error_y": {
             "color": "#2a3f5f"
            },
            "marker": {
             "line": {
              "color": "white",
              "width": 0.5
             },
             "pattern": {
              "fillmode": "overlay",
              "size": 10,
              "solidity": 0.2
             }
            },
            "type": "bar"
           }
          ],
          "barpolar": [
           {
            "marker": {
             "line": {
              "color": "white",
              "width": 0.5
             },
             "pattern": {
              "fillmode": "overlay",
              "size": 10,
              "solidity": 0.2
             }
            },
            "type": "barpolar"
           }
          ],
          "carpet": [
           {
            "aaxis": {
             "endlinecolor": "#2a3f5f",
             "gridcolor": "#C8D4E3",
             "linecolor": "#C8D4E3",
             "minorgridcolor": "#C8D4E3",
             "startlinecolor": "#2a3f5f"
            },
            "baxis": {
             "endlinecolor": "#2a3f5f",
             "gridcolor": "#C8D4E3",
             "linecolor": "#C8D4E3",
             "minorgridcolor": "#C8D4E3",
             "startlinecolor": "#2a3f5f"
            },
            "type": "carpet"
           }
          ],
          "choropleth": [
           {
            "colorbar": {
             "outlinewidth": 0,
             "ticks": ""
            },
            "type": "choropleth"
           }
          ],
          "contour": [
           {
            "colorbar": {
             "outlinewidth": 0,
             "ticks": ""
            },
            "colorscale": [
             [
              0,
              "#0d0887"
             ],
             [
              0.1111111111111111,
              "#46039f"
             ],
             [
              0.2222222222222222,
              "#7201a8"
             ],
             [
              0.3333333333333333,
              "#9c179e"
             ],
             [
              0.4444444444444444,
              "#bd3786"
             ],
             [
              0.5555555555555556,
              "#d8576b"
             ],
             [
              0.6666666666666666,
              "#ed7953"
             ],
             [
              0.7777777777777778,
              "#fb9f3a"
             ],
             [
              0.8888888888888888,
              "#fdca26"
             ],
             [
              1,
              "#f0f921"
             ]
            ],
            "type": "contour"
           }
          ],
          "contourcarpet": [
           {
            "colorbar": {
             "outlinewidth": 0,
             "ticks": ""
            },
            "type": "contourcarpet"
           }
          ],
          "heatmap": [
           {
            "colorbar": {
             "outlinewidth": 0,
             "ticks": ""
            },
            "colorscale": [
             [
              0,
              "#0d0887"
             ],
             [
              0.1111111111111111,
              "#46039f"
             ],
             [
              0.2222222222222222,
              "#7201a8"
             ],
             [
              0.3333333333333333,
              "#9c179e"
             ],
             [
              0.4444444444444444,
              "#bd3786"
             ],
             [
              0.5555555555555556,
              "#d8576b"
             ],
             [
              0.6666666666666666,
              "#ed7953"
             ],
             [
              0.7777777777777778,
              "#fb9f3a"
             ],
             [
              0.8888888888888888,
              "#fdca26"
             ],
             [
              1,
              "#f0f921"
             ]
            ],
            "type": "heatmap"
           }
          ],
          "heatmapgl": [
           {
            "colorbar": {
             "outlinewidth": 0,
             "ticks": ""
            },
            "colorscale": [
             [
              0,
              "#0d0887"
             ],
             [
              0.1111111111111111,
              "#46039f"
             ],
             [
              0.2222222222222222,
              "#7201a8"
             ],
             [
              0.3333333333333333,
              "#9c179e"
             ],
             [
              0.4444444444444444,
              "#bd3786"
             ],
             [
              0.5555555555555556,
              "#d8576b"
             ],
             [
              0.6666666666666666,
              "#ed7953"
             ],
             [
              0.7777777777777778,
              "#fb9f3a"
             ],
             [
              0.8888888888888888,
              "#fdca26"
             ],
             [
              1,
              "#f0f921"
             ]
            ],
            "type": "heatmapgl"
           }
          ],
          "histogram": [
           {
            "marker": {
             "pattern": {
              "fillmode": "overlay",
              "size": 10,
              "solidity": 0.2
             }
            },
            "type": "histogram"
           }
          ],
          "histogram2d": [
           {
            "colorbar": {
             "outlinewidth": 0,
             "ticks": ""
            },
            "colorscale": [
             [
              0,
              "#0d0887"
             ],
             [
              0.1111111111111111,
              "#46039f"
             ],
             [
              0.2222222222222222,
              "#7201a8"
             ],
             [
              0.3333333333333333,
              "#9c179e"
             ],
             [
              0.4444444444444444,
              "#bd3786"
             ],
             [
              0.5555555555555556,
              "#d8576b"
             ],
             [
              0.6666666666666666,
              "#ed7953"
             ],
             [
              0.7777777777777778,
              "#fb9f3a"
             ],
             [
              0.8888888888888888,
              "#fdca26"
             ],
             [
              1,
              "#f0f921"
             ]
            ],
            "type": "histogram2d"
           }
          ],
          "histogram2dcontour": [
           {
            "colorbar": {
             "outlinewidth": 0,
             "ticks": ""
            },
            "colorscale": [
             [
              0,
              "#0d0887"
             ],
             [
              0.1111111111111111,
              "#46039f"
             ],
             [
              0.2222222222222222,
              "#7201a8"
             ],
             [
              0.3333333333333333,
              "#9c179e"
             ],
             [
              0.4444444444444444,
              "#bd3786"
             ],
             [
              0.5555555555555556,
              "#d8576b"
             ],
             [
              0.6666666666666666,
              "#ed7953"
             ],
             [
              0.7777777777777778,
              "#fb9f3a"
             ],
             [
              0.8888888888888888,
              "#fdca26"
             ],
             [
              1,
              "#f0f921"
             ]
            ],
            "type": "histogram2dcontour"
           }
          ],
          "mesh3d": [
           {
            "colorbar": {
             "outlinewidth": 0,
             "ticks": ""
            },
            "type": "mesh3d"
           }
          ],
          "parcoords": [
           {
            "line": {
             "colorbar": {
              "outlinewidth": 0,
              "ticks": ""
             }
            },
            "type": "parcoords"
           }
          ],
          "pie": [
           {
            "automargin": true,
            "type": "pie"
           }
          ],
          "scatter": [
           {
            "fillpattern": {
             "fillmode": "overlay",
             "size": 10,
             "solidity": 0.2
            },
            "type": "scatter"
           }
          ],
          "scatter3d": [
           {
            "line": {
             "colorbar": {
              "outlinewidth": 0,
              "ticks": ""
             }
            },
            "marker": {
             "colorbar": {
              "outlinewidth": 0,
              "ticks": ""
             }
            },
            "type": "scatter3d"
           }
          ],
          "scattercarpet": [
           {
            "marker": {
             "colorbar": {
              "outlinewidth": 0,
              "ticks": ""
             }
            },
            "type": "scattercarpet"
           }
          ],
          "scattergeo": [
           {
            "marker": {
             "colorbar": {
              "outlinewidth": 0,
              "ticks": ""
             }
            },
            "type": "scattergeo"
           }
          ],
          "scattergl": [
           {
            "marker": {
             "colorbar": {
              "outlinewidth": 0,
              "ticks": ""
             }
            },
            "type": "scattergl"
           }
          ],
          "scattermapbox": [
           {
            "marker": {
             "colorbar": {
              "outlinewidth": 0,
              "ticks": ""
             }
            },
            "type": "scattermapbox"
           }
          ],
          "scatterpolar": [
           {
            "marker": {
             "colorbar": {
              "outlinewidth": 0,
              "ticks": ""
             }
            },
            "type": "scatterpolar"
           }
          ],
          "scatterpolargl": [
           {
            "marker": {
             "colorbar": {
              "outlinewidth": 0,
              "ticks": ""
             }
            },
            "type": "scatterpolargl"
           }
          ],
          "scatterternary": [
           {
            "marker": {
             "colorbar": {
              "outlinewidth": 0,
              "ticks": ""
             }
            },
            "type": "scatterternary"
           }
          ],
          "surface": [
           {
            "colorbar": {
             "outlinewidth": 0,
             "ticks": ""
            },
            "colorscale": [
             [
              0,
              "#0d0887"
             ],
             [
              0.1111111111111111,
              "#46039f"
             ],
             [
              0.2222222222222222,
              "#7201a8"
             ],
             [
              0.3333333333333333,
              "#9c179e"
             ],
             [
              0.4444444444444444,
              "#bd3786"
             ],
             [
              0.5555555555555556,
              "#d8576b"
             ],
             [
              0.6666666666666666,
              "#ed7953"
             ],
             [
              0.7777777777777778,
              "#fb9f3a"
             ],
             [
              0.8888888888888888,
              "#fdca26"
             ],
             [
              1,
              "#f0f921"
             ]
            ],
            "type": "surface"
           }
          ],
          "table": [
           {
            "cells": {
             "fill": {
              "color": "#EBF0F8"
             },
             "line": {
              "color": "white"
             }
            },
            "header": {
             "fill": {
              "color": "#C8D4E3"
             },
             "line": {
              "color": "white"
             }
            },
            "type": "table"
           }
          ]
         },
         "layout": {
          "annotationdefaults": {
           "arrowcolor": "#2a3f5f",
           "arrowhead": 0,
           "arrowwidth": 1
          },
          "autotypenumbers": "strict",
          "coloraxis": {
           "colorbar": {
            "outlinewidth": 0,
            "ticks": ""
           }
          },
          "colorscale": {
           "diverging": [
            [
             0,
             "#8e0152"
            ],
            [
             0.1,
             "#c51b7d"
            ],
            [
             0.2,
             "#de77ae"
            ],
            [
             0.3,
             "#f1b6da"
            ],
            [
             0.4,
             "#fde0ef"
            ],
            [
             0.5,
             "#f7f7f7"
            ],
            [
             0.6,
             "#e6f5d0"
            ],
            [
             0.7,
             "#b8e186"
            ],
            [
             0.8,
             "#7fbc41"
            ],
            [
             0.9,
             "#4d9221"
            ],
            [
             1,
             "#276419"
            ]
           ],
           "sequential": [
            [
             0,
             "#0d0887"
            ],
            [
             0.1111111111111111,
             "#46039f"
            ],
            [
             0.2222222222222222,
             "#7201a8"
            ],
            [
             0.3333333333333333,
             "#9c179e"
            ],
            [
             0.4444444444444444,
             "#bd3786"
            ],
            [
             0.5555555555555556,
             "#d8576b"
            ],
            [
             0.6666666666666666,
             "#ed7953"
            ],
            [
             0.7777777777777778,
             "#fb9f3a"
            ],
            [
             0.8888888888888888,
             "#fdca26"
            ],
            [
             1,
             "#f0f921"
            ]
           ],
           "sequentialminus": [
            [
             0,
             "#0d0887"
            ],
            [
             0.1111111111111111,
             "#46039f"
            ],
            [
             0.2222222222222222,
             "#7201a8"
            ],
            [
             0.3333333333333333,
             "#9c179e"
            ],
            [
             0.4444444444444444,
             "#bd3786"
            ],
            [
             0.5555555555555556,
             "#d8576b"
            ],
            [
             0.6666666666666666,
             "#ed7953"
            ],
            [
             0.7777777777777778,
             "#fb9f3a"
            ],
            [
             0.8888888888888888,
             "#fdca26"
            ],
            [
             1,
             "#f0f921"
            ]
           ]
          },
          "colorway": [
           "#636efa",
           "#EF553B",
           "#00cc96",
           "#ab63fa",
           "#FFA15A",
           "#19d3f3",
           "#FF6692",
           "#B6E880",
           "#FF97FF",
           "#FECB52"
          ],
          "font": {
           "color": "#2a3f5f"
          },
          "geo": {
           "bgcolor": "white",
           "lakecolor": "white",
           "landcolor": "white",
           "showlakes": true,
           "showland": true,
           "subunitcolor": "#C8D4E3"
          },
          "hoverlabel": {
           "align": "left"
          },
          "hovermode": "closest",
          "mapbox": {
           "style": "light"
          },
          "paper_bgcolor": "white",
          "plot_bgcolor": "white",
          "polar": {
           "angularaxis": {
            "gridcolor": "#EBF0F8",
            "linecolor": "#EBF0F8",
            "ticks": ""
           },
           "bgcolor": "white",
           "radialaxis": {
            "gridcolor": "#EBF0F8",
            "linecolor": "#EBF0F8",
            "ticks": ""
           }
          },
          "scene": {
           "xaxis": {
            "backgroundcolor": "white",
            "gridcolor": "#DFE8F3",
            "gridwidth": 2,
            "linecolor": "#EBF0F8",
            "showbackground": true,
            "ticks": "",
            "zerolinecolor": "#EBF0F8"
           },
           "yaxis": {
            "backgroundcolor": "white",
            "gridcolor": "#DFE8F3",
            "gridwidth": 2,
            "linecolor": "#EBF0F8",
            "showbackground": true,
            "ticks": "",
            "zerolinecolor": "#EBF0F8"
           },
           "zaxis": {
            "backgroundcolor": "white",
            "gridcolor": "#DFE8F3",
            "gridwidth": 2,
            "linecolor": "#EBF0F8",
            "showbackground": true,
            "ticks": "",
            "zerolinecolor": "#EBF0F8"
           }
          },
          "shapedefaults": {
           "line": {
            "color": "#2a3f5f"
           }
          },
          "ternary": {
           "aaxis": {
            "gridcolor": "#DFE8F3",
            "linecolor": "#A2B1C6",
            "ticks": ""
           },
           "baxis": {
            "gridcolor": "#DFE8F3",
            "linecolor": "#A2B1C6",
            "ticks": ""
           },
           "bgcolor": "white",
           "caxis": {
            "gridcolor": "#DFE8F3",
            "linecolor": "#A2B1C6",
            "ticks": ""
           }
          },
          "title": {
           "x": 0.05
          },
          "xaxis": {
           "automargin": true,
           "gridcolor": "#EBF0F8",
           "linecolor": "#EBF0F8",
           "ticks": "",
           "title": {
            "standoff": 15
           },
           "zerolinecolor": "#EBF0F8",
           "zerolinewidth": 2
          },
          "yaxis": {
           "automargin": true,
           "gridcolor": "#EBF0F8",
           "linecolor": "#EBF0F8",
           "ticks": "",
           "title": {
            "standoff": 15
           },
           "zerolinecolor": "#EBF0F8",
           "zerolinewidth": 2
          }
         }
        },
        "title": {
         "text": "Boxplot of Total Net Worth of Billionaires by Industry¶"
        },
        "width": 1200,
        "xaxis": {
         "anchor": "y",
         "domain": [
          0,
          1
         ],
         "title": {
          "text": "Total net worth"
         }
        },
        "yaxis": {
         "anchor": "x",
         "categoryarray": [
          "Media & Telecom",
          "Health Care",
          "Services",
          "Real Estate",
          "Commodities",
          "Entertainment",
          "Food & Beverage",
          "Finance",
          "Industrial",
          "Energy",
          "Retail",
          "Diversified",
          "Consumer",
          "Technology"
         ],
         "categoryorder": "array",
         "domain": [
          0,
          1
         ],
         "title": {
          "text": "Industry"
         }
        }
       }
      }
     },
     "metadata": {},
     "output_type": "display_data"
    }
   ],
   "source": [
    "fig = px.box(\n",
    "    df_ready,\n",
    "    x='Total net worth',  # Wartości na osi poziomej\n",
    "    y='Industry',      # Branże na osi pionowej\n",
    "    color='Industry',  # Kolory boxów w zależności od branży\n",
    "    title='Boxplot of Total Net Worth of Billionaires by Industry¶',\n",
    "    labels={\n",
    "        'Total net worth': 'Total net worth (USD)',\n",
    "        'Industry': 'Industry'\n",
    "    },\n",
    "    height=800,  # Większa wysokość dla czytelności\n",
    "    width=1200   # Większa szerokość dla wygody\n",
    ")\n",
    "\n",
    "for trace in fig.data:\n",
    "    if trace.name != 'Technology':  # Sprawdzamy, czy jest to branża technologiczna\n",
    "        trace.visible = 'legendonly'  # Ukrywamy inne branże\n",
    "\n",
    "# Dostosowanie wyglądu wykresu\n",
    "fig.update_layout(\n",
    "    boxmode='group',  # Grupowanie boxów\n",
    "    xaxis_title='Total net worth',  # Tytuł osi X\n",
    "    yaxis_title='Industry',               # Tytuł osi Y\n",
    "    template='plotly_white'\n",
    ")\n",
    "\n",
    "# Wyświetlenie wykresu\n",
    "fig.show()"
   ]
  },
  {
   "cell_type": "code",
   "execution_count": 30,
   "id": "ac2c6c9a-8e69-4ed9-a3ee-f4a52a651275",
   "metadata": {},
   "outputs": [
    {
     "data": {
      "application/vnd.plotly.v1+json": {
       "config": {
        "plotlyServerURL": "https://plot.ly"
       },
       "data": [
        {
         "alignmentgroup": "True",
         "hovertemplate": "Industry=%{y}<br>YTD change (USD)=%{x}<extra></extra>",
         "legendgroup": "Technology",
         "marker": {
          "color": "#636efa"
         },
         "name": "Technology",
         "notched": false,
         "offsetgroup": "Technology",
         "orientation": "h",
         "showlegend": true,
         "type": "box",
         "x": [
          218000000000,
          72100000000,
          95500000000,
          75300000000,
          47100000000,
          24200000000,
          43200000000,
          24500000000,
          77700000000,
          36300000000,
          13300000000,
          10000000000,
          1610000000,
          6000000000,
          9560000000,
          -15100000000,
          5070000000,
          15000000000,
          5540000000,
          1810000000,
          10400000000,
          12100000000,
          8310000000.000001,
          123000000,
          9660000000,
          7040000000,
          5540000000,
          2880000000,
          6390000000,
          451000000,
          5130000000,
          2120000000,
          2060000000,
          6530000000,
          8550000000.000001,
          4650000000,
          -538000000,
          -538000000,
          6350000000,
          2170000000,
          11100000000,
          -639000000,
          2080000000,
          4820000000,
          2640000000,
          603000000,
          4750000000,
          4080000000,
          3240000000,
          965000000,
          3340000000,
          5860000000,
          3810000000,
          25000000,
          2760000000,
          1580000000,
          2610000000,
          2440000000,
          1690000000,
          3270000000,
          1180000000,
          3140000000,
          936000000,
          4930000000,
          1930000000,
          720000000,
          700000000,
          1230000000,
          4160000000,
          1200000000,
          2050000000,
          2050000000,
          1430000000,
          -1800000000,
          1150000000,
          0,
          1370000000,
          615000000,
          857000000,
          1200000000,
          1080000000,
          2860000000,
          2860000000
         ],
         "x0": " ",
         "xaxis": "x",
         "y": [
          "Technology",
          "Technology",
          "Technology",
          "Technology",
          "Technology",
          "Technology",
          "Technology",
          "Technology",
          "Technology",
          "Technology",
          "Technology",
          "Technology",
          "Technology",
          "Technology",
          "Technology",
          "Technology",
          "Technology",
          "Technology",
          "Technology",
          "Technology",
          "Technology",
          "Technology",
          "Technology",
          "Technology",
          "Technology",
          "Technology",
          "Technology",
          "Technology",
          "Technology",
          "Technology",
          "Technology",
          "Technology",
          "Technology",
          "Technology",
          "Technology",
          "Technology",
          "Technology",
          "Technology",
          "Technology",
          "Technology",
          "Technology",
          "Technology",
          "Technology",
          "Technology",
          "Technology",
          "Technology",
          "Technology",
          "Technology",
          "Technology",
          "Technology",
          "Technology",
          "Technology",
          "Technology",
          "Technology",
          "Technology",
          "Technology",
          "Technology",
          "Technology",
          "Technology",
          "Technology",
          "Technology",
          "Technology",
          "Technology",
          "Technology",
          "Technology",
          "Technology",
          "Technology",
          "Technology",
          "Technology",
          "Technology",
          "Technology",
          "Technology",
          "Technology",
          "Technology",
          "Technology",
          "Technology",
          "Technology",
          "Technology",
          "Technology",
          "Technology",
          "Technology",
          "Technology",
          "Technology"
         ],
         "y0": " ",
         "yaxis": "y"
        },
        {
         "alignmentgroup": "True",
         "hovertemplate": "Industry=%{y}<br>YTD change (USD)=%{x}<extra></extra>",
         "legendgroup": "Consumer",
         "marker": {
          "color": "#EF553B"
         },
         "name": "Consumer",
         "notched": false,
         "offsetgroup": "Consumer",
         "orientation": "h",
         "showlegend": true,
         "type": "box",
         "visible": "legendonly",
         "x": [
          -26400000000,
          -24100000000,
          -1640000000,
          -1660000000,
          -6880000000,
          9060000000,
          -13400000000,
          5860000000,
          240000000,
          11000000000,
          3120000000,
          -3520000000,
          -5640000000,
          -701000000,
          2750000000,
          531000000,
          3100000000,
          881000000,
          933000000,
          3430000000,
          4020000000,
          1040000000,
          950000000,
          950000000,
          2230000000,
          -436000000,
          850000000,
          2240000000,
          1200000000,
          1770000000,
          6010000000,
          2100000000,
          2130000000,
          5910000000,
          1770000000,
          1760000000,
          1010000000,
          10000000,
          1690000000,
          907000000,
          -834000000,
          1600000000,
          923000000
         ],
         "x0": " ",
         "xaxis": "x",
         "y": [
          "Consumer",
          "Consumer",
          "Consumer",
          "Consumer",
          "Consumer",
          "Consumer",
          "Consumer",
          "Consumer",
          "Consumer",
          "Consumer",
          "Consumer",
          "Consumer",
          "Consumer",
          "Consumer",
          "Consumer",
          "Consumer",
          "Consumer",
          "Consumer",
          "Consumer",
          "Consumer",
          "Consumer",
          "Consumer",
          "Consumer",
          "Consumer",
          "Consumer",
          "Consumer",
          "Consumer",
          "Consumer",
          "Consumer",
          "Consumer",
          "Consumer",
          "Consumer",
          "Consumer",
          "Consumer",
          "Consumer",
          "Consumer",
          "Consumer",
          "Consumer",
          "Consumer",
          "Consumer",
          "Consumer",
          "Consumer",
          "Consumer"
         ],
         "y0": " ",
         "yaxis": "y"
        },
        {
         "alignmentgroup": "True",
         "hovertemplate": "Industry=%{y}<br>YTD change (USD)=%{x}<extra></extra>",
         "legendgroup": "Diversified",
         "marker": {
          "color": "#00cc96"
         },
         "name": "Diversified",
         "notched": false,
         "offsetgroup": "Diversified",
         "orientation": "h",
         "showlegend": true,
         "type": "box",
         "visible": "legendonly",
         "x": [
          24400000000,
          -19700000000,
          -8920000000,
          -439000000,
          3030000000,
          4080000000,
          1680000000,
          1190000000,
          13200000000,
          5590000000,
          3140000000,
          301000000,
          1270000000,
          3110000000,
          3010000000,
          -6500000000,
          2240000000,
          1450000000,
          3800000000,
          1650000000,
          1980000000,
          4180000000,
          4180000000,
          -2960000000,
          2820000000,
          538000000,
          2010000000,
          1680000000,
          479000000,
          -139000000,
          2650000000,
          1490000000,
          -930000000,
          974000000,
          -1410000000,
          -1410000000,
          -1410000000,
          1870000000,
          1230000000,
          254000000,
          -298000000,
          1080000000,
          647000000,
          1450000000,
          1150000000,
          1200000000,
          735000000,
          1300000000,
          1130000000,
          242000000,
          242000000,
          1130000000
         ],
         "x0": " ",
         "xaxis": "x",
         "y": [
          "Diversified",
          "Diversified",
          "Diversified",
          "Diversified",
          "Diversified",
          "Diversified",
          "Diversified",
          "Diversified",
          "Diversified",
          "Diversified",
          "Diversified",
          "Diversified",
          "Diversified",
          "Diversified",
          "Diversified",
          "Diversified",
          "Diversified",
          "Diversified",
          "Diversified",
          "Diversified",
          "Diversified",
          "Diversified",
          "Diversified",
          "Diversified",
          "Diversified",
          "Diversified",
          "Diversified",
          "Diversified",
          "Diversified",
          "Diversified",
          "Diversified",
          "Diversified",
          "Diversified",
          "Diversified",
          "Diversified",
          "Diversified",
          "Diversified",
          "Diversified",
          "Diversified",
          "Diversified",
          "Diversified",
          "Diversified",
          "Diversified",
          "Diversified",
          "Diversified",
          "Diversified",
          "Diversified",
          "Diversified",
          "Diversified",
          "Diversified",
          "Diversified",
          "Diversified"
         ],
         "y0": " ",
         "yaxis": "y"
        },
        {
         "alignmentgroup": "True",
         "hovertemplate": "Industry=%{y}<br>YTD change (USD)=%{x}<extra></extra>",
         "legendgroup": "Retail",
         "marker": {
          "color": "#ab63fa"
         },
         "name": "Retail",
         "notched": false,
         "offsetgroup": "Retail",
         "orientation": "h",
         "showlegend": true,
         "type": "box",
         "visible": "legendonly",
         "x": [
          44600000000,
          43400000000,
          43900000000,
          18200000000,
          14400000000,
          14800000000,
          -908000000,
          4430000000,
          0,
          -2400000000,
          7080000000,
          -2350000000,
          -2160000000,
          6470000000,
          4260000000,
          -1640000000,
          -1640000000,
          5630000000,
          1910000000,
          2280000000,
          5400000000,
          3300000000,
          -22200000,
          2020000000,
          1670000000,
          291000000,
          -462000000,
          -84700000,
          256000000,
          -1390000000,
          977000000,
          675000000,
          2350000000,
          2350000000,
          2350000000
         ],
         "x0": " ",
         "xaxis": "x",
         "y": [
          "Retail",
          "Retail",
          "Retail",
          "Retail",
          "Retail",
          "Retail",
          "Retail",
          "Retail",
          "Retail",
          "Retail",
          "Retail",
          "Retail",
          "Retail",
          "Retail",
          "Retail",
          "Retail",
          "Retail",
          "Retail",
          "Retail",
          "Retail",
          "Retail",
          "Retail",
          "Retail",
          "Retail",
          "Retail",
          "Retail",
          "Retail",
          "Retail",
          "Retail",
          "Retail",
          "Retail",
          "Retail",
          "Retail",
          "Retail",
          "Retail"
         ],
         "y0": " ",
         "yaxis": "y"
        },
        {
         "alignmentgroup": "True",
         "hovertemplate": "Industry=%{y}<br>YTD change (USD)=%{x}<extra></extra>",
         "legendgroup": "Energy",
         "marker": {
          "color": "#FFA15A"
         },
         "name": "Energy",
         "notched": false,
         "offsetgroup": "Energy",
         "orientation": "h",
         "showlegend": true,
         "type": "box",
         "visible": "legendonly",
         "x": [
          719000000,
          799000000,
          8380000000.000001,
          3130000000,
          -4670000000,
          -1970000000,
          9590000000,
          1110000000,
          5350000000,
          910000000,
          3620000000,
          -3250000000,
          2020000000,
          2400000000,
          2390000000,
          2390000000,
          2390000000,
          1220000000,
          874000000,
          789000000,
          2010000000,
          1740000000,
          -112000000,
          2230000000,
          1210000000,
          1410000000,
          869000000,
          -1000000000,
          409000000
         ],
         "x0": " ",
         "xaxis": "x",
         "y": [
          "Energy",
          "Energy",
          "Energy",
          "Energy",
          "Energy",
          "Energy",
          "Energy",
          "Energy",
          "Energy",
          "Energy",
          "Energy",
          "Energy",
          "Energy",
          "Energy",
          "Energy",
          "Energy",
          "Energy",
          "Energy",
          "Energy",
          "Energy",
          "Energy",
          "Energy",
          "Energy",
          "Energy",
          "Energy",
          "Energy",
          "Energy",
          "Energy",
          "Energy"
         ],
         "y0": " ",
         "yaxis": "y"
        },
        {
         "alignmentgroup": "True",
         "hovertemplate": "Industry=%{y}<br>YTD change (USD)=%{x}<extra></extra>",
         "legendgroup": "Industrial",
         "marker": {
          "color": "#19d3f3"
         },
         "name": "Industrial",
         "notched": false,
         "offsetgroup": "Industrial",
         "orientation": "h",
         "showlegend": true,
         "type": "box",
         "visible": "legendonly",
         "x": [
          -4970000000,
          9410000000,
          5790000000,
          6120000000,
          -3980000000,
          14800000000,
          5800000000,
          13000000000,
          1230000000,
          4790000000,
          -3600000000,
          -2980000000,
          2820000000,
          -3230000000,
          7510000000,
          2390000000,
          6910000000,
          1530000000,
          -5310000000,
          828000000,
          2940000000,
          3650000000,
          2450000000,
          964000000,
          -163000000,
          3420000000,
          1100000000,
          -961000000,
          3110000000,
          509000000,
          2690000000,
          2630000000,
          3390000000,
          -552000000,
          555000000,
          1230000000,
          1160000000,
          1120000000,
          -127000000,
          873000000,
          1410000000,
          884000000,
          1160000000,
          -202000000,
          191000000,
          328000000,
          992000000,
          189000000,
          1150000000,
          814000000,
          902000000,
          955000000,
          900000000,
          2490000000,
          2460000000,
          923000000
         ],
         "x0": " ",
         "xaxis": "x",
         "y": [
          "Industrial",
          "Industrial",
          "Industrial",
          "Industrial",
          "Industrial",
          "Industrial",
          "Industrial",
          "Industrial",
          "Industrial",
          "Industrial",
          "Industrial",
          "Industrial",
          "Industrial",
          "Industrial",
          "Industrial",
          "Industrial",
          "Industrial",
          "Industrial",
          "Industrial",
          "Industrial",
          "Industrial",
          "Industrial",
          "Industrial",
          "Industrial",
          "Industrial",
          "Industrial",
          "Industrial",
          "Industrial",
          "Industrial",
          "Industrial",
          "Industrial",
          "Industrial",
          "Industrial",
          "Industrial",
          "Industrial",
          "Industrial",
          "Industrial",
          "Industrial",
          "Industrial",
          "Industrial",
          "Industrial",
          "Industrial",
          "Industrial",
          "Industrial",
          "Industrial",
          "Industrial",
          "Industrial",
          "Industrial",
          "Industrial",
          "Industrial",
          "Industrial",
          "Industrial",
          "Industrial",
          "Industrial",
          "Industrial",
          "Industrial"
         ],
         "y0": " ",
         "yaxis": "y"
        },
        {
         "alignmentgroup": "True",
         "hovertemplate": "Industry=%{y}<br>YTD change (USD)=%{x}<extra></extra>",
         "legendgroup": "Finance",
         "marker": {
          "color": "#FF6692"
         },
         "name": "Finance",
         "notched": false,
         "offsetgroup": "Finance",
         "orientation": "h",
         "showlegend": true,
         "type": "box",
         "visible": "legendonly",
         "x": [
          28900000000,
          15700000000,
          28700000000,
          6330000000,
          7570000000,
          5990000000,
          3830000000,
          1140000000,
          7790000000,
          7120000000,
          -295000000,
          6710000000,
          2930000000,
          3640000000,
          882000000,
          2020000000,
          2360000000,
          -390000000,
          2120000000,
          2150000000,
          6740000000,
          1920000000,
          3770000000,
          3210000000,
          3570000000,
          3820000000,
          1240000000,
          3810000000,
          2620000000,
          -350000000,
          1460000000,
          1090000000,
          516000000,
          3140000000,
          527000000,
          163000000,
          3550000000,
          -3330000000,
          2360000000,
          2470000000,
          213000000,
          4000000000,
          633000000,
          4380000000,
          2530000000,
          4840000000,
          2540000000,
          3290000000,
          1180000000,
          5240000000,
          1310000000,
          1350000000,
          1800000000,
          -2360000000,
          1690000000,
          2520000000,
          233000000,
          -616000000,
          -492000000,
          931000000,
          -60300000,
          1070000000,
          -660000000
         ],
         "x0": " ",
         "xaxis": "x",
         "y": [
          "Finance",
          "Finance",
          "Finance",
          "Finance",
          "Finance",
          "Finance",
          "Finance",
          "Finance",
          "Finance",
          "Finance",
          "Finance",
          "Finance",
          "Finance",
          "Finance",
          "Finance",
          "Finance",
          "Finance",
          "Finance",
          "Finance",
          "Finance",
          "Finance",
          "Finance",
          "Finance",
          "Finance",
          "Finance",
          "Finance",
          "Finance",
          "Finance",
          "Finance",
          "Finance",
          "Finance",
          "Finance",
          "Finance",
          "Finance",
          "Finance",
          "Finance",
          "Finance",
          "Finance",
          "Finance",
          "Finance",
          "Finance",
          "Finance",
          "Finance",
          "Finance",
          "Finance",
          "Finance",
          "Finance",
          "Finance",
          "Finance",
          "Finance",
          "Finance",
          "Finance",
          "Finance",
          "Finance",
          "Finance",
          "Finance",
          "Finance",
          "Finance",
          "Finance",
          "Finance",
          "Finance",
          "Finance",
          "Finance"
         ],
         "y0": " ",
         "yaxis": "y"
        },
        {
         "alignmentgroup": "True",
         "hovertemplate": "Industry=%{y}<br>YTD change (USD)=%{x}<extra></extra>",
         "legendgroup": "Food & Beverage",
         "marker": {
          "color": "#B6E880"
         },
         "name": "Food & Beverage",
         "notched": false,
         "offsetgroup": "Food & Beverage",
         "orientation": "h",
         "showlegend": true,
         "type": "box",
         "visible": "legendonly",
         "x": [
          -1790000000,
          -1790000000,
          3380000000,
          154000000,
          -1470000000,
          -187000000,
          780000000,
          1770000000,
          -2200000000,
          2420000000,
          -447000000,
          -447000000,
          -447000000,
          -696000000,
          -927000000,
          2020000000,
          523000000,
          1010000000,
          1010000000,
          1240000000,
          400000000,
          -1420000000,
          901000000,
          343000000,
          1060000000,
          459000000
         ],
         "x0": " ",
         "xaxis": "x",
         "y": [
          "Food & Beverage",
          "Food & Beverage",
          "Food & Beverage",
          "Food & Beverage",
          "Food & Beverage",
          "Food & Beverage",
          "Food & Beverage",
          "Food & Beverage",
          "Food & Beverage",
          "Food & Beverage",
          "Food & Beverage",
          "Food & Beverage",
          "Food & Beverage",
          "Food & Beverage",
          "Food & Beverage",
          "Food & Beverage",
          "Food & Beverage",
          "Food & Beverage",
          "Food & Beverage",
          "Food & Beverage",
          "Food & Beverage",
          "Food & Beverage",
          "Food & Beverage",
          "Food & Beverage",
          "Food & Beverage",
          "Food & Beverage"
         ],
         "y0": " ",
         "yaxis": "y"
        },
        {
         "alignmentgroup": "True",
         "hovertemplate": "Industry=%{y}<br>YTD change (USD)=%{x}<extra></extra>",
         "legendgroup": "Entertainment",
         "marker": {
          "color": "#FF97FF"
         },
         "name": "Entertainment",
         "notched": false,
         "offsetgroup": "Entertainment",
         "orientation": "h",
         "showlegend": true,
         "type": "box",
         "visible": "legendonly",
         "x": [
          4650000000,
          3030000000,
          4250000000,
          2220000000,
          1430000000,
          0,
          615000000,
          1640000000,
          1380000000,
          600000000,
          781000000,
          1000000000
         ],
         "x0": " ",
         "xaxis": "x",
         "y": [
          "Entertainment",
          "Entertainment",
          "Entertainment",
          "Entertainment",
          "Entertainment",
          "Entertainment",
          "Entertainment",
          "Entertainment",
          "Entertainment",
          "Entertainment",
          "Entertainment",
          "Entertainment"
         ],
         "y0": " ",
         "yaxis": "y"
        },
        {
         "alignmentgroup": "True",
         "hovertemplate": "Industry=%{y}<br>YTD change (USD)=%{x}<extra></extra>",
         "legendgroup": "Commodities",
         "marker": {
          "color": "#FECB52"
         },
         "name": "Commodities",
         "notched": false,
         "offsetgroup": "Commodities",
         "orientation": "h",
         "showlegend": true,
         "type": "box",
         "visible": "legendonly",
         "x": [
          -116000000,
          10000000000,
          1320000000,
          2220000000,
          -5760000000,
          583000000,
          -1190000000,
          -8369999999.999999,
          262000000,
          75000000,
          -968000000,
          -459000000,
          136000000,
          -46500000,
          -821000000,
          -821000000,
          544000000
         ],
         "x0": " ",
         "xaxis": "x",
         "y": [
          "Commodities",
          "Commodities",
          "Commodities",
          "Commodities",
          "Commodities",
          "Commodities",
          "Commodities",
          "Commodities",
          "Commodities",
          "Commodities",
          "Commodities",
          "Commodities",
          "Commodities",
          "Commodities",
          "Commodities",
          "Commodities",
          "Commodities"
         ],
         "y0": " ",
         "yaxis": "y"
        },
        {
         "alignmentgroup": "True",
         "hovertemplate": "Industry=%{y}<br>YTD change (USD)=%{x}<extra></extra>",
         "legendgroup": "Real Estate",
         "marker": {
          "color": "#636efa"
         },
         "name": "Real Estate",
         "notched": false,
         "offsetgroup": "Real Estate",
         "orientation": "h",
         "showlegend": true,
         "type": "box",
         "visible": "legendonly",
         "x": [
          1970000000,
          -1420000000,
          3150000000,
          3150000000,
          2990000000,
          2800000000,
          179000000,
          -1920000000,
          478000000,
          4180000000,
          3220000000,
          841000000,
          847000000,
          1050000000,
          625000000,
          1350000000,
          1040000000,
          694000000,
          619000000,
          282000000,
          3630000000,
          2000000000
         ],
         "x0": " ",
         "xaxis": "x",
         "y": [
          "Real Estate",
          "Real Estate",
          "Real Estate",
          "Real Estate",
          "Real Estate",
          "Real Estate",
          "Real Estate",
          "Real Estate",
          "Real Estate",
          "Real Estate",
          "Real Estate",
          "Real Estate",
          "Real Estate",
          "Real Estate",
          "Real Estate",
          "Real Estate",
          "Real Estate",
          "Real Estate",
          "Real Estate",
          "Real Estate",
          "Real Estate",
          "Real Estate"
         ],
         "y0": " ",
         "yaxis": "y"
        },
        {
         "alignmentgroup": "True",
         "hovertemplate": "Industry=%{y}<br>YTD change (USD)=%{x}<extra></extra>",
         "legendgroup": "Services",
         "marker": {
          "color": "#EF553B"
         },
         "name": "Services",
         "notched": false,
         "offsetgroup": "Services",
         "orientation": "h",
         "showlegend": true,
         "type": "box",
         "visible": "legendonly",
         "x": [
          7650000000,
          7280000000,
          4410000000,
          3700000000,
          310000000,
          5770000000,
          -250000000,
          1100000000,
          2150000000,
          230000000,
          306000000,
          782000000,
          3050000000
         ],
         "x0": " ",
         "xaxis": "x",
         "y": [
          "Services",
          "Services",
          "Services",
          "Services",
          "Services",
          "Services",
          "Services",
          "Services",
          "Services",
          "Services",
          "Services",
          "Services",
          "Services"
         ],
         "y0": " ",
         "yaxis": "y"
        },
        {
         "alignmentgroup": "True",
         "hovertemplate": "Industry=%{y}<br>YTD change (USD)=%{x}<extra></extra>",
         "legendgroup": "Health Care",
         "marker": {
          "color": "#00cc96"
         },
         "name": "Health Care",
         "notched": false,
         "offsetgroup": "Health Care",
         "orientation": "h",
         "showlegend": true,
         "type": "box",
         "visible": "legendonly",
         "x": [
          4330000000,
          7890000000,
          3010000000,
          2860000000,
          2860000000,
          -1080000000,
          9490000000,
          2190000000,
          1100000000,
          1610000000,
          1860000000,
          595000000,
          428000000,
          1630000000,
          3260000000,
          2600000000,
          -3990000000,
          2710000000,
          1500000000,
          2700000000,
          2700000000,
          -5290000000,
          -784000000,
          603000000,
          284000000,
          403000000,
          156000000,
          -12700000,
          -85700000,
          -1170000000
         ],
         "x0": " ",
         "xaxis": "x",
         "y": [
          "Health Care",
          "Health Care",
          "Health Care",
          "Health Care",
          "Health Care",
          "Health Care",
          "Health Care",
          "Health Care",
          "Health Care",
          "Health Care",
          "Health Care",
          "Health Care",
          "Health Care",
          "Health Care",
          "Health Care",
          "Health Care",
          "Health Care",
          "Health Care",
          "Health Care",
          "Health Care",
          "Health Care",
          "Health Care",
          "Health Care",
          "Health Care",
          "Health Care",
          "Health Care",
          "Health Care",
          "Health Care",
          "Health Care",
          "Health Care"
         ],
         "y0": " ",
         "yaxis": "y"
        },
        {
         "alignmentgroup": "True",
         "hovertemplate": "Industry=%{y}<br>YTD change (USD)=%{x}<extra></extra>",
         "legendgroup": "Media & Telecom",
         "marker": {
          "color": "#ab63fa"
         },
         "name": "Media & Telecom",
         "notched": false,
         "offsetgroup": "Media & Telecom",
         "orientation": "h",
         "showlegend": true,
         "type": "box",
         "visible": "legendonly",
         "x": [
          8260000000,
          2510000000,
          3390000000,
          1550000000,
          1550000000,
          1540000000,
          2040000000,
          3000000000,
          1210000000,
          1210000000,
          840000000,
          -619000000,
          -619000000,
          889000000,
          1310000000,
          752000000,
          215000000,
          -1020000000,
          1010000000
         ],
         "x0": " ",
         "xaxis": "x",
         "y": [
          "Media & Telecom",
          "Media & Telecom",
          "Media & Telecom",
          "Media & Telecom",
          "Media & Telecom",
          "Media & Telecom",
          "Media & Telecom",
          "Media & Telecom",
          "Media & Telecom",
          "Media & Telecom",
          "Media & Telecom",
          "Media & Telecom",
          "Media & Telecom",
          "Media & Telecom",
          "Media & Telecom",
          "Media & Telecom",
          "Media & Telecom",
          "Media & Telecom",
          "Media & Telecom"
         ],
         "y0": " ",
         "yaxis": "y"
        }
       ],
       "layout": {
        "boxmode": "group",
        "height": 800,
        "legend": {
         "title": {
          "text": "Industry"
         },
         "tracegroupgap": 0
        },
        "template": {
         "data": {
          "bar": [
           {
            "error_x": {
             "color": "#2a3f5f"
            },
            "error_y": {
             "color": "#2a3f5f"
            },
            "marker": {
             "line": {
              "color": "white",
              "width": 0.5
             },
             "pattern": {
              "fillmode": "overlay",
              "size": 10,
              "solidity": 0.2
             }
            },
            "type": "bar"
           }
          ],
          "barpolar": [
           {
            "marker": {
             "line": {
              "color": "white",
              "width": 0.5
             },
             "pattern": {
              "fillmode": "overlay",
              "size": 10,
              "solidity": 0.2
             }
            },
            "type": "barpolar"
           }
          ],
          "carpet": [
           {
            "aaxis": {
             "endlinecolor": "#2a3f5f",
             "gridcolor": "#C8D4E3",
             "linecolor": "#C8D4E3",
             "minorgridcolor": "#C8D4E3",
             "startlinecolor": "#2a3f5f"
            },
            "baxis": {
             "endlinecolor": "#2a3f5f",
             "gridcolor": "#C8D4E3",
             "linecolor": "#C8D4E3",
             "minorgridcolor": "#C8D4E3",
             "startlinecolor": "#2a3f5f"
            },
            "type": "carpet"
           }
          ],
          "choropleth": [
           {
            "colorbar": {
             "outlinewidth": 0,
             "ticks": ""
            },
            "type": "choropleth"
           }
          ],
          "contour": [
           {
            "colorbar": {
             "outlinewidth": 0,
             "ticks": ""
            },
            "colorscale": [
             [
              0,
              "#0d0887"
             ],
             [
              0.1111111111111111,
              "#46039f"
             ],
             [
              0.2222222222222222,
              "#7201a8"
             ],
             [
              0.3333333333333333,
              "#9c179e"
             ],
             [
              0.4444444444444444,
              "#bd3786"
             ],
             [
              0.5555555555555556,
              "#d8576b"
             ],
             [
              0.6666666666666666,
              "#ed7953"
             ],
             [
              0.7777777777777778,
              "#fb9f3a"
             ],
             [
              0.8888888888888888,
              "#fdca26"
             ],
             [
              1,
              "#f0f921"
             ]
            ],
            "type": "contour"
           }
          ],
          "contourcarpet": [
           {
            "colorbar": {
             "outlinewidth": 0,
             "ticks": ""
            },
            "type": "contourcarpet"
           }
          ],
          "heatmap": [
           {
            "colorbar": {
             "outlinewidth": 0,
             "ticks": ""
            },
            "colorscale": [
             [
              0,
              "#0d0887"
             ],
             [
              0.1111111111111111,
              "#46039f"
             ],
             [
              0.2222222222222222,
              "#7201a8"
             ],
             [
              0.3333333333333333,
              "#9c179e"
             ],
             [
              0.4444444444444444,
              "#bd3786"
             ],
             [
              0.5555555555555556,
              "#d8576b"
             ],
             [
              0.6666666666666666,
              "#ed7953"
             ],
             [
              0.7777777777777778,
              "#fb9f3a"
             ],
             [
              0.8888888888888888,
              "#fdca26"
             ],
             [
              1,
              "#f0f921"
             ]
            ],
            "type": "heatmap"
           }
          ],
          "heatmapgl": [
           {
            "colorbar": {
             "outlinewidth": 0,
             "ticks": ""
            },
            "colorscale": [
             [
              0,
              "#0d0887"
             ],
             [
              0.1111111111111111,
              "#46039f"
             ],
             [
              0.2222222222222222,
              "#7201a8"
             ],
             [
              0.3333333333333333,
              "#9c179e"
             ],
             [
              0.4444444444444444,
              "#bd3786"
             ],
             [
              0.5555555555555556,
              "#d8576b"
             ],
             [
              0.6666666666666666,
              "#ed7953"
             ],
             [
              0.7777777777777778,
              "#fb9f3a"
             ],
             [
              0.8888888888888888,
              "#fdca26"
             ],
             [
              1,
              "#f0f921"
             ]
            ],
            "type": "heatmapgl"
           }
          ],
          "histogram": [
           {
            "marker": {
             "pattern": {
              "fillmode": "overlay",
              "size": 10,
              "solidity": 0.2
             }
            },
            "type": "histogram"
           }
          ],
          "histogram2d": [
           {
            "colorbar": {
             "outlinewidth": 0,
             "ticks": ""
            },
            "colorscale": [
             [
              0,
              "#0d0887"
             ],
             [
              0.1111111111111111,
              "#46039f"
             ],
             [
              0.2222222222222222,
              "#7201a8"
             ],
             [
              0.3333333333333333,
              "#9c179e"
             ],
             [
              0.4444444444444444,
              "#bd3786"
             ],
             [
              0.5555555555555556,
              "#d8576b"
             ],
             [
              0.6666666666666666,
              "#ed7953"
             ],
             [
              0.7777777777777778,
              "#fb9f3a"
             ],
             [
              0.8888888888888888,
              "#fdca26"
             ],
             [
              1,
              "#f0f921"
             ]
            ],
            "type": "histogram2d"
           }
          ],
          "histogram2dcontour": [
           {
            "colorbar": {
             "outlinewidth": 0,
             "ticks": ""
            },
            "colorscale": [
             [
              0,
              "#0d0887"
             ],
             [
              0.1111111111111111,
              "#46039f"
             ],
             [
              0.2222222222222222,
              "#7201a8"
             ],
             [
              0.3333333333333333,
              "#9c179e"
             ],
             [
              0.4444444444444444,
              "#bd3786"
             ],
             [
              0.5555555555555556,
              "#d8576b"
             ],
             [
              0.6666666666666666,
              "#ed7953"
             ],
             [
              0.7777777777777778,
              "#fb9f3a"
             ],
             [
              0.8888888888888888,
              "#fdca26"
             ],
             [
              1,
              "#f0f921"
             ]
            ],
            "type": "histogram2dcontour"
           }
          ],
          "mesh3d": [
           {
            "colorbar": {
             "outlinewidth": 0,
             "ticks": ""
            },
            "type": "mesh3d"
           }
          ],
          "parcoords": [
           {
            "line": {
             "colorbar": {
              "outlinewidth": 0,
              "ticks": ""
             }
            },
            "type": "parcoords"
           }
          ],
          "pie": [
           {
            "automargin": true,
            "type": "pie"
           }
          ],
          "scatter": [
           {
            "fillpattern": {
             "fillmode": "overlay",
             "size": 10,
             "solidity": 0.2
            },
            "type": "scatter"
           }
          ],
          "scatter3d": [
           {
            "line": {
             "colorbar": {
              "outlinewidth": 0,
              "ticks": ""
             }
            },
            "marker": {
             "colorbar": {
              "outlinewidth": 0,
              "ticks": ""
             }
            },
            "type": "scatter3d"
           }
          ],
          "scattercarpet": [
           {
            "marker": {
             "colorbar": {
              "outlinewidth": 0,
              "ticks": ""
             }
            },
            "type": "scattercarpet"
           }
          ],
          "scattergeo": [
           {
            "marker": {
             "colorbar": {
              "outlinewidth": 0,
              "ticks": ""
             }
            },
            "type": "scattergeo"
           }
          ],
          "scattergl": [
           {
            "marker": {
             "colorbar": {
              "outlinewidth": 0,
              "ticks": ""
             }
            },
            "type": "scattergl"
           }
          ],
          "scattermapbox": [
           {
            "marker": {
             "colorbar": {
              "outlinewidth": 0,
              "ticks": ""
             }
            },
            "type": "scattermapbox"
           }
          ],
          "scatterpolar": [
           {
            "marker": {
             "colorbar": {
              "outlinewidth": 0,
              "ticks": ""
             }
            },
            "type": "scatterpolar"
           }
          ],
          "scatterpolargl": [
           {
            "marker": {
             "colorbar": {
              "outlinewidth": 0,
              "ticks": ""
             }
            },
            "type": "scatterpolargl"
           }
          ],
          "scatterternary": [
           {
            "marker": {
             "colorbar": {
              "outlinewidth": 0,
              "ticks": ""
             }
            },
            "type": "scatterternary"
           }
          ],
          "surface": [
           {
            "colorbar": {
             "outlinewidth": 0,
             "ticks": ""
            },
            "colorscale": [
             [
              0,
              "#0d0887"
             ],
             [
              0.1111111111111111,
              "#46039f"
             ],
             [
              0.2222222222222222,
              "#7201a8"
             ],
             [
              0.3333333333333333,
              "#9c179e"
             ],
             [
              0.4444444444444444,
              "#bd3786"
             ],
             [
              0.5555555555555556,
              "#d8576b"
             ],
             [
              0.6666666666666666,
              "#ed7953"
             ],
             [
              0.7777777777777778,
              "#fb9f3a"
             ],
             [
              0.8888888888888888,
              "#fdca26"
             ],
             [
              1,
              "#f0f921"
             ]
            ],
            "type": "surface"
           }
          ],
          "table": [
           {
            "cells": {
             "fill": {
              "color": "#EBF0F8"
             },
             "line": {
              "color": "white"
             }
            },
            "header": {
             "fill": {
              "color": "#C8D4E3"
             },
             "line": {
              "color": "white"
             }
            },
            "type": "table"
           }
          ]
         },
         "layout": {
          "annotationdefaults": {
           "arrowcolor": "#2a3f5f",
           "arrowhead": 0,
           "arrowwidth": 1
          },
          "autotypenumbers": "strict",
          "coloraxis": {
           "colorbar": {
            "outlinewidth": 0,
            "ticks": ""
           }
          },
          "colorscale": {
           "diverging": [
            [
             0,
             "#8e0152"
            ],
            [
             0.1,
             "#c51b7d"
            ],
            [
             0.2,
             "#de77ae"
            ],
            [
             0.3,
             "#f1b6da"
            ],
            [
             0.4,
             "#fde0ef"
            ],
            [
             0.5,
             "#f7f7f7"
            ],
            [
             0.6,
             "#e6f5d0"
            ],
            [
             0.7,
             "#b8e186"
            ],
            [
             0.8,
             "#7fbc41"
            ],
            [
             0.9,
             "#4d9221"
            ],
            [
             1,
             "#276419"
            ]
           ],
           "sequential": [
            [
             0,
             "#0d0887"
            ],
            [
             0.1111111111111111,
             "#46039f"
            ],
            [
             0.2222222222222222,
             "#7201a8"
            ],
            [
             0.3333333333333333,
             "#9c179e"
            ],
            [
             0.4444444444444444,
             "#bd3786"
            ],
            [
             0.5555555555555556,
             "#d8576b"
            ],
            [
             0.6666666666666666,
             "#ed7953"
            ],
            [
             0.7777777777777778,
             "#fb9f3a"
            ],
            [
             0.8888888888888888,
             "#fdca26"
            ],
            [
             1,
             "#f0f921"
            ]
           ],
           "sequentialminus": [
            [
             0,
             "#0d0887"
            ],
            [
             0.1111111111111111,
             "#46039f"
            ],
            [
             0.2222222222222222,
             "#7201a8"
            ],
            [
             0.3333333333333333,
             "#9c179e"
            ],
            [
             0.4444444444444444,
             "#bd3786"
            ],
            [
             0.5555555555555556,
             "#d8576b"
            ],
            [
             0.6666666666666666,
             "#ed7953"
            ],
            [
             0.7777777777777778,
             "#fb9f3a"
            ],
            [
             0.8888888888888888,
             "#fdca26"
            ],
            [
             1,
             "#f0f921"
            ]
           ]
          },
          "colorway": [
           "#636efa",
           "#EF553B",
           "#00cc96",
           "#ab63fa",
           "#FFA15A",
           "#19d3f3",
           "#FF6692",
           "#B6E880",
           "#FF97FF",
           "#FECB52"
          ],
          "font": {
           "color": "#2a3f5f"
          },
          "geo": {
           "bgcolor": "white",
           "lakecolor": "white",
           "landcolor": "white",
           "showlakes": true,
           "showland": true,
           "subunitcolor": "#C8D4E3"
          },
          "hoverlabel": {
           "align": "left"
          },
          "hovermode": "closest",
          "mapbox": {
           "style": "light"
          },
          "paper_bgcolor": "white",
          "plot_bgcolor": "white",
          "polar": {
           "angularaxis": {
            "gridcolor": "#EBF0F8",
            "linecolor": "#EBF0F8",
            "ticks": ""
           },
           "bgcolor": "white",
           "radialaxis": {
            "gridcolor": "#EBF0F8",
            "linecolor": "#EBF0F8",
            "ticks": ""
           }
          },
          "scene": {
           "xaxis": {
            "backgroundcolor": "white",
            "gridcolor": "#DFE8F3",
            "gridwidth": 2,
            "linecolor": "#EBF0F8",
            "showbackground": true,
            "ticks": "",
            "zerolinecolor": "#EBF0F8"
           },
           "yaxis": {
            "backgroundcolor": "white",
            "gridcolor": "#DFE8F3",
            "gridwidth": 2,
            "linecolor": "#EBF0F8",
            "showbackground": true,
            "ticks": "",
            "zerolinecolor": "#EBF0F8"
           },
           "zaxis": {
            "backgroundcolor": "white",
            "gridcolor": "#DFE8F3",
            "gridwidth": 2,
            "linecolor": "#EBF0F8",
            "showbackground": true,
            "ticks": "",
            "zerolinecolor": "#EBF0F8"
           }
          },
          "shapedefaults": {
           "line": {
            "color": "#2a3f5f"
           }
          },
          "ternary": {
           "aaxis": {
            "gridcolor": "#DFE8F3",
            "linecolor": "#A2B1C6",
            "ticks": ""
           },
           "baxis": {
            "gridcolor": "#DFE8F3",
            "linecolor": "#A2B1C6",
            "ticks": ""
           },
           "bgcolor": "white",
           "caxis": {
            "gridcolor": "#DFE8F3",
            "linecolor": "#A2B1C6",
            "ticks": ""
           }
          },
          "title": {
           "x": 0.05
          },
          "xaxis": {
           "automargin": true,
           "gridcolor": "#EBF0F8",
           "linecolor": "#EBF0F8",
           "ticks": "",
           "title": {
            "standoff": 15
           },
           "zerolinecolor": "#EBF0F8",
           "zerolinewidth": 2
          },
          "yaxis": {
           "automargin": true,
           "gridcolor": "#EBF0F8",
           "linecolor": "#EBF0F8",
           "ticks": "",
           "title": {
            "standoff": 15
           },
           "zerolinecolor": "#EBF0F8",
           "zerolinewidth": 2
          }
         }
        },
        "title": {
         "text": "Boxplot of annual net worth income of billionaires ($ YTD change) by industry"
        },
        "width": 1200,
        "xaxis": {
         "anchor": "y",
         "domain": [
          0,
          1
         ],
         "title": {
          "text": "YTD change (USD)"
         }
        },
        "yaxis": {
         "anchor": "x",
         "categoryarray": [
          "Media & Telecom",
          "Health Care",
          "Services",
          "Real Estate",
          "Commodities",
          "Entertainment",
          "Food & Beverage",
          "Finance",
          "Industrial",
          "Energy",
          "Retail",
          "Diversified",
          "Consumer",
          "Technology"
         ],
         "categoryorder": "array",
         "domain": [
          0,
          1
         ],
         "title": {
          "text": "Industry"
         }
        }
       }
      }
     },
     "metadata": {},
     "output_type": "display_data"
    }
   ],
   "source": [
    "fig = px.box(\n",
    "    df_ready,\n",
    "    x='$ YTD change',  # Wartości na osi poziomej\n",
    "    y='Industry',      # Branże na osi pionowej\n",
    "    color='Industry',  # Kolory boxów w zależności od branży\n",
    "    title='Boxplot of annual net worth income of billionaires ($ YTD change) by industry',\n",
    "    labels={\n",
    "        '$ YTD change': 'YTD change (USD)',\n",
    "        'Industry': 'Industry'\n",
    "    },\n",
    "    height=800,  # Większa wysokość dla czytelności\n",
    "    width=1200   # Większa szerokość dla wygody\n",
    ")\n",
    "\n",
    "for trace in fig.data:\n",
    "    if trace.name != 'Technology':  # Sprawdzamy, czy jest to branża technologiczna\n",
    "        trace.visible = 'legendonly'  # Ukrywamy inne branże\n",
    "\n",
    "# Dostosowanie wyglądu wykresu\n",
    "fig.update_layout(\n",
    "    boxmode='group',  # Grupowanie boxów\n",
    "    xaxis_title='YTD change (USD)',  # Tytuł osi X\n",
    "    yaxis_title='Industry',               # Tytuł osi Y\n",
    "    template='plotly_white'\n",
    ")\n",
    "\n",
    "# Wyświetlenie wykresu\n",
    "fig.show()"
   ]
  },
  {
   "cell_type": "markdown",
   "id": "bbeeb707-23fa-4962-9a1e-2040110e83e2",
   "metadata": {},
   "source": [
    "### Boxplot of last change net worth ($ Last change) for industries"
   ]
  },
  {
   "cell_type": "code",
   "execution_count": 26,
   "id": "81041765-2b81-47e6-a1fd-4d20bab1b7b3",
   "metadata": {},
   "outputs": [
    {
     "data": {
      "application/vnd.plotly.v1+json": {
       "config": {
        "plotlyServerURL": "https://plot.ly"
       },
       "data": [
        {
         "alignmentgroup": "True",
         "hovertemplate": "Industry=%{y}<br>Last change (USD)=%{x}<extra></extra>",
         "legendgroup": "Technology",
         "marker": {
          "color": "#636efa"
         },
         "name": "Technology",
         "notched": false,
         "offsetgroup": "Technology",
         "orientation": "h",
         "showlegend": true,
         "type": "box",
         "x": [
          62800000000,
          4650000000,
          4580000000,
          1630000000,
          7850000000,
          -131000000,
          7280000000,
          1780000000,
          3640000000,
          3060000000,
          -247000000,
          -103000000,
          0,
          726000000,
          1450000000,
          -377000000,
          -180000000,
          714000000,
          221000000,
          122000000,
          519000000,
          -391000000,
          -222000000,
          -216000000,
          424000000,
          1000000000,
          -87600000,
          -100000000,
          -159000000,
          39800000,
          -320000000,
          417000000,
          417000000,
          152000000,
          387000000,
          658000000,
          0,
          -25000000,
          456000000,
          -235000000,
          639000000,
          343000000,
          -50000000,
          -324000000,
          110000000,
          -113000000,
          -151000000,
          111000000,
          92200000,
          0,
          305000000,
          107000000,
          164000000,
          0,
          -266000000,
          43200000,
          -169000000,
          3540000,
          -131000000,
          76000000,
          -25000000,
          71500000,
          50700000,
          268000000,
          -124000000,
          159000000,
          -50000000,
          -25000000,
          75800000,
          -55300000,
          0,
          0,
          -27900000,
          10600000,
          -50000000,
          0,
          18600000,
          -128000000,
          78600000,
          203000000,
          19700000,
          -27000000,
          -27000000
         ],
         "x0": " ",
         "xaxis": "x",
         "y": [
          "Technology",
          "Technology",
          "Technology",
          "Technology",
          "Technology",
          "Technology",
          "Technology",
          "Technology",
          "Technology",
          "Technology",
          "Technology",
          "Technology",
          "Technology",
          "Technology",
          "Technology",
          "Technology",
          "Technology",
          "Technology",
          "Technology",
          "Technology",
          "Technology",
          "Technology",
          "Technology",
          "Technology",
          "Technology",
          "Technology",
          "Technology",
          "Technology",
          "Technology",
          "Technology",
          "Technology",
          "Technology",
          "Technology",
          "Technology",
          "Technology",
          "Technology",
          "Technology",
          "Technology",
          "Technology",
          "Technology",
          "Technology",
          "Technology",
          "Technology",
          "Technology",
          "Technology",
          "Technology",
          "Technology",
          "Technology",
          "Technology",
          "Technology",
          "Technology",
          "Technology",
          "Technology",
          "Technology",
          "Technology",
          "Technology",
          "Technology",
          "Technology",
          "Technology",
          "Technology",
          "Technology",
          "Technology",
          "Technology",
          "Technology",
          "Technology",
          "Technology",
          "Technology",
          "Technology",
          "Technology",
          "Technology",
          "Technology",
          "Technology",
          "Technology",
          "Technology",
          "Technology",
          "Technology",
          "Technology",
          "Technology",
          "Technology",
          "Technology",
          "Technology",
          "Technology",
          "Technology"
         ],
         "y0": " ",
         "yaxis": "y"
        },
        {
         "alignmentgroup": "True",
         "hovertemplate": "Industry=%{y}<br>Last change (USD)=%{x}<extra></extra>",
         "legendgroup": "Consumer",
         "marker": {
          "color": "#EF553B"
         },
         "name": "Consumer",
         "notched": false,
         "offsetgroup": "Consumer",
         "orientation": "h",
         "showlegend": true,
         "type": "box",
         "visible": "legendonly",
         "x": [
          1320000000,
          -998000000,
          -115000000,
          -140000000,
          568000000,
          300000000,
          -130000000,
          -162000000,
          -266000000,
          727000000,
          -15900000,
          -160000000,
          -31500000,
          9290000,
          -97100000,
          65599999.99999999,
          -50900000,
          -18200000,
          -59200000,
          65400000.00000001,
          680000000,
          3560000,
          0,
          0,
          -5290000,
          -99100000,
          -25000000,
          -18000000,
          8289999.999999999,
          -71500000,
          -83800000,
          -16200000,
          -16200000,
          438000000,
          -71500000,
          -87600000,
          -37300000,
          0,
          -66700000,
          -35900000,
          64500000,
          -6820000,
          79500000
         ],
         "x0": " ",
         "xaxis": "x",
         "y": [
          "Consumer",
          "Consumer",
          "Consumer",
          "Consumer",
          "Consumer",
          "Consumer",
          "Consumer",
          "Consumer",
          "Consumer",
          "Consumer",
          "Consumer",
          "Consumer",
          "Consumer",
          "Consumer",
          "Consumer",
          "Consumer",
          "Consumer",
          "Consumer",
          "Consumer",
          "Consumer",
          "Consumer",
          "Consumer",
          "Consumer",
          "Consumer",
          "Consumer",
          "Consumer",
          "Consumer",
          "Consumer",
          "Consumer",
          "Consumer",
          "Consumer",
          "Consumer",
          "Consumer",
          "Consumer",
          "Consumer",
          "Consumer",
          "Consumer",
          "Consumer",
          "Consumer",
          "Consumer",
          "Consumer",
          "Consumer",
          "Consumer"
         ],
         "y0": " ",
         "yaxis": "y"
        },
        {
         "alignmentgroup": "True",
         "hovertemplate": "Industry=%{y}<br>Last change (USD)=%{x}<extra></extra>",
         "legendgroup": "Diversified",
         "marker": {
          "color": "#00cc96"
         },
         "name": "Diversified",
         "notched": false,
         "offsetgroup": "Diversified",
         "orientation": "h",
         "showlegend": true,
         "type": "box",
         "visible": "legendonly",
         "x": [
          -555000000,
          172000000,
          542000000,
          122000000,
          -175000000,
          -11300000,
          75900000,
          72600000,
          -120000000,
          106000000,
          -105000000,
          -115000000,
          -44300000,
          -77400000,
          -142000000,
          326000,
          -24400000,
          16700000,
          -146000000,
          -52700000,
          -75000000,
          122000,
          122000,
          19500000,
          113000000,
          5040000,
          -54800000,
          -50000000,
          -38700000,
          127000000,
          240000000,
          0,
          41900000,
          -4050000,
          44900000,
          44900000,
          44900000,
          -29800000,
          96700000,
          -9860000,
          -150000000,
          -25000000,
          25100000,
          -45000000,
          -53800000,
          -25000000,
          -161000000,
          -76800000,
          -25000000,
          14000000,
          14200000,
          -25000000
         ],
         "x0": " ",
         "xaxis": "x",
         "y": [
          "Diversified",
          "Diversified",
          "Diversified",
          "Diversified",
          "Diversified",
          "Diversified",
          "Diversified",
          "Diversified",
          "Diversified",
          "Diversified",
          "Diversified",
          "Diversified",
          "Diversified",
          "Diversified",
          "Diversified",
          "Diversified",
          "Diversified",
          "Diversified",
          "Diversified",
          "Diversified",
          "Diversified",
          "Diversified",
          "Diversified",
          "Diversified",
          "Diversified",
          "Diversified",
          "Diversified",
          "Diversified",
          "Diversified",
          "Diversified",
          "Diversified",
          "Diversified",
          "Diversified",
          "Diversified",
          "Diversified",
          "Diversified",
          "Diversified",
          "Diversified",
          "Diversified",
          "Diversified",
          "Diversified",
          "Diversified",
          "Diversified",
          "Diversified",
          "Diversified",
          "Diversified",
          "Diversified",
          "Diversified",
          "Diversified",
          "Diversified",
          "Diversified",
          "Diversified"
         ],
         "y0": " ",
         "yaxis": "y"
        },
        {
         "alignmentgroup": "True",
         "hovertemplate": "Industry=%{y}<br>Last change (USD)=%{x}<extra></extra>",
         "legendgroup": "Retail",
         "marker": {
          "color": "#ab63fa"
         },
         "name": "Retail",
         "notched": false,
         "offsetgroup": "Retail",
         "orientation": "h",
         "showlegend": true,
         "type": "box",
         "visible": "legendonly",
         "x": [
          225000000,
          243000000,
          253000000,
          -7410000000,
          -36500000,
          46900000,
          -109000000,
          -89200000,
          0,
          -59600000,
          36000000,
          -319000000,
          -493000000,
          158000000,
          0,
          -46500000,
          -46500000,
          49100000,
          -75000000,
          -646000000,
          49100000,
          18400000,
          0,
          63200000,
          -5670000,
          46000000,
          10200000,
          45200000,
          -43700000,
          -110000000,
          -27600000,
          0,
          0,
          0,
          0
         ],
         "x0": " ",
         "xaxis": "x",
         "y": [
          "Retail",
          "Retail",
          "Retail",
          "Retail",
          "Retail",
          "Retail",
          "Retail",
          "Retail",
          "Retail",
          "Retail",
          "Retail",
          "Retail",
          "Retail",
          "Retail",
          "Retail",
          "Retail",
          "Retail",
          "Retail",
          "Retail",
          "Retail",
          "Retail",
          "Retail",
          "Retail",
          "Retail",
          "Retail",
          "Retail",
          "Retail",
          "Retail",
          "Retail",
          "Retail",
          "Retail",
          "Retail",
          "Retail",
          "Retail",
          "Retail"
         ],
         "y0": " ",
         "yaxis": "y"
        },
        {
         "alignmentgroup": "True",
         "hovertemplate": "Industry=%{y}<br>Last change (USD)=%{x}<extra></extra>",
         "legendgroup": "Energy",
         "marker": {
          "color": "#FFA15A"
         },
         "name": "Energy",
         "notched": false,
         "offsetgroup": "Energy",
         "orientation": "h",
         "showlegend": true,
         "type": "box",
         "visible": "legendonly",
         "x": [
          -182000000,
          818000000,
          -39600000,
          -50000000,
          -171000000,
          -145000000,
          76300000,
          -6350000,
          -310000000,
          346000000,
          -34600000,
          344000000,
          -25900000,
          -16300000,
          8530000,
          8530000,
          8530000,
          -25000000,
          -222000000,
          -31400000,
          4560000,
          -30300000,
          -139000000,
          133000000,
          -12100000,
          355000000,
          -46400000,
          -151000000,
          -46200000
         ],
         "x0": " ",
         "xaxis": "x",
         "y": [
          "Energy",
          "Energy",
          "Energy",
          "Energy",
          "Energy",
          "Energy",
          "Energy",
          "Energy",
          "Energy",
          "Energy",
          "Energy",
          "Energy",
          "Energy",
          "Energy",
          "Energy",
          "Energy",
          "Energy",
          "Energy",
          "Energy",
          "Energy",
          "Energy",
          "Energy",
          "Energy",
          "Energy",
          "Energy",
          "Energy",
          "Energy",
          "Energy",
          "Energy"
         ],
         "y0": " ",
         "yaxis": "y"
        },
        {
         "alignmentgroup": "True",
         "hovertemplate": "Industry=%{y}<br>Last change (USD)=%{x}<extra></extra>",
         "legendgroup": "Industrial",
         "marker": {
          "color": "#19d3f3"
         },
         "name": "Industrial",
         "notched": false,
         "offsetgroup": "Industrial",
         "orientation": "h",
         "showlegend": true,
         "type": "box",
         "visible": "legendonly",
         "x": [
          -843000000,
          91500000,
          101000000,
          8530000,
          -500000000,
          -556000000,
          -113000000,
          68500000,
          36100000,
          -396000000,
          -324000000,
          -56500000,
          13400000,
          -316000000,
          31400000,
          40600000,
          -256000000,
          239000000,
          -180000000,
          65400000.00000001,
          -49300000,
          -41100000,
          -44500000,
          31100000,
          -44600000,
          107000000,
          -215000000,
          -150000000,
          85300000,
          -120000000,
          -132000000,
          -11400000,
          -164000000,
          -36800000,
          -51800000,
          -31500000,
          -17000000,
          22500000,
          -12200000,
          -25000000,
          24700000,
          -56000000,
          23400000,
          -12200000,
          -314000000,
          -218000000,
          123000000,
          -10100000,
          -150000000,
          -28300000,
          73600000,
          32700000.000000004,
          45200000,
          -93200000,
          -17800000,
          0
         ],
         "x0": " ",
         "xaxis": "x",
         "y": [
          "Industrial",
          "Industrial",
          "Industrial",
          "Industrial",
          "Industrial",
          "Industrial",
          "Industrial",
          "Industrial",
          "Industrial",
          "Industrial",
          "Industrial",
          "Industrial",
          "Industrial",
          "Industrial",
          "Industrial",
          "Industrial",
          "Industrial",
          "Industrial",
          "Industrial",
          "Industrial",
          "Industrial",
          "Industrial",
          "Industrial",
          "Industrial",
          "Industrial",
          "Industrial",
          "Industrial",
          "Industrial",
          "Industrial",
          "Industrial",
          "Industrial",
          "Industrial",
          "Industrial",
          "Industrial",
          "Industrial",
          "Industrial",
          "Industrial",
          "Industrial",
          "Industrial",
          "Industrial",
          "Industrial",
          "Industrial",
          "Industrial",
          "Industrial",
          "Industrial",
          "Industrial",
          "Industrial",
          "Industrial",
          "Industrial",
          "Industrial",
          "Industrial",
          "Industrial",
          "Industrial",
          "Industrial",
          "Industrial",
          "Industrial"
         ],
         "y0": " ",
         "yaxis": "y"
        },
        {
         "alignmentgroup": "True",
         "hovertemplate": "Industry=%{y}<br>Last change (USD)=%{x}<extra></extra>",
         "legendgroup": "Finance",
         "marker": {
          "color": "#FF6692"
         },
         "name": "Finance",
         "notched": false,
         "offsetgroup": "Finance",
         "orientation": "h",
         "showlegend": true,
         "type": "box",
         "visible": "legendonly",
         "x": [
          3700000000,
          694000000,
          1380000000,
          -41600000,
          59700000,
          256000000,
          -25000000,
          77200000,
          447000000,
          380000000,
          0,
          111000000,
          104000000,
          -25000000,
          4050000,
          -42100000,
          -16100000.000000002,
          25500000,
          20600000,
          17600000,
          -188000000,
          8670000,
          134000000,
          347000000,
          221000000,
          484000000,
          -77800000,
          109000000,
          251000000,
          0,
          -42600000,
          0,
          -2400000,
          94600000,
          -23800000,
          21800000,
          58800000,
          0,
          39600000,
          399000000,
          0,
          26500000,
          52800000,
          -255000000,
          16300000,
          0,
          20000000,
          183000000,
          -50000000,
          -4140000,
          0,
          50600000,
          -67300000,
          156000000,
          -40800000,
          65800000,
          94900000,
          86000000,
          104000000,
          70900000,
          96900000,
          -24800000,
          0
         ],
         "x0": " ",
         "xaxis": "x",
         "y": [
          "Finance",
          "Finance",
          "Finance",
          "Finance",
          "Finance",
          "Finance",
          "Finance",
          "Finance",
          "Finance",
          "Finance",
          "Finance",
          "Finance",
          "Finance",
          "Finance",
          "Finance",
          "Finance",
          "Finance",
          "Finance",
          "Finance",
          "Finance",
          "Finance",
          "Finance",
          "Finance",
          "Finance",
          "Finance",
          "Finance",
          "Finance",
          "Finance",
          "Finance",
          "Finance",
          "Finance",
          "Finance",
          "Finance",
          "Finance",
          "Finance",
          "Finance",
          "Finance",
          "Finance",
          "Finance",
          "Finance",
          "Finance",
          "Finance",
          "Finance",
          "Finance",
          "Finance",
          "Finance",
          "Finance",
          "Finance",
          "Finance",
          "Finance",
          "Finance",
          "Finance",
          "Finance",
          "Finance",
          "Finance",
          "Finance",
          "Finance",
          "Finance",
          "Finance",
          "Finance",
          "Finance",
          "Finance",
          "Finance"
         ],
         "y0": " ",
         "yaxis": "y"
        },
        {
         "alignmentgroup": "True",
         "hovertemplate": "Industry=%{y}<br>Last change (USD)=%{x}<extra></extra>",
         "legendgroup": "Food & Beverage",
         "marker": {
          "color": "#B6E880"
         },
         "name": "Food & Beverage",
         "notched": false,
         "offsetgroup": "Food & Beverage",
         "orientation": "h",
         "showlegend": true,
         "type": "box",
         "visible": "legendonly",
         "x": [
          -554000000,
          -554000000,
          -429000000,
          24100000,
          -126000000,
          258000000,
          -99800000,
          54500000,
          -128000000,
          97600000,
          -138000000,
          -138000000,
          -138000000,
          -138000000,
          -38100000,
          -2220000,
          0,
          -24200000,
          -24200000,
          100000000,
          0,
          23700000,
          11900000,
          0,
          1560000,
          40400000
         ],
         "x0": " ",
         "xaxis": "x",
         "y": [
          "Food & Beverage",
          "Food & Beverage",
          "Food & Beverage",
          "Food & Beverage",
          "Food & Beverage",
          "Food & Beverage",
          "Food & Beverage",
          "Food & Beverage",
          "Food & Beverage",
          "Food & Beverage",
          "Food & Beverage",
          "Food & Beverage",
          "Food & Beverage",
          "Food & Beverage",
          "Food & Beverage",
          "Food & Beverage",
          "Food & Beverage",
          "Food & Beverage",
          "Food & Beverage",
          "Food & Beverage",
          "Food & Beverage",
          "Food & Beverage",
          "Food & Beverage",
          "Food & Beverage",
          "Food & Beverage",
          "Food & Beverage"
         ],
         "y0": " ",
         "yaxis": "y"
        },
        {
         "alignmentgroup": "True",
         "hovertemplate": "Industry=%{y}<br>Last change (USD)=%{x}<extra></extra>",
         "legendgroup": "Entertainment",
         "marker": {
          "color": "#FF97FF"
         },
         "name": "Entertainment",
         "notched": false,
         "offsetgroup": "Entertainment",
         "orientation": "h",
         "showlegend": true,
         "type": "box",
         "visible": "legendonly",
         "x": [
          -241000000,
          300000000,
          89700000,
          -8180000,
          -50000000,
          0,
          0,
          -29400000,
          -50000000,
          0,
          127000000,
          -50000000
         ],
         "x0": " ",
         "xaxis": "x",
         "y": [
          "Entertainment",
          "Entertainment",
          "Entertainment",
          "Entertainment",
          "Entertainment",
          "Entertainment",
          "Entertainment",
          "Entertainment",
          "Entertainment",
          "Entertainment",
          "Entertainment",
          "Entertainment"
         ],
         "y0": " ",
         "yaxis": "y"
        },
        {
         "alignmentgroup": "True",
         "hovertemplate": "Industry=%{y}<br>Last change (USD)=%{x}<extra></extra>",
         "legendgroup": "Commodities",
         "marker": {
          "color": "#FECB52"
         },
         "name": "Commodities",
         "notched": false,
         "offsetgroup": "Commodities",
         "orientation": "h",
         "showlegend": true,
         "type": "box",
         "visible": "legendonly",
         "x": [
          161000000,
          -132000000,
          -205000000,
          206000000,
          -341000000,
          -113000000,
          -33900000,
          -381000000,
          -50400000,
          -350000000,
          -51200000,
          50100000,
          -77700000,
          31600000,
          -25000000,
          -25000000,
          43600000
         ],
         "x0": " ",
         "xaxis": "x",
         "y": [
          "Commodities",
          "Commodities",
          "Commodities",
          "Commodities",
          "Commodities",
          "Commodities",
          "Commodities",
          "Commodities",
          "Commodities",
          "Commodities",
          "Commodities",
          "Commodities",
          "Commodities",
          "Commodities",
          "Commodities",
          "Commodities",
          "Commodities"
         ],
         "y0": " ",
         "yaxis": "y"
        },
        {
         "alignmentgroup": "True",
         "hovertemplate": "Industry=%{y}<br>Last change (USD)=%{x}<extra></extra>",
         "legendgroup": "Real Estate",
         "marker": {
          "color": "#636efa"
         },
         "name": "Real Estate",
         "notched": false,
         "offsetgroup": "Real Estate",
         "orientation": "h",
         "showlegend": true,
         "type": "box",
         "visible": "legendonly",
         "x": [
          -28900000,
          244000000,
          -319000000,
          0,
          160000000,
          0,
          0,
          -62000000,
          0,
          0,
          80500000,
          -168000000,
          -184000000,
          0,
          -75000000,
          -25000000,
          14600000,
          0,
          0,
          -105000000,
          238000000,
          14500000
         ],
         "x0": " ",
         "xaxis": "x",
         "y": [
          "Real Estate",
          "Real Estate",
          "Real Estate",
          "Real Estate",
          "Real Estate",
          "Real Estate",
          "Real Estate",
          "Real Estate",
          "Real Estate",
          "Real Estate",
          "Real Estate",
          "Real Estate",
          "Real Estate",
          "Real Estate",
          "Real Estate",
          "Real Estate",
          "Real Estate",
          "Real Estate",
          "Real Estate",
          "Real Estate",
          "Real Estate",
          "Real Estate"
         ],
         "y0": " ",
         "yaxis": "y"
        },
        {
         "alignmentgroup": "True",
         "hovertemplate": "Industry=%{y}<br>Last change (USD)=%{x}<extra></extra>",
         "legendgroup": "Services",
         "marker": {
          "color": "#EF553B"
         },
         "name": "Services",
         "notched": false,
         "offsetgroup": "Services",
         "orientation": "h",
         "showlegend": true,
         "type": "box",
         "visible": "legendonly",
         "x": [
          -25000000,
          44300000,
          0,
          28500000,
          41400000,
          330000000,
          -105000000,
          -101000000,
          -359000000,
          33800000,
          -805000,
          -12600000,
          68300000
         ],
         "x0": " ",
         "xaxis": "x",
         "y": [
          "Services",
          "Services",
          "Services",
          "Services",
          "Services",
          "Services",
          "Services",
          "Services",
          "Services",
          "Services",
          "Services",
          "Services",
          "Services"
         ],
         "y0": " ",
         "yaxis": "y"
        },
        {
         "alignmentgroup": "True",
         "hovertemplate": "Industry=%{y}<br>Last change (USD)=%{x}<extra></extra>",
         "legendgroup": "Health Care",
         "marker": {
          "color": "#00cc96"
         },
         "name": "Health Care",
         "notched": false,
         "offsetgroup": "Health Care",
         "orientation": "h",
         "showlegend": true,
         "type": "box",
         "visible": "legendonly",
         "x": [
          -140000000,
          57700000,
          31300000,
          100000000,
          75100000,
          -78300000,
          442000000,
          -21900000,
          142000000,
          -88500000,
          58700000,
          -37600000,
          -843000000,
          -145000000,
          -6730000,
          108000000,
          -28600000,
          -308000000,
          -96400000,
          104000000,
          104000000,
          -31700000,
          29800000,
          6100000,
          -26000000,
          10100000,
          -42600000,
          -41000000,
          42400000,
          122000000
         ],
         "x0": " ",
         "xaxis": "x",
         "y": [
          "Health Care",
          "Health Care",
          "Health Care",
          "Health Care",
          "Health Care",
          "Health Care",
          "Health Care",
          "Health Care",
          "Health Care",
          "Health Care",
          "Health Care",
          "Health Care",
          "Health Care",
          "Health Care",
          "Health Care",
          "Health Care",
          "Health Care",
          "Health Care",
          "Health Care",
          "Health Care",
          "Health Care",
          "Health Care",
          "Health Care",
          "Health Care",
          "Health Care",
          "Health Care",
          "Health Care",
          "Health Care",
          "Health Care",
          "Health Care"
         ],
         "y0": " ",
         "yaxis": "y"
        },
        {
         "alignmentgroup": "True",
         "hovertemplate": "Industry=%{y}<br>Last change (USD)=%{x}<extra></extra>",
         "legendgroup": "Media & Telecom",
         "marker": {
          "color": "#ab63fa"
         },
         "name": "Media & Telecom",
         "notched": false,
         "offsetgroup": "Media & Telecom",
         "orientation": "h",
         "showlegend": true,
         "type": "box",
         "visible": "legendonly",
         "x": [
          104000000,
          -160000000,
          145000000,
          -92100000,
          -92100000,
          -93200000,
          -52300000,
          -46500000,
          -78700000,
          -78700000,
          659000,
          -8250000,
          -8250000,
          36400000,
          -13400000,
          -9580000,
          59200000,
          18300000,
          -201000
         ],
         "x0": " ",
         "xaxis": "x",
         "y": [
          "Media & Telecom",
          "Media & Telecom",
          "Media & Telecom",
          "Media & Telecom",
          "Media & Telecom",
          "Media & Telecom",
          "Media & Telecom",
          "Media & Telecom",
          "Media & Telecom",
          "Media & Telecom",
          "Media & Telecom",
          "Media & Telecom",
          "Media & Telecom",
          "Media & Telecom",
          "Media & Telecom",
          "Media & Telecom",
          "Media & Telecom",
          "Media & Telecom",
          "Media & Telecom"
         ],
         "y0": " ",
         "yaxis": "y"
        }
       ],
       "layout": {
        "boxmode": "group",
        "height": 800,
        "legend": {
         "title": {
          "text": "Industry"
         },
         "tracegroupgap": 0
        },
        "template": {
         "data": {
          "bar": [
           {
            "error_x": {
             "color": "#2a3f5f"
            },
            "error_y": {
             "color": "#2a3f5f"
            },
            "marker": {
             "line": {
              "color": "white",
              "width": 0.5
             },
             "pattern": {
              "fillmode": "overlay",
              "size": 10,
              "solidity": 0.2
             }
            },
            "type": "bar"
           }
          ],
          "barpolar": [
           {
            "marker": {
             "line": {
              "color": "white",
              "width": 0.5
             },
             "pattern": {
              "fillmode": "overlay",
              "size": 10,
              "solidity": 0.2
             }
            },
            "type": "barpolar"
           }
          ],
          "carpet": [
           {
            "aaxis": {
             "endlinecolor": "#2a3f5f",
             "gridcolor": "#C8D4E3",
             "linecolor": "#C8D4E3",
             "minorgridcolor": "#C8D4E3",
             "startlinecolor": "#2a3f5f"
            },
            "baxis": {
             "endlinecolor": "#2a3f5f",
             "gridcolor": "#C8D4E3",
             "linecolor": "#C8D4E3",
             "minorgridcolor": "#C8D4E3",
             "startlinecolor": "#2a3f5f"
            },
            "type": "carpet"
           }
          ],
          "choropleth": [
           {
            "colorbar": {
             "outlinewidth": 0,
             "ticks": ""
            },
            "type": "choropleth"
           }
          ],
          "contour": [
           {
            "colorbar": {
             "outlinewidth": 0,
             "ticks": ""
            },
            "colorscale": [
             [
              0,
              "#0d0887"
             ],
             [
              0.1111111111111111,
              "#46039f"
             ],
             [
              0.2222222222222222,
              "#7201a8"
             ],
             [
              0.3333333333333333,
              "#9c179e"
             ],
             [
              0.4444444444444444,
              "#bd3786"
             ],
             [
              0.5555555555555556,
              "#d8576b"
             ],
             [
              0.6666666666666666,
              "#ed7953"
             ],
             [
              0.7777777777777778,
              "#fb9f3a"
             ],
             [
              0.8888888888888888,
              "#fdca26"
             ],
             [
              1,
              "#f0f921"
             ]
            ],
            "type": "contour"
           }
          ],
          "contourcarpet": [
           {
            "colorbar": {
             "outlinewidth": 0,
             "ticks": ""
            },
            "type": "contourcarpet"
           }
          ],
          "heatmap": [
           {
            "colorbar": {
             "outlinewidth": 0,
             "ticks": ""
            },
            "colorscale": [
             [
              0,
              "#0d0887"
             ],
             [
              0.1111111111111111,
              "#46039f"
             ],
             [
              0.2222222222222222,
              "#7201a8"
             ],
             [
              0.3333333333333333,
              "#9c179e"
             ],
             [
              0.4444444444444444,
              "#bd3786"
             ],
             [
              0.5555555555555556,
              "#d8576b"
             ],
             [
              0.6666666666666666,
              "#ed7953"
             ],
             [
              0.7777777777777778,
              "#fb9f3a"
             ],
             [
              0.8888888888888888,
              "#fdca26"
             ],
             [
              1,
              "#f0f921"
             ]
            ],
            "type": "heatmap"
           }
          ],
          "heatmapgl": [
           {
            "colorbar": {
             "outlinewidth": 0,
             "ticks": ""
            },
            "colorscale": [
             [
              0,
              "#0d0887"
             ],
             [
              0.1111111111111111,
              "#46039f"
             ],
             [
              0.2222222222222222,
              "#7201a8"
             ],
             [
              0.3333333333333333,
              "#9c179e"
             ],
             [
              0.4444444444444444,
              "#bd3786"
             ],
             [
              0.5555555555555556,
              "#d8576b"
             ],
             [
              0.6666666666666666,
              "#ed7953"
             ],
             [
              0.7777777777777778,
              "#fb9f3a"
             ],
             [
              0.8888888888888888,
              "#fdca26"
             ],
             [
              1,
              "#f0f921"
             ]
            ],
            "type": "heatmapgl"
           }
          ],
          "histogram": [
           {
            "marker": {
             "pattern": {
              "fillmode": "overlay",
              "size": 10,
              "solidity": 0.2
             }
            },
            "type": "histogram"
           }
          ],
          "histogram2d": [
           {
            "colorbar": {
             "outlinewidth": 0,
             "ticks": ""
            },
            "colorscale": [
             [
              0,
              "#0d0887"
             ],
             [
              0.1111111111111111,
              "#46039f"
             ],
             [
              0.2222222222222222,
              "#7201a8"
             ],
             [
              0.3333333333333333,
              "#9c179e"
             ],
             [
              0.4444444444444444,
              "#bd3786"
             ],
             [
              0.5555555555555556,
              "#d8576b"
             ],
             [
              0.6666666666666666,
              "#ed7953"
             ],
             [
              0.7777777777777778,
              "#fb9f3a"
             ],
             [
              0.8888888888888888,
              "#fdca26"
             ],
             [
              1,
              "#f0f921"
             ]
            ],
            "type": "histogram2d"
           }
          ],
          "histogram2dcontour": [
           {
            "colorbar": {
             "outlinewidth": 0,
             "ticks": ""
            },
            "colorscale": [
             [
              0,
              "#0d0887"
             ],
             [
              0.1111111111111111,
              "#46039f"
             ],
             [
              0.2222222222222222,
              "#7201a8"
             ],
             [
              0.3333333333333333,
              "#9c179e"
             ],
             [
              0.4444444444444444,
              "#bd3786"
             ],
             [
              0.5555555555555556,
              "#d8576b"
             ],
             [
              0.6666666666666666,
              "#ed7953"
             ],
             [
              0.7777777777777778,
              "#fb9f3a"
             ],
             [
              0.8888888888888888,
              "#fdca26"
             ],
             [
              1,
              "#f0f921"
             ]
            ],
            "type": "histogram2dcontour"
           }
          ],
          "mesh3d": [
           {
            "colorbar": {
             "outlinewidth": 0,
             "ticks": ""
            },
            "type": "mesh3d"
           }
          ],
          "parcoords": [
           {
            "line": {
             "colorbar": {
              "outlinewidth": 0,
              "ticks": ""
             }
            },
            "type": "parcoords"
           }
          ],
          "pie": [
           {
            "automargin": true,
            "type": "pie"
           }
          ],
          "scatter": [
           {
            "fillpattern": {
             "fillmode": "overlay",
             "size": 10,
             "solidity": 0.2
            },
            "type": "scatter"
           }
          ],
          "scatter3d": [
           {
            "line": {
             "colorbar": {
              "outlinewidth": 0,
              "ticks": ""
             }
            },
            "marker": {
             "colorbar": {
              "outlinewidth": 0,
              "ticks": ""
             }
            },
            "type": "scatter3d"
           }
          ],
          "scattercarpet": [
           {
            "marker": {
             "colorbar": {
              "outlinewidth": 0,
              "ticks": ""
             }
            },
            "type": "scattercarpet"
           }
          ],
          "scattergeo": [
           {
            "marker": {
             "colorbar": {
              "outlinewidth": 0,
              "ticks": ""
             }
            },
            "type": "scattergeo"
           }
          ],
          "scattergl": [
           {
            "marker": {
             "colorbar": {
              "outlinewidth": 0,
              "ticks": ""
             }
            },
            "type": "scattergl"
           }
          ],
          "scattermapbox": [
           {
            "marker": {
             "colorbar": {
              "outlinewidth": 0,
              "ticks": ""
             }
            },
            "type": "scattermapbox"
           }
          ],
          "scatterpolar": [
           {
            "marker": {
             "colorbar": {
              "outlinewidth": 0,
              "ticks": ""
             }
            },
            "type": "scatterpolar"
           }
          ],
          "scatterpolargl": [
           {
            "marker": {
             "colorbar": {
              "outlinewidth": 0,
              "ticks": ""
             }
            },
            "type": "scatterpolargl"
           }
          ],
          "scatterternary": [
           {
            "marker": {
             "colorbar": {
              "outlinewidth": 0,
              "ticks": ""
             }
            },
            "type": "scatterternary"
           }
          ],
          "surface": [
           {
            "colorbar": {
             "outlinewidth": 0,
             "ticks": ""
            },
            "colorscale": [
             [
              0,
              "#0d0887"
             ],
             [
              0.1111111111111111,
              "#46039f"
             ],
             [
              0.2222222222222222,
              "#7201a8"
             ],
             [
              0.3333333333333333,
              "#9c179e"
             ],
             [
              0.4444444444444444,
              "#bd3786"
             ],
             [
              0.5555555555555556,
              "#d8576b"
             ],
             [
              0.6666666666666666,
              "#ed7953"
             ],
             [
              0.7777777777777778,
              "#fb9f3a"
             ],
             [
              0.8888888888888888,
              "#fdca26"
             ],
             [
              1,
              "#f0f921"
             ]
            ],
            "type": "surface"
           }
          ],
          "table": [
           {
            "cells": {
             "fill": {
              "color": "#EBF0F8"
             },
             "line": {
              "color": "white"
             }
            },
            "header": {
             "fill": {
              "color": "#C8D4E3"
             },
             "line": {
              "color": "white"
             }
            },
            "type": "table"
           }
          ]
         },
         "layout": {
          "annotationdefaults": {
           "arrowcolor": "#2a3f5f",
           "arrowhead": 0,
           "arrowwidth": 1
          },
          "autotypenumbers": "strict",
          "coloraxis": {
           "colorbar": {
            "outlinewidth": 0,
            "ticks": ""
           }
          },
          "colorscale": {
           "diverging": [
            [
             0,
             "#8e0152"
            ],
            [
             0.1,
             "#c51b7d"
            ],
            [
             0.2,
             "#de77ae"
            ],
            [
             0.3,
             "#f1b6da"
            ],
            [
             0.4,
             "#fde0ef"
            ],
            [
             0.5,
             "#f7f7f7"
            ],
            [
             0.6,
             "#e6f5d0"
            ],
            [
             0.7,
             "#b8e186"
            ],
            [
             0.8,
             "#7fbc41"
            ],
            [
             0.9,
             "#4d9221"
            ],
            [
             1,
             "#276419"
            ]
           ],
           "sequential": [
            [
             0,
             "#0d0887"
            ],
            [
             0.1111111111111111,
             "#46039f"
            ],
            [
             0.2222222222222222,
             "#7201a8"
            ],
            [
             0.3333333333333333,
             "#9c179e"
            ],
            [
             0.4444444444444444,
             "#bd3786"
            ],
            [
             0.5555555555555556,
             "#d8576b"
            ],
            [
             0.6666666666666666,
             "#ed7953"
            ],
            [
             0.7777777777777778,
             "#fb9f3a"
            ],
            [
             0.8888888888888888,
             "#fdca26"
            ],
            [
             1,
             "#f0f921"
            ]
           ],
           "sequentialminus": [
            [
             0,
             "#0d0887"
            ],
            [
             0.1111111111111111,
             "#46039f"
            ],
            [
             0.2222222222222222,
             "#7201a8"
            ],
            [
             0.3333333333333333,
             "#9c179e"
            ],
            [
             0.4444444444444444,
             "#bd3786"
            ],
            [
             0.5555555555555556,
             "#d8576b"
            ],
            [
             0.6666666666666666,
             "#ed7953"
            ],
            [
             0.7777777777777778,
             "#fb9f3a"
            ],
            [
             0.8888888888888888,
             "#fdca26"
            ],
            [
             1,
             "#f0f921"
            ]
           ]
          },
          "colorway": [
           "#636efa",
           "#EF553B",
           "#00cc96",
           "#ab63fa",
           "#FFA15A",
           "#19d3f3",
           "#FF6692",
           "#B6E880",
           "#FF97FF",
           "#FECB52"
          ],
          "font": {
           "color": "#2a3f5f"
          },
          "geo": {
           "bgcolor": "white",
           "lakecolor": "white",
           "landcolor": "white",
           "showlakes": true,
           "showland": true,
           "subunitcolor": "#C8D4E3"
          },
          "hoverlabel": {
           "align": "left"
          },
          "hovermode": "closest",
          "mapbox": {
           "style": "light"
          },
          "paper_bgcolor": "white",
          "plot_bgcolor": "white",
          "polar": {
           "angularaxis": {
            "gridcolor": "#EBF0F8",
            "linecolor": "#EBF0F8",
            "ticks": ""
           },
           "bgcolor": "white",
           "radialaxis": {
            "gridcolor": "#EBF0F8",
            "linecolor": "#EBF0F8",
            "ticks": ""
           }
          },
          "scene": {
           "xaxis": {
            "backgroundcolor": "white",
            "gridcolor": "#DFE8F3",
            "gridwidth": 2,
            "linecolor": "#EBF0F8",
            "showbackground": true,
            "ticks": "",
            "zerolinecolor": "#EBF0F8"
           },
           "yaxis": {
            "backgroundcolor": "white",
            "gridcolor": "#DFE8F3",
            "gridwidth": 2,
            "linecolor": "#EBF0F8",
            "showbackground": true,
            "ticks": "",
            "zerolinecolor": "#EBF0F8"
           },
           "zaxis": {
            "backgroundcolor": "white",
            "gridcolor": "#DFE8F3",
            "gridwidth": 2,
            "linecolor": "#EBF0F8",
            "showbackground": true,
            "ticks": "",
            "zerolinecolor": "#EBF0F8"
           }
          },
          "shapedefaults": {
           "line": {
            "color": "#2a3f5f"
           }
          },
          "ternary": {
           "aaxis": {
            "gridcolor": "#DFE8F3",
            "linecolor": "#A2B1C6",
            "ticks": ""
           },
           "baxis": {
            "gridcolor": "#DFE8F3",
            "linecolor": "#A2B1C6",
            "ticks": ""
           },
           "bgcolor": "white",
           "caxis": {
            "gridcolor": "#DFE8F3",
            "linecolor": "#A2B1C6",
            "ticks": ""
           }
          },
          "title": {
           "x": 0.05
          },
          "xaxis": {
           "automargin": true,
           "gridcolor": "#EBF0F8",
           "linecolor": "#EBF0F8",
           "ticks": "",
           "title": {
            "standoff": 15
           },
           "zerolinecolor": "#EBF0F8",
           "zerolinewidth": 2
          },
          "yaxis": {
           "automargin": true,
           "gridcolor": "#EBF0F8",
           "linecolor": "#EBF0F8",
           "ticks": "",
           "title": {
            "standoff": 15
           },
           "zerolinecolor": "#EBF0F8",
           "zerolinewidth": 2
          }
         }
        },
        "title": {
         "text": "Boxplot of last change net worth ($ Last change) for industries"
        },
        "width": 1100,
        "xaxis": {
         "anchor": "y",
         "domain": [
          0,
          1
         ],
         "title": {
          "text": "Last change (USD)"
         }
        },
        "yaxis": {
         "anchor": "x",
         "categoryarray": [
          "Media & Telecom",
          "Health Care",
          "Services",
          "Real Estate",
          "Commodities",
          "Entertainment",
          "Food & Beverage",
          "Finance",
          "Industrial",
          "Energy",
          "Retail",
          "Diversified",
          "Consumer",
          "Technology"
         ],
         "categoryorder": "array",
         "domain": [
          0,
          1
         ],
         "title": {
          "text": "Industry"
         }
        }
       }
      }
     },
     "metadata": {},
     "output_type": "display_data"
    }
   ],
   "source": [
    "fig = px.box(\n",
    "    df_ready,\n",
    "    x='$ Last change',  # Wartości na osi poziomej\n",
    "    y='Industry',      # Branże na osi pionowej\n",
    "    color='Industry',  # Kolory boxów w zależności od branży\n",
    "    title='Boxplot of last change net worth ($ Last change) for industries',\n",
    "    labels={\n",
    "        '$ Last change': 'Last change (USD)',\n",
    "        'Industry': 'Industry'\n",
    "    },\n",
    "    height=800,  # Większa wysokość dla czytelności\n",
    "    width=1100   # Większa szerokość dla wygody\n",
    ")\n",
    "\n",
    "for trace in fig.data:\n",
    "    if trace.name != 'Technology':  # Sprawdzamy, czy jest to branża technologiczna\n",
    "        trace.visible = 'legendonly'  # Ukrywamy inne branże\n",
    "\n",
    "# Dostosowanie wyglądu wykresu\n",
    "fig.update_layout(\n",
    "    boxmode='group',  # Grupowanie boxów\n",
    "    xaxis_title='Last change (USD)',  # Tytuł osi X\n",
    "    yaxis_title='Industry',               # Tytuł osi Y\n",
    "    template='plotly_white'\n",
    ")\n",
    "\n",
    "# Wyświetlenie wykresu\n",
    "fig.show()"
   ]
  },
  {
   "cell_type": "code",
   "execution_count": 27,
   "id": "052a9ff5-abb1-4c00-ab78-6a9e6f32076f",
   "metadata": {},
   "outputs": [],
   "source": [
    "df_outliners = df_ready.drop(columns = ['Name', 'Rank', 'Country / Region', 'Industry'])"
   ]
  },
  {
   "cell_type": "code",
   "execution_count": 28,
   "id": "9adcf0a5-4033-485f-a6e3-e9f74d2a66ff",
   "metadata": {},
   "outputs": [
    {
     "name": "stdout",
     "output_type": "stream",
     "text": [
      "Column: Total net worth have 55 outliers.\n",
      "Column: $ Last change have 83 outliers.\n",
      "Column: $ YTD change have 63 outliers.\n"
     ]
    }
   ],
   "source": [
    "\n",
    "\n",
    "# Załóżmy, że mamy DataFrame 'df_ready'\n",
    "# df_ready = pd.read_csv('plik.csv')  # przykład wczytania danych, jeśli masz plik\n",
    "\n",
    "# Funkcja do wykrywania wartości odstających na podstawie IQR\n",
    "def detect_outliers_iqr(df_outliners):\n",
    "    outliers = {}\n",
    "    for column in df_outliners.select_dtypes(include=[float, int]).columns:\n",
    "        Q1 = df_outliners[column].quantile(0.25)  # pierwszy kwartyl\n",
    "        Q3 = df_outliners[column].quantile(0.75)  # trzeci kwartyl\n",
    "        IQR = Q3 - Q1  # rozstęp międzykwartylowy\n",
    "        \n",
    "        # Ustalamy granice dla wartości odstających\n",
    "        lower_bound = Q1 - 1.5 * IQR\n",
    "        upper_bound = Q3 + 1.5 * IQR\n",
    "        \n",
    "        # Wykrywamy wartości odstające\n",
    "        outliers[column] = df_outliners[(df_outliners[column] < lower_bound) | (df_outliners[column] > upper_bound)]\n",
    "    \n",
    "    return outliers\n",
    "\n",
    "# Wykrywanie wartości odstających w całym DataFrame\n",
    "outliers = detect_outliers_iqr(df_outliners)\n",
    "\n",
    "# Podsumowanie ilości wartości odstających dla każdej kolumny\n",
    "for column, outlier_data in outliers.items():\n",
    "    print(f'Column: {column} have {len(outlier_data)} outliers.')\n"
   ]
  },
  {
   "cell_type": "markdown",
   "id": "39965bd0-56c8-455a-8b8b-faf8952f1338",
   "metadata": {},
   "source": [
    "# Summary of the overall analysis"
   ]
  },
  {
   "cell_type": "markdown",
   "id": "81503e4a-6425-4348-92e9-b3538d6df858",
   "metadata": {},
   "source": [
    "### Conclusions:\n",
    "First Glance\n",
    "Regarding industries:\n",
    "\n",
    "The largest number of billionaires operates in the technology industry. Specifically, 83 individuals, representing 16.6% of the dataset population.  Interestingly, they collectively hold 31.3% of the wealth, amounting to 3,142.1 billion USD out of the total 500 billionaires.\n",
    "Their annual income in 2024 was 962.94 billion USD, constituting an impressive 54.2% of the total income of all 500 billionaires.\n",
    "Regarding total wealth across industries: We can distinguish four groups based on their total wealth, categorized as follows:\n",
    "\n",
    "\n",
    "A. From 9.7% to 8.1%:\n",
    "- Industrial\n",
    "- Financial\n",
    "- Retail\n",
    "- Diversified\n",
    "\n",
    "\n",
    "B. 4.9%:\n",
    "- Energy\n",
    "\n",
    "\n",
    "C. From 3.8% to 2.9%:\n",
    "- Food & Beverages\n",
    "- Healthcare\n",
    "- Real Estate\n",
    "- Commodities\n",
    "\n",
    "\n",
    "D. From 2.1% to 1.5%:\n",
    "- Media & Telecommunications\n",
    "- Services\n",
    "- Entertainment"
   ]
  },
  {
   "cell_type": "markdown",
   "id": "0af04d59-a21c-4b84-b7f4-7cdceb3fd957",
   "metadata": {},
   "source": [
    "### Regarding billionares net income:\n",
    "\n",
    "\n",
    "In addition to the technology sector, two other industries stand out:\n",
    "- Retail: 219.94 billion USD, 12%\n",
    "- Financial: 213.05 billion USD, 12%\n",
    "\n",
    "Following them:\n",
    "- Industrial: 104.39 billion USD, 5.9%\n",
    "\n",
    "\n",
    "Other industries:\n",
    "- Diversified\n",
    "- Energy\n",
    "- Healthcare\n",
    "- Services\n",
    "- Real Estate\n",
    "- Media & Telecommunications\n",
    "- Entertainment range from 3.7% to 1.2%.\n",
    "\n",
    "\n",
    "The last industry that generated a profit:\n",
    "- Food & Beverages: $5.65 billion USD, 0.3%\n",
    "\n",
    "\n",
    "Industries with negative income:\n",
    "- Consumer: -3.24 billion USD, -0.2%\n",
    "- Commodities: -3.41 billion USD, -0.2%"
   ]
  },
  {
   "cell_type": "markdown",
   "id": "151f2e21-21af-4b5d-8dfa-8d17c9eecb44",
   "metadata": {},
   "source": [
    "### Correlations:\n",
    "\n",
    "\n",
    "Very strong correlation between:\n",
    "\"YTD change\" and \"Total net worth\" at 0.82.\n",
    "\n",
    "\n",
    "Strong correlation between:\n",
    "\"YTD change\" and \"Last change\" at 0.79\n",
    "\n",
    "\n",
    "Moderately strong correlation between:\n",
    "\"Last change\" and \"Total net worth\" at 0.65."
   ]
  },
  {
   "cell_type": "markdown",
   "id": "f9d41477-037a-4b1f-90ed-fb5739ce3c56",
   "metadata": {},
   "source": [
    "### Trends:\n",
    "\n",
    "\n",
    "Based on the charts, the following trends can be observed:\n",
    "\n",
    "\n",
    "There is a noticeable negative correlation between \"Total net worth\" and \"$ YTD change\" in the \"Consumer\" industry, as well as a less pronounced negative correlation in \"Food & Beverages\".\n",
    "\n",
    "\n",
    "Positive but weak correlation exists in industries:\n",
    "- Diversified\n",
    "- Energy\n",
    "- Industrial\n",
    "- Real Estate\n",
    "- Commodities\n",
    "- Entertainment\n",
    "\n",
    "  \n",
    "In other industries, the correlation is clearly positive."
   ]
  },
  {
   "cell_type": "markdown",
   "id": "21774c2b-46ec-4a2c-980f-4c6d102d2628",
   "metadata": {},
   "source": [
    "### Outliers:\n",
    "\n",
    "\n",
    "- \"Total net worth\" has 55 outliers.\n",
    "- \"Last change\" has 83 outliers.\n",
    "- \"YTD change\" has 63 outliers.\n",
    "\n",
    "\n",
    "No outliers were observed in the following cases:\n",
    "\n",
    "\n",
    "Total net worth for billionaires in two industries:\n",
    "- Commodities\n",
    "- Real Estate\n",
    "\n",
    "\n",
    "Annual net income of billionaires in four industries:\n",
    "- Food & Beverages\n",
    "- Entertainment\n",
    "- Real Estate\n",
    "- Services\n",
    "\n",
    "\n",
    "Changes in last net worth:\n",
    "\n",
    "\n",
    "No outliers were detected for two industries:\n",
    "- Commodities\n",
    "- Real Estate\n",
    "\n",
    "\n",
    "\n",
    "\n",
    "\n"
   ]
  },
  {
   "cell_type": "code",
   "execution_count": null,
   "id": "5343208b-5726-459c-9bd9-276ea1b08787",
   "metadata": {},
   "outputs": [],
   "source": []
  }
 ],
 "metadata": {
  "kernelspec": {
   "display_name": "od_zera_do_ai",
   "language": "python",
   "name": "python3"
  },
  "language_info": {
   "codemirror_mode": {
    "name": "ipython",
    "version": 3
   },
   "file_extension": ".py",
   "mimetype": "text/x-python",
   "name": "python",
   "nbconvert_exporter": "python",
   "pygments_lexer": "ipython3",
   "version": "3.11.9"
  }
 },
 "nbformat": 4,
 "nbformat_minor": 5
}
